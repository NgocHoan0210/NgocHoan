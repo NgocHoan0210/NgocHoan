{
  "cells": [
    {
      "cell_type": "code",
      "execution_count": 1,
      "id": "d083605b",
      "metadata": {
        "_cell_guid": "b1076dfc-b9ad-4769-8c92-a6c4dae69d19",
        "_uuid": "8f2839f25d086af736a60e9eeb907d3b93b6e0e5",
        "execution": {
          "iopub.execute_input": "2022-09-14T09:37:48.135906Z",
          "iopub.status.busy": "2022-09-14T09:37:48.134801Z",
          "iopub.status.idle": "2022-09-14T09:37:48.156799Z",
          "shell.execute_reply": "2022-09-14T09:37:48.155831Z"
        },
        "papermill": {
          "duration": 0.051167,
          "end_time": "2022-09-14T09:37:48.160589",
          "exception": false,
          "start_time": "2022-09-14T09:37:48.109422",
          "status": "completed"
        },
        "tags": [],
        "id": "d083605b"
      },
      "outputs": [],
      "source": [
        "import numpy as np \n",
        "import pandas as pd \n",
        "import os\n",
        "#vizualize libraries**\n",
        "import seaborn as sns\n",
        "import matplotlib.pyplot as plt\n",
        "import warnings\n",
        "import plotly.express as px\n",
        "px_template = \"simple_white\""
      ]
    },
    {
      "cell_type": "code",
      "execution_count": 3,
      "id": "d76713eb",
      "metadata": {
        "execution": {
          "iopub.execute_input": "2022-09-14T09:37:49.229284Z",
          "iopub.status.busy": "2022-09-14T09:37:49.228811Z",
          "iopub.status.idle": "2022-09-14T09:37:50.156915Z",
          "shell.execute_reply": "2022-09-14T09:37:50.155586Z"
        },
        "papermill": {
          "duration": 0.958327,
          "end_time": "2022-09-14T09:37:50.159385",
          "exception": false,
          "start_time": "2022-09-14T09:37:49.201058",
          "status": "completed"
        },
        "tags": [],
        "colab": {
          "base_uri": "https://localhost:8080/",
          "height": 488
        },
        "id": "d76713eb",
        "outputId": "fad46c97-e344-481c-986e-d848fd2fb5af"
      },
      "outputs": [
        {
          "output_type": "execute_result",
          "data": {
            "text/plain": [
              "        Diabetes_binary  HighBP  HighChol  CholCheck   BMI  Smoker  Stroke  \\\n",
              "0                   0.0     1.0       1.0        1.0  40.0     1.0     0.0   \n",
              "1                   0.0     0.0       0.0        0.0  25.0     1.0     0.0   \n",
              "2                   0.0     1.0       1.0        1.0  28.0     0.0     0.0   \n",
              "3                   0.0     1.0       0.0        1.0  27.0     0.0     0.0   \n",
              "4                   0.0     1.0       1.0        1.0  24.0     0.0     0.0   \n",
              "...                 ...     ...       ...        ...   ...     ...     ...   \n",
              "253675              0.0     1.0       1.0        1.0  45.0     0.0     0.0   \n",
              "253676              1.0     1.0       1.0        1.0  18.0     0.0     0.0   \n",
              "253677              0.0     0.0       0.0        1.0  28.0     0.0     0.0   \n",
              "253678              0.0     1.0       0.0        1.0  23.0     0.0     0.0   \n",
              "253679              1.0     1.0       1.0        1.0  25.0     0.0     0.0   \n",
              "\n",
              "        HeartDiseaseorAttack  PhysActivity  Fruits  ...  AnyHealthcare  \\\n",
              "0                        0.0           0.0     0.0  ...            1.0   \n",
              "1                        0.0           1.0     0.0  ...            0.0   \n",
              "2                        0.0           0.0     1.0  ...            1.0   \n",
              "3                        0.0           1.0     1.0  ...            1.0   \n",
              "4                        0.0           1.0     1.0  ...            1.0   \n",
              "...                      ...           ...     ...  ...            ...   \n",
              "253675                   0.0           0.0     1.0  ...            1.0   \n",
              "253676                   0.0           0.0     0.0  ...            1.0   \n",
              "253677                   0.0           1.0     1.0  ...            1.0   \n",
              "253678                   0.0           0.0     1.0  ...            1.0   \n",
              "253679                   1.0           1.0     1.0  ...            1.0   \n",
              "\n",
              "        NoDocbcCost  GenHlth  MentHlth  PhysHlth  DiffWalk  Sex   Age  \\\n",
              "0               0.0      5.0      18.0      15.0       1.0  0.0   9.0   \n",
              "1               1.0      3.0       0.0       0.0       0.0  0.0   7.0   \n",
              "2               1.0      5.0      30.0      30.0       1.0  0.0   9.0   \n",
              "3               0.0      2.0       0.0       0.0       0.0  0.0  11.0   \n",
              "4               0.0      2.0       3.0       0.0       0.0  0.0  11.0   \n",
              "...             ...      ...       ...       ...       ...  ...   ...   \n",
              "253675          0.0      3.0       0.0       5.0       0.0  1.0   5.0   \n",
              "253676          0.0      4.0       0.0       0.0       1.0  0.0  11.0   \n",
              "253677          0.0      1.0       0.0       0.0       0.0  0.0   2.0   \n",
              "253678          0.0      3.0       0.0       0.0       0.0  1.0   7.0   \n",
              "253679          0.0      2.0       0.0       0.0       0.0  0.0   9.0   \n",
              "\n",
              "        Education  Income  \n",
              "0             4.0     3.0  \n",
              "1             6.0     1.0  \n",
              "2             4.0     8.0  \n",
              "3             3.0     6.0  \n",
              "4             5.0     4.0  \n",
              "...           ...     ...  \n",
              "253675        6.0     7.0  \n",
              "253676        2.0     4.0  \n",
              "253677        5.0     2.0  \n",
              "253678        5.0     1.0  \n",
              "253679        6.0     2.0  \n",
              "\n",
              "[253680 rows x 22 columns]"
            ],
            "text/html": [
              "\n",
              "  <div id=\"df-c2059564-974f-4a01-b77c-4404d3906811\">\n",
              "    <div class=\"colab-df-container\">\n",
              "      <div>\n",
              "<style scoped>\n",
              "    .dataframe tbody tr th:only-of-type {\n",
              "        vertical-align: middle;\n",
              "    }\n",
              "\n",
              "    .dataframe tbody tr th {\n",
              "        vertical-align: top;\n",
              "    }\n",
              "\n",
              "    .dataframe thead th {\n",
              "        text-align: right;\n",
              "    }\n",
              "</style>\n",
              "<table border=\"1\" class=\"dataframe\">\n",
              "  <thead>\n",
              "    <tr style=\"text-align: right;\">\n",
              "      <th></th>\n",
              "      <th>Diabetes_binary</th>\n",
              "      <th>HighBP</th>\n",
              "      <th>HighChol</th>\n",
              "      <th>CholCheck</th>\n",
              "      <th>BMI</th>\n",
              "      <th>Smoker</th>\n",
              "      <th>Stroke</th>\n",
              "      <th>HeartDiseaseorAttack</th>\n",
              "      <th>PhysActivity</th>\n",
              "      <th>Fruits</th>\n",
              "      <th>...</th>\n",
              "      <th>AnyHealthcare</th>\n",
              "      <th>NoDocbcCost</th>\n",
              "      <th>GenHlth</th>\n",
              "      <th>MentHlth</th>\n",
              "      <th>PhysHlth</th>\n",
              "      <th>DiffWalk</th>\n",
              "      <th>Sex</th>\n",
              "      <th>Age</th>\n",
              "      <th>Education</th>\n",
              "      <th>Income</th>\n",
              "    </tr>\n",
              "  </thead>\n",
              "  <tbody>\n",
              "    <tr>\n",
              "      <th>0</th>\n",
              "      <td>0.0</td>\n",
              "      <td>1.0</td>\n",
              "      <td>1.0</td>\n",
              "      <td>1.0</td>\n",
              "      <td>40.0</td>\n",
              "      <td>1.0</td>\n",
              "      <td>0.0</td>\n",
              "      <td>0.0</td>\n",
              "      <td>0.0</td>\n",
              "      <td>0.0</td>\n",
              "      <td>...</td>\n",
              "      <td>1.0</td>\n",
              "      <td>0.0</td>\n",
              "      <td>5.0</td>\n",
              "      <td>18.0</td>\n",
              "      <td>15.0</td>\n",
              "      <td>1.0</td>\n",
              "      <td>0.0</td>\n",
              "      <td>9.0</td>\n",
              "      <td>4.0</td>\n",
              "      <td>3.0</td>\n",
              "    </tr>\n",
              "    <tr>\n",
              "      <th>1</th>\n",
              "      <td>0.0</td>\n",
              "      <td>0.0</td>\n",
              "      <td>0.0</td>\n",
              "      <td>0.0</td>\n",
              "      <td>25.0</td>\n",
              "      <td>1.0</td>\n",
              "      <td>0.0</td>\n",
              "      <td>0.0</td>\n",
              "      <td>1.0</td>\n",
              "      <td>0.0</td>\n",
              "      <td>...</td>\n",
              "      <td>0.0</td>\n",
              "      <td>1.0</td>\n",
              "      <td>3.0</td>\n",
              "      <td>0.0</td>\n",
              "      <td>0.0</td>\n",
              "      <td>0.0</td>\n",
              "      <td>0.0</td>\n",
              "      <td>7.0</td>\n",
              "      <td>6.0</td>\n",
              "      <td>1.0</td>\n",
              "    </tr>\n",
              "    <tr>\n",
              "      <th>2</th>\n",
              "      <td>0.0</td>\n",
              "      <td>1.0</td>\n",
              "      <td>1.0</td>\n",
              "      <td>1.0</td>\n",
              "      <td>28.0</td>\n",
              "      <td>0.0</td>\n",
              "      <td>0.0</td>\n",
              "      <td>0.0</td>\n",
              "      <td>0.0</td>\n",
              "      <td>1.0</td>\n",
              "      <td>...</td>\n",
              "      <td>1.0</td>\n",
              "      <td>1.0</td>\n",
              "      <td>5.0</td>\n",
              "      <td>30.0</td>\n",
              "      <td>30.0</td>\n",
              "      <td>1.0</td>\n",
              "      <td>0.0</td>\n",
              "      <td>9.0</td>\n",
              "      <td>4.0</td>\n",
              "      <td>8.0</td>\n",
              "    </tr>\n",
              "    <tr>\n",
              "      <th>3</th>\n",
              "      <td>0.0</td>\n",
              "      <td>1.0</td>\n",
              "      <td>0.0</td>\n",
              "      <td>1.0</td>\n",
              "      <td>27.0</td>\n",
              "      <td>0.0</td>\n",
              "      <td>0.0</td>\n",
              "      <td>0.0</td>\n",
              "      <td>1.0</td>\n",
              "      <td>1.0</td>\n",
              "      <td>...</td>\n",
              "      <td>1.0</td>\n",
              "      <td>0.0</td>\n",
              "      <td>2.0</td>\n",
              "      <td>0.0</td>\n",
              "      <td>0.0</td>\n",
              "      <td>0.0</td>\n",
              "      <td>0.0</td>\n",
              "      <td>11.0</td>\n",
              "      <td>3.0</td>\n",
              "      <td>6.0</td>\n",
              "    </tr>\n",
              "    <tr>\n",
              "      <th>4</th>\n",
              "      <td>0.0</td>\n",
              "      <td>1.0</td>\n",
              "      <td>1.0</td>\n",
              "      <td>1.0</td>\n",
              "      <td>24.0</td>\n",
              "      <td>0.0</td>\n",
              "      <td>0.0</td>\n",
              "      <td>0.0</td>\n",
              "      <td>1.0</td>\n",
              "      <td>1.0</td>\n",
              "      <td>...</td>\n",
              "      <td>1.0</td>\n",
              "      <td>0.0</td>\n",
              "      <td>2.0</td>\n",
              "      <td>3.0</td>\n",
              "      <td>0.0</td>\n",
              "      <td>0.0</td>\n",
              "      <td>0.0</td>\n",
              "      <td>11.0</td>\n",
              "      <td>5.0</td>\n",
              "      <td>4.0</td>\n",
              "    </tr>\n",
              "    <tr>\n",
              "      <th>...</th>\n",
              "      <td>...</td>\n",
              "      <td>...</td>\n",
              "      <td>...</td>\n",
              "      <td>...</td>\n",
              "      <td>...</td>\n",
              "      <td>...</td>\n",
              "      <td>...</td>\n",
              "      <td>...</td>\n",
              "      <td>...</td>\n",
              "      <td>...</td>\n",
              "      <td>...</td>\n",
              "      <td>...</td>\n",
              "      <td>...</td>\n",
              "      <td>...</td>\n",
              "      <td>...</td>\n",
              "      <td>...</td>\n",
              "      <td>...</td>\n",
              "      <td>...</td>\n",
              "      <td>...</td>\n",
              "      <td>...</td>\n",
              "      <td>...</td>\n",
              "    </tr>\n",
              "    <tr>\n",
              "      <th>253675</th>\n",
              "      <td>0.0</td>\n",
              "      <td>1.0</td>\n",
              "      <td>1.0</td>\n",
              "      <td>1.0</td>\n",
              "      <td>45.0</td>\n",
              "      <td>0.0</td>\n",
              "      <td>0.0</td>\n",
              "      <td>0.0</td>\n",
              "      <td>0.0</td>\n",
              "      <td>1.0</td>\n",
              "      <td>...</td>\n",
              "      <td>1.0</td>\n",
              "      <td>0.0</td>\n",
              "      <td>3.0</td>\n",
              "      <td>0.0</td>\n",
              "      <td>5.0</td>\n",
              "      <td>0.0</td>\n",
              "      <td>1.0</td>\n",
              "      <td>5.0</td>\n",
              "      <td>6.0</td>\n",
              "      <td>7.0</td>\n",
              "    </tr>\n",
              "    <tr>\n",
              "      <th>253676</th>\n",
              "      <td>1.0</td>\n",
              "      <td>1.0</td>\n",
              "      <td>1.0</td>\n",
              "      <td>1.0</td>\n",
              "      <td>18.0</td>\n",
              "      <td>0.0</td>\n",
              "      <td>0.0</td>\n",
              "      <td>0.0</td>\n",
              "      <td>0.0</td>\n",
              "      <td>0.0</td>\n",
              "      <td>...</td>\n",
              "      <td>1.0</td>\n",
              "      <td>0.0</td>\n",
              "      <td>4.0</td>\n",
              "      <td>0.0</td>\n",
              "      <td>0.0</td>\n",
              "      <td>1.0</td>\n",
              "      <td>0.0</td>\n",
              "      <td>11.0</td>\n",
              "      <td>2.0</td>\n",
              "      <td>4.0</td>\n",
              "    </tr>\n",
              "    <tr>\n",
              "      <th>253677</th>\n",
              "      <td>0.0</td>\n",
              "      <td>0.0</td>\n",
              "      <td>0.0</td>\n",
              "      <td>1.0</td>\n",
              "      <td>28.0</td>\n",
              "      <td>0.0</td>\n",
              "      <td>0.0</td>\n",
              "      <td>0.0</td>\n",
              "      <td>1.0</td>\n",
              "      <td>1.0</td>\n",
              "      <td>...</td>\n",
              "      <td>1.0</td>\n",
              "      <td>0.0</td>\n",
              "      <td>1.0</td>\n",
              "      <td>0.0</td>\n",
              "      <td>0.0</td>\n",
              "      <td>0.0</td>\n",
              "      <td>0.0</td>\n",
              "      <td>2.0</td>\n",
              "      <td>5.0</td>\n",
              "      <td>2.0</td>\n",
              "    </tr>\n",
              "    <tr>\n",
              "      <th>253678</th>\n",
              "      <td>0.0</td>\n",
              "      <td>1.0</td>\n",
              "      <td>0.0</td>\n",
              "      <td>1.0</td>\n",
              "      <td>23.0</td>\n",
              "      <td>0.0</td>\n",
              "      <td>0.0</td>\n",
              "      <td>0.0</td>\n",
              "      <td>0.0</td>\n",
              "      <td>1.0</td>\n",
              "      <td>...</td>\n",
              "      <td>1.0</td>\n",
              "      <td>0.0</td>\n",
              "      <td>3.0</td>\n",
              "      <td>0.0</td>\n",
              "      <td>0.0</td>\n",
              "      <td>0.0</td>\n",
              "      <td>1.0</td>\n",
              "      <td>7.0</td>\n",
              "      <td>5.0</td>\n",
              "      <td>1.0</td>\n",
              "    </tr>\n",
              "    <tr>\n",
              "      <th>253679</th>\n",
              "      <td>1.0</td>\n",
              "      <td>1.0</td>\n",
              "      <td>1.0</td>\n",
              "      <td>1.0</td>\n",
              "      <td>25.0</td>\n",
              "      <td>0.0</td>\n",
              "      <td>0.0</td>\n",
              "      <td>1.0</td>\n",
              "      <td>1.0</td>\n",
              "      <td>1.0</td>\n",
              "      <td>...</td>\n",
              "      <td>1.0</td>\n",
              "      <td>0.0</td>\n",
              "      <td>2.0</td>\n",
              "      <td>0.0</td>\n",
              "      <td>0.0</td>\n",
              "      <td>0.0</td>\n",
              "      <td>0.0</td>\n",
              "      <td>9.0</td>\n",
              "      <td>6.0</td>\n",
              "      <td>2.0</td>\n",
              "    </tr>\n",
              "  </tbody>\n",
              "</table>\n",
              "<p>253680 rows × 22 columns</p>\n",
              "</div>\n",
              "      <button class=\"colab-df-convert\" onclick=\"convertToInteractive('df-c2059564-974f-4a01-b77c-4404d3906811')\"\n",
              "              title=\"Convert this dataframe to an interactive table.\"\n",
              "              style=\"display:none;\">\n",
              "        \n",
              "  <svg xmlns=\"http://www.w3.org/2000/svg\" height=\"24px\"viewBox=\"0 0 24 24\"\n",
              "       width=\"24px\">\n",
              "    <path d=\"M0 0h24v24H0V0z\" fill=\"none\"/>\n",
              "    <path d=\"M18.56 5.44l.94 2.06.94-2.06 2.06-.94-2.06-.94-.94-2.06-.94 2.06-2.06.94zm-11 1L8.5 8.5l.94-2.06 2.06-.94-2.06-.94L8.5 2.5l-.94 2.06-2.06.94zm10 10l.94 2.06.94-2.06 2.06-.94-2.06-.94-.94-2.06-.94 2.06-2.06.94z\"/><path d=\"M17.41 7.96l-1.37-1.37c-.4-.4-.92-.59-1.43-.59-.52 0-1.04.2-1.43.59L10.3 9.45l-7.72 7.72c-.78.78-.78 2.05 0 2.83L4 21.41c.39.39.9.59 1.41.59.51 0 1.02-.2 1.41-.59l7.78-7.78 2.81-2.81c.8-.78.8-2.07 0-2.86zM5.41 20L4 18.59l7.72-7.72 1.47 1.35L5.41 20z\"/>\n",
              "  </svg>\n",
              "      </button>\n",
              "      \n",
              "  <style>\n",
              "    .colab-df-container {\n",
              "      display:flex;\n",
              "      flex-wrap:wrap;\n",
              "      gap: 12px;\n",
              "    }\n",
              "\n",
              "    .colab-df-convert {\n",
              "      background-color: #E8F0FE;\n",
              "      border: none;\n",
              "      border-radius: 50%;\n",
              "      cursor: pointer;\n",
              "      display: none;\n",
              "      fill: #1967D2;\n",
              "      height: 32px;\n",
              "      padding: 0 0 0 0;\n",
              "      width: 32px;\n",
              "    }\n",
              "\n",
              "    .colab-df-convert:hover {\n",
              "      background-color: #E2EBFA;\n",
              "      box-shadow: 0px 1px 2px rgba(60, 64, 67, 0.3), 0px 1px 3px 1px rgba(60, 64, 67, 0.15);\n",
              "      fill: #174EA6;\n",
              "    }\n",
              "\n",
              "    [theme=dark] .colab-df-convert {\n",
              "      background-color: #3B4455;\n",
              "      fill: #D2E3FC;\n",
              "    }\n",
              "\n",
              "    [theme=dark] .colab-df-convert:hover {\n",
              "      background-color: #434B5C;\n",
              "      box-shadow: 0px 1px 3px 1px rgba(0, 0, 0, 0.15);\n",
              "      filter: drop-shadow(0px 1px 2px rgba(0, 0, 0, 0.3));\n",
              "      fill: #FFFFFF;\n",
              "    }\n",
              "  </style>\n",
              "\n",
              "      <script>\n",
              "        const buttonEl =\n",
              "          document.querySelector('#df-c2059564-974f-4a01-b77c-4404d3906811 button.colab-df-convert');\n",
              "        buttonEl.style.display =\n",
              "          google.colab.kernel.accessAllowed ? 'block' : 'none';\n",
              "\n",
              "        async function convertToInteractive(key) {\n",
              "          const element = document.querySelector('#df-c2059564-974f-4a01-b77c-4404d3906811');\n",
              "          const dataTable =\n",
              "            await google.colab.kernel.invokeFunction('convertToInteractive',\n",
              "                                                     [key], {});\n",
              "          if (!dataTable) return;\n",
              "\n",
              "          const docLinkHtml = 'Like what you see? Visit the ' +\n",
              "            '<a target=\"_blank\" href=https://colab.research.google.com/notebooks/data_table.ipynb>data table notebook</a>'\n",
              "            + ' to learn more about interactive tables.';\n",
              "          element.innerHTML = '';\n",
              "          dataTable['output_type'] = 'display_data';\n",
              "          await google.colab.output.renderOutput(dataTable, element);\n",
              "          const docLink = document.createElement('div');\n",
              "          docLink.innerHTML = docLinkHtml;\n",
              "          element.appendChild(docLink);\n",
              "        }\n",
              "      </script>\n",
              "    </div>\n",
              "  </div>\n",
              "  "
            ]
          },
          "metadata": {},
          "execution_count": 3
        }
      ],
      "source": [
        "df1=pd.read_csv('/content/drive/MyDrive/HK5/archive/diabetes_binary_health_indicators_BRFSS2015.csv')\n",
        "df1"
      ]
    },
    {
      "cell_type": "markdown",
      "id": "ae37366d",
      "metadata": {
        "papermill": {
          "duration": 0.022208,
          "end_time": "2022-09-14T09:37:50.204064",
          "exception": false,
          "start_time": "2022-09-14T09:37:50.181856",
          "status": "completed"
        },
        "tags": [],
        "id": "ae37366d"
      },
      "source": [
        "##Kiểm tra data"
      ]
    },
    {
      "cell_type": "code",
      "execution_count": 4,
      "id": "0002af8f",
      "metadata": {
        "execution": {
          "iopub.execute_input": "2022-09-14T09:37:50.250793Z",
          "iopub.status.busy": "2022-09-14T09:37:50.250031Z",
          "iopub.status.idle": "2022-09-14T09:37:50.296788Z",
          "shell.execute_reply": "2022-09-14T09:37:50.295385Z"
        },
        "papermill": {
          "duration": 0.073312,
          "end_time": "2022-09-14T09:37:50.299532",
          "exception": false,
          "start_time": "2022-09-14T09:37:50.226220",
          "status": "completed"
        },
        "tags": [],
        "colab": {
          "base_uri": "https://localhost:8080/"
        },
        "id": "0002af8f",
        "outputId": "dac2e1c6-2abd-4b4a-ee4d-f35ff08c5fdd"
      },
      "outputs": [
        {
          "output_type": "stream",
          "name": "stdout",
          "text": [
            "<class 'pandas.core.frame.DataFrame'>\n",
            "RangeIndex: 253680 entries, 0 to 253679\n",
            "Data columns (total 22 columns):\n",
            " #   Column                Non-Null Count   Dtype  \n",
            "---  ------                --------------   -----  \n",
            " 0   Diabetes_binary       253680 non-null  float64\n",
            " 1   HighBP                253680 non-null  float64\n",
            " 2   HighChol              253680 non-null  float64\n",
            " 3   CholCheck             253680 non-null  float64\n",
            " 4   BMI                   253680 non-null  float64\n",
            " 5   Smoker                253680 non-null  float64\n",
            " 6   Stroke                253680 non-null  float64\n",
            " 7   HeartDiseaseorAttack  253680 non-null  float64\n",
            " 8   PhysActivity          253680 non-null  float64\n",
            " 9   Fruits                253680 non-null  float64\n",
            " 10  Veggies               253680 non-null  float64\n",
            " 11  HvyAlcoholConsump     253680 non-null  float64\n",
            " 12  AnyHealthcare         253680 non-null  float64\n",
            " 13  NoDocbcCost           253680 non-null  float64\n",
            " 14  GenHlth               253680 non-null  float64\n",
            " 15  MentHlth              253680 non-null  float64\n",
            " 16  PhysHlth              253680 non-null  float64\n",
            " 17  DiffWalk              253680 non-null  float64\n",
            " 18  Sex                   253680 non-null  float64\n",
            " 19  Age                   253680 non-null  float64\n",
            " 20  Education             253680 non-null  float64\n",
            " 21  Income                253680 non-null  float64\n",
            "dtypes: float64(22)\n",
            "memory usage: 42.6 MB\n"
          ]
        }
      ],
      "source": [
        "df1.info()"
      ]
    },
    {
      "cell_type": "code",
      "execution_count": 5,
      "id": "06ca8b10",
      "metadata": {
        "execution": {
          "iopub.execute_input": "2022-09-14T09:37:50.347093Z",
          "iopub.status.busy": "2022-09-14T09:37:50.346666Z",
          "iopub.status.idle": "2022-09-14T09:37:50.367758Z",
          "shell.execute_reply": "2022-09-14T09:37:50.366553Z"
        },
        "papermill": {
          "duration": 0.047808,
          "end_time": "2022-09-14T09:37:50.370361",
          "exception": false,
          "start_time": "2022-09-14T09:37:50.322553",
          "status": "completed"
        },
        "tags": [],
        "colab": {
          "base_uri": "https://localhost:8080/"
        },
        "id": "06ca8b10",
        "outputId": "704d653b-5245-4234-af8e-3d168d81be90"
      },
      "outputs": [
        {
          "output_type": "execute_result",
          "data": {
            "text/plain": [
              "Diabetes_binary         0\n",
              "HighBP                  0\n",
              "Education               0\n",
              "Age                     0\n",
              "Sex                     0\n",
              "DiffWalk                0\n",
              "PhysHlth                0\n",
              "MentHlth                0\n",
              "GenHlth                 0\n",
              "NoDocbcCost             0\n",
              "AnyHealthcare           0\n",
              "HvyAlcoholConsump       0\n",
              "Veggies                 0\n",
              "Fruits                  0\n",
              "PhysActivity            0\n",
              "HeartDiseaseorAttack    0\n",
              "Stroke                  0\n",
              "Smoker                  0\n",
              "BMI                     0\n",
              "CholCheck               0\n",
              "HighChol                0\n",
              "Income                  0\n",
              "dtype: int64"
            ]
          },
          "metadata": {},
          "execution_count": 5
        }
      ],
      "source": [
        "df1.isnull().sum().sort_values(ascending=False)"
      ]
    },
    {
      "cell_type": "markdown",
      "id": "5fb279d7",
      "metadata": {
        "papermill": {
          "duration": 0.023453,
          "end_time": "2022-09-14T09:37:52.886534",
          "exception": false,
          "start_time": "2022-09-14T09:37:52.863081",
          "status": "completed"
        },
        "tags": [],
        "id": "5fb279d7"
      },
      "source": [
        "#Kiểm tra các giá trị duy nhất trong các biến khác nhau"
      ]
    },
    {
      "cell_type": "code",
      "execution_count": 6,
      "id": "4683715d",
      "metadata": {
        "execution": {
          "iopub.execute_input": "2022-09-14T09:37:52.934091Z",
          "iopub.status.busy": "2022-09-14T09:37:52.933682Z",
          "iopub.status.idle": "2022-09-14T09:37:53.037588Z",
          "shell.execute_reply": "2022-09-14T09:37:53.036322Z"
        },
        "papermill": {
          "duration": 0.131261,
          "end_time": "2022-09-14T09:37:53.040269",
          "exception": false,
          "start_time": "2022-09-14T09:37:52.909008",
          "status": "completed"
        },
        "tags": [],
        "colab": {
          "base_uri": "https://localhost:8080/",
          "height": 739
        },
        "id": "4683715d",
        "outputId": "7742eff7-3450-4fd5-f727-7d113a2d14f5"
      },
      "outputs": [
        {
          "output_type": "execute_result",
          "data": {
            "text/plain": [
              "                      unique value count\n",
              "Diabetes_binary                        2\n",
              "HighBP                                 2\n",
              "HighChol                               2\n",
              "CholCheck                              2\n",
              "BMI                                   84\n",
              "Smoker                                 2\n",
              "Stroke                                 2\n",
              "HeartDiseaseorAttack                   2\n",
              "PhysActivity                           2\n",
              "Fruits                                 2\n",
              "Veggies                                2\n",
              "HvyAlcoholConsump                      2\n",
              "AnyHealthcare                          2\n",
              "NoDocbcCost                            2\n",
              "GenHlth                                5\n",
              "MentHlth                              31\n",
              "PhysHlth                              31\n",
              "DiffWalk                               2\n",
              "Sex                                    2\n",
              "Age                                   13\n",
              "Education                              6\n",
              "Income                                 8"
            ],
            "text/html": [
              "\n",
              "  <div id=\"df-d39f0cad-6792-4127-923c-1d7ccebc7c2b\">\n",
              "    <div class=\"colab-df-container\">\n",
              "      <div>\n",
              "<style scoped>\n",
              "    .dataframe tbody tr th:only-of-type {\n",
              "        vertical-align: middle;\n",
              "    }\n",
              "\n",
              "    .dataframe tbody tr th {\n",
              "        vertical-align: top;\n",
              "    }\n",
              "\n",
              "    .dataframe thead th {\n",
              "        text-align: right;\n",
              "    }\n",
              "</style>\n",
              "<table border=\"1\" class=\"dataframe\">\n",
              "  <thead>\n",
              "    <tr style=\"text-align: right;\">\n",
              "      <th></th>\n",
              "      <th>unique value count</th>\n",
              "    </tr>\n",
              "  </thead>\n",
              "  <tbody>\n",
              "    <tr>\n",
              "      <th>Diabetes_binary</th>\n",
              "      <td>2</td>\n",
              "    </tr>\n",
              "    <tr>\n",
              "      <th>HighBP</th>\n",
              "      <td>2</td>\n",
              "    </tr>\n",
              "    <tr>\n",
              "      <th>HighChol</th>\n",
              "      <td>2</td>\n",
              "    </tr>\n",
              "    <tr>\n",
              "      <th>CholCheck</th>\n",
              "      <td>2</td>\n",
              "    </tr>\n",
              "    <tr>\n",
              "      <th>BMI</th>\n",
              "      <td>84</td>\n",
              "    </tr>\n",
              "    <tr>\n",
              "      <th>Smoker</th>\n",
              "      <td>2</td>\n",
              "    </tr>\n",
              "    <tr>\n",
              "      <th>Stroke</th>\n",
              "      <td>2</td>\n",
              "    </tr>\n",
              "    <tr>\n",
              "      <th>HeartDiseaseorAttack</th>\n",
              "      <td>2</td>\n",
              "    </tr>\n",
              "    <tr>\n",
              "      <th>PhysActivity</th>\n",
              "      <td>2</td>\n",
              "    </tr>\n",
              "    <tr>\n",
              "      <th>Fruits</th>\n",
              "      <td>2</td>\n",
              "    </tr>\n",
              "    <tr>\n",
              "      <th>Veggies</th>\n",
              "      <td>2</td>\n",
              "    </tr>\n",
              "    <tr>\n",
              "      <th>HvyAlcoholConsump</th>\n",
              "      <td>2</td>\n",
              "    </tr>\n",
              "    <tr>\n",
              "      <th>AnyHealthcare</th>\n",
              "      <td>2</td>\n",
              "    </tr>\n",
              "    <tr>\n",
              "      <th>NoDocbcCost</th>\n",
              "      <td>2</td>\n",
              "    </tr>\n",
              "    <tr>\n",
              "      <th>GenHlth</th>\n",
              "      <td>5</td>\n",
              "    </tr>\n",
              "    <tr>\n",
              "      <th>MentHlth</th>\n",
              "      <td>31</td>\n",
              "    </tr>\n",
              "    <tr>\n",
              "      <th>PhysHlth</th>\n",
              "      <td>31</td>\n",
              "    </tr>\n",
              "    <tr>\n",
              "      <th>DiffWalk</th>\n",
              "      <td>2</td>\n",
              "    </tr>\n",
              "    <tr>\n",
              "      <th>Sex</th>\n",
              "      <td>2</td>\n",
              "    </tr>\n",
              "    <tr>\n",
              "      <th>Age</th>\n",
              "      <td>13</td>\n",
              "    </tr>\n",
              "    <tr>\n",
              "      <th>Education</th>\n",
              "      <td>6</td>\n",
              "    </tr>\n",
              "    <tr>\n",
              "      <th>Income</th>\n",
              "      <td>8</td>\n",
              "    </tr>\n",
              "  </tbody>\n",
              "</table>\n",
              "</div>\n",
              "      <button class=\"colab-df-convert\" onclick=\"convertToInteractive('df-d39f0cad-6792-4127-923c-1d7ccebc7c2b')\"\n",
              "              title=\"Convert this dataframe to an interactive table.\"\n",
              "              style=\"display:none;\">\n",
              "        \n",
              "  <svg xmlns=\"http://www.w3.org/2000/svg\" height=\"24px\"viewBox=\"0 0 24 24\"\n",
              "       width=\"24px\">\n",
              "    <path d=\"M0 0h24v24H0V0z\" fill=\"none\"/>\n",
              "    <path d=\"M18.56 5.44l.94 2.06.94-2.06 2.06-.94-2.06-.94-.94-2.06-.94 2.06-2.06.94zm-11 1L8.5 8.5l.94-2.06 2.06-.94-2.06-.94L8.5 2.5l-.94 2.06-2.06.94zm10 10l.94 2.06.94-2.06 2.06-.94-2.06-.94-.94-2.06-.94 2.06-2.06.94z\"/><path d=\"M17.41 7.96l-1.37-1.37c-.4-.4-.92-.59-1.43-.59-.52 0-1.04.2-1.43.59L10.3 9.45l-7.72 7.72c-.78.78-.78 2.05 0 2.83L4 21.41c.39.39.9.59 1.41.59.51 0 1.02-.2 1.41-.59l7.78-7.78 2.81-2.81c.8-.78.8-2.07 0-2.86zM5.41 20L4 18.59l7.72-7.72 1.47 1.35L5.41 20z\"/>\n",
              "  </svg>\n",
              "      </button>\n",
              "      \n",
              "  <style>\n",
              "    .colab-df-container {\n",
              "      display:flex;\n",
              "      flex-wrap:wrap;\n",
              "      gap: 12px;\n",
              "    }\n",
              "\n",
              "    .colab-df-convert {\n",
              "      background-color: #E8F0FE;\n",
              "      border: none;\n",
              "      border-radius: 50%;\n",
              "      cursor: pointer;\n",
              "      display: none;\n",
              "      fill: #1967D2;\n",
              "      height: 32px;\n",
              "      padding: 0 0 0 0;\n",
              "      width: 32px;\n",
              "    }\n",
              "\n",
              "    .colab-df-convert:hover {\n",
              "      background-color: #E2EBFA;\n",
              "      box-shadow: 0px 1px 2px rgba(60, 64, 67, 0.3), 0px 1px 3px 1px rgba(60, 64, 67, 0.15);\n",
              "      fill: #174EA6;\n",
              "    }\n",
              "\n",
              "    [theme=dark] .colab-df-convert {\n",
              "      background-color: #3B4455;\n",
              "      fill: #D2E3FC;\n",
              "    }\n",
              "\n",
              "    [theme=dark] .colab-df-convert:hover {\n",
              "      background-color: #434B5C;\n",
              "      box-shadow: 0px 1px 3px 1px rgba(0, 0, 0, 0.15);\n",
              "      filter: drop-shadow(0px 1px 2px rgba(0, 0, 0, 0.3));\n",
              "      fill: #FFFFFF;\n",
              "    }\n",
              "  </style>\n",
              "\n",
              "      <script>\n",
              "        const buttonEl =\n",
              "          document.querySelector('#df-d39f0cad-6792-4127-923c-1d7ccebc7c2b button.colab-df-convert');\n",
              "        buttonEl.style.display =\n",
              "          google.colab.kernel.accessAllowed ? 'block' : 'none';\n",
              "\n",
              "        async function convertToInteractive(key) {\n",
              "          const element = document.querySelector('#df-d39f0cad-6792-4127-923c-1d7ccebc7c2b');\n",
              "          const dataTable =\n",
              "            await google.colab.kernel.invokeFunction('convertToInteractive',\n",
              "                                                     [key], {});\n",
              "          if (!dataTable) return;\n",
              "\n",
              "          const docLinkHtml = 'Like what you see? Visit the ' +\n",
              "            '<a target=\"_blank\" href=https://colab.research.google.com/notebooks/data_table.ipynb>data table notebook</a>'\n",
              "            + ' to learn more about interactive tables.';\n",
              "          element.innerHTML = '';\n",
              "          dataTable['output_type'] = 'display_data';\n",
              "          await google.colab.output.renderOutput(dataTable, element);\n",
              "          const docLink = document.createElement('div');\n",
              "          docLink.innerHTML = docLinkHtml;\n",
              "          element.appendChild(docLink);\n",
              "        }\n",
              "      </script>\n",
              "    </div>\n",
              "  </div>\n",
              "  "
            ]
          },
          "metadata": {},
          "execution_count": 6
        }
      ],
      "source": [
        "unique_values = {}\n",
        "for col in df1.columns:\n",
        "    unique_values[col] = df1[col].value_counts().shape[0]\n",
        "\n",
        "pd.DataFrame(unique_values, index=['unique value count']).transpose()"
      ]
    },
    {
      "cell_type": "code",
      "execution_count": 7,
      "id": "99f97cc7",
      "metadata": {
        "execution": {
          "iopub.execute_input": "2022-09-14T09:37:53.089424Z",
          "iopub.status.busy": "2022-09-14T09:37:53.088412Z",
          "iopub.status.idle": "2022-09-14T09:37:53.095296Z",
          "shell.execute_reply": "2022-09-14T09:37:53.094319Z"
        },
        "papermill": {
          "duration": 0.03443,
          "end_time": "2022-09-14T09:37:53.097815",
          "exception": false,
          "start_time": "2022-09-14T09:37:53.063385",
          "status": "completed"
        },
        "tags": [],
        "colab": {
          "base_uri": "https://localhost:8080/"
        },
        "id": "99f97cc7",
        "outputId": "fa04defe-6fda-4688-e925-6634a13c264a"
      },
      "outputs": [
        {
          "output_type": "execute_result",
          "data": {
            "text/plain": [
              "(253680, 22)"
            ]
          },
          "metadata": {},
          "execution_count": 7
        }
      ],
      "source": [
        "df1.shape"
      ]
    },
    {
      "cell_type": "code",
      "execution_count": 8,
      "id": "214c8470",
      "metadata": {
        "execution": {
          "iopub.execute_input": "2022-09-14T09:37:53.146649Z",
          "iopub.status.busy": "2022-09-14T09:37:53.145908Z",
          "iopub.status.idle": "2022-09-14T09:37:53.331664Z",
          "shell.execute_reply": "2022-09-14T09:37:53.330704Z"
        },
        "papermill": {
          "duration": 0.213535,
          "end_time": "2022-09-14T09:37:53.334316",
          "exception": false,
          "start_time": "2022-09-14T09:37:53.120781",
          "status": "completed"
        },
        "tags": [],
        "colab": {
          "base_uri": "https://localhost:8080/",
          "height": 317
        },
        "id": "214c8470",
        "outputId": "121dfef0-b1cd-4e31-a912-a1605692b04b"
      },
      "outputs": [
        {
          "output_type": "stream",
          "name": "stdout",
          "text": [
            "Duplicate Rows :  24206\n"
          ]
        },
        {
          "output_type": "execute_result",
          "data": {
            "text/plain": [
              "      Diabetes_binary  HighBP  HighChol  CholCheck   BMI  Smoker  Stroke  \\\n",
              "1242              1.0     1.0       1.0        1.0  27.0     1.0     0.0   \n",
              "1563              0.0     0.0       0.0        1.0  21.0     1.0     0.0   \n",
              "2700              0.0     0.0       0.0        1.0  32.0     0.0     0.0   \n",
              "3160              0.0     0.0       0.0        1.0  21.0     0.0     0.0   \n",
              "3332              0.0     0.0       0.0        1.0  24.0     0.0     0.0   \n",
              "\n",
              "      HeartDiseaseorAttack  PhysActivity  Fruits  ...  AnyHealthcare  \\\n",
              "1242                   0.0           0.0     0.0  ...            1.0   \n",
              "1563                   0.0           1.0     1.0  ...            1.0   \n",
              "2700                   0.0           1.0     1.0  ...            1.0   \n",
              "3160                   0.0           1.0     1.0  ...            1.0   \n",
              "3332                   0.0           1.0     1.0  ...            1.0   \n",
              "\n",
              "      NoDocbcCost  GenHlth  MentHlth  PhysHlth  DiffWalk  Sex   Age  \\\n",
              "1242          0.0      5.0       0.0      30.0       1.0  0.0  10.0   \n",
              "1563          0.0      1.0       0.0       0.0       0.0  0.0   4.0   \n",
              "2700          0.0      2.0       0.0       0.0       0.0  0.0   5.0   \n",
              "3160          0.0      1.0       0.0       0.0       0.0  0.0   4.0   \n",
              "3332          0.0      1.0       0.0       0.0       0.0  1.0   9.0   \n",
              "\n",
              "      Education  Income  \n",
              "1242        4.0     5.0  \n",
              "1563        6.0     8.0  \n",
              "2700        6.0     8.0  \n",
              "3160        6.0     8.0  \n",
              "3332        6.0     8.0  \n",
              "\n",
              "[5 rows x 22 columns]"
            ],
            "text/html": [
              "\n",
              "  <div id=\"df-c09b4c9e-d21b-40a1-8807-e5f49df083d0\">\n",
              "    <div class=\"colab-df-container\">\n",
              "      <div>\n",
              "<style scoped>\n",
              "    .dataframe tbody tr th:only-of-type {\n",
              "        vertical-align: middle;\n",
              "    }\n",
              "\n",
              "    .dataframe tbody tr th {\n",
              "        vertical-align: top;\n",
              "    }\n",
              "\n",
              "    .dataframe thead th {\n",
              "        text-align: right;\n",
              "    }\n",
              "</style>\n",
              "<table border=\"1\" class=\"dataframe\">\n",
              "  <thead>\n",
              "    <tr style=\"text-align: right;\">\n",
              "      <th></th>\n",
              "      <th>Diabetes_binary</th>\n",
              "      <th>HighBP</th>\n",
              "      <th>HighChol</th>\n",
              "      <th>CholCheck</th>\n",
              "      <th>BMI</th>\n",
              "      <th>Smoker</th>\n",
              "      <th>Stroke</th>\n",
              "      <th>HeartDiseaseorAttack</th>\n",
              "      <th>PhysActivity</th>\n",
              "      <th>Fruits</th>\n",
              "      <th>...</th>\n",
              "      <th>AnyHealthcare</th>\n",
              "      <th>NoDocbcCost</th>\n",
              "      <th>GenHlth</th>\n",
              "      <th>MentHlth</th>\n",
              "      <th>PhysHlth</th>\n",
              "      <th>DiffWalk</th>\n",
              "      <th>Sex</th>\n",
              "      <th>Age</th>\n",
              "      <th>Education</th>\n",
              "      <th>Income</th>\n",
              "    </tr>\n",
              "  </thead>\n",
              "  <tbody>\n",
              "    <tr>\n",
              "      <th>1242</th>\n",
              "      <td>1.0</td>\n",
              "      <td>1.0</td>\n",
              "      <td>1.0</td>\n",
              "      <td>1.0</td>\n",
              "      <td>27.0</td>\n",
              "      <td>1.0</td>\n",
              "      <td>0.0</td>\n",
              "      <td>0.0</td>\n",
              "      <td>0.0</td>\n",
              "      <td>0.0</td>\n",
              "      <td>...</td>\n",
              "      <td>1.0</td>\n",
              "      <td>0.0</td>\n",
              "      <td>5.0</td>\n",
              "      <td>0.0</td>\n",
              "      <td>30.0</td>\n",
              "      <td>1.0</td>\n",
              "      <td>0.0</td>\n",
              "      <td>10.0</td>\n",
              "      <td>4.0</td>\n",
              "      <td>5.0</td>\n",
              "    </tr>\n",
              "    <tr>\n",
              "      <th>1563</th>\n",
              "      <td>0.0</td>\n",
              "      <td>0.0</td>\n",
              "      <td>0.0</td>\n",
              "      <td>1.0</td>\n",
              "      <td>21.0</td>\n",
              "      <td>1.0</td>\n",
              "      <td>0.0</td>\n",
              "      <td>0.0</td>\n",
              "      <td>1.0</td>\n",
              "      <td>1.0</td>\n",
              "      <td>...</td>\n",
              "      <td>1.0</td>\n",
              "      <td>0.0</td>\n",
              "      <td>1.0</td>\n",
              "      <td>0.0</td>\n",
              "      <td>0.0</td>\n",
              "      <td>0.0</td>\n",
              "      <td>0.0</td>\n",
              "      <td>4.0</td>\n",
              "      <td>6.0</td>\n",
              "      <td>8.0</td>\n",
              "    </tr>\n",
              "    <tr>\n",
              "      <th>2700</th>\n",
              "      <td>0.0</td>\n",
              "      <td>0.0</td>\n",
              "      <td>0.0</td>\n",
              "      <td>1.0</td>\n",
              "      <td>32.0</td>\n",
              "      <td>0.0</td>\n",
              "      <td>0.0</td>\n",
              "      <td>0.0</td>\n",
              "      <td>1.0</td>\n",
              "      <td>1.0</td>\n",
              "      <td>...</td>\n",
              "      <td>1.0</td>\n",
              "      <td>0.0</td>\n",
              "      <td>2.0</td>\n",
              "      <td>0.0</td>\n",
              "      <td>0.0</td>\n",
              "      <td>0.0</td>\n",
              "      <td>0.0</td>\n",
              "      <td>5.0</td>\n",
              "      <td>6.0</td>\n",
              "      <td>8.0</td>\n",
              "    </tr>\n",
              "    <tr>\n",
              "      <th>3160</th>\n",
              "      <td>0.0</td>\n",
              "      <td>0.0</td>\n",
              "      <td>0.0</td>\n",
              "      <td>1.0</td>\n",
              "      <td>21.0</td>\n",
              "      <td>0.0</td>\n",
              "      <td>0.0</td>\n",
              "      <td>0.0</td>\n",
              "      <td>1.0</td>\n",
              "      <td>1.0</td>\n",
              "      <td>...</td>\n",
              "      <td>1.0</td>\n",
              "      <td>0.0</td>\n",
              "      <td>1.0</td>\n",
              "      <td>0.0</td>\n",
              "      <td>0.0</td>\n",
              "      <td>0.0</td>\n",
              "      <td>0.0</td>\n",
              "      <td>4.0</td>\n",
              "      <td>6.0</td>\n",
              "      <td>8.0</td>\n",
              "    </tr>\n",
              "    <tr>\n",
              "      <th>3332</th>\n",
              "      <td>0.0</td>\n",
              "      <td>0.0</td>\n",
              "      <td>0.0</td>\n",
              "      <td>1.0</td>\n",
              "      <td>24.0</td>\n",
              "      <td>0.0</td>\n",
              "      <td>0.0</td>\n",
              "      <td>0.0</td>\n",
              "      <td>1.0</td>\n",
              "      <td>1.0</td>\n",
              "      <td>...</td>\n",
              "      <td>1.0</td>\n",
              "      <td>0.0</td>\n",
              "      <td>1.0</td>\n",
              "      <td>0.0</td>\n",
              "      <td>0.0</td>\n",
              "      <td>0.0</td>\n",
              "      <td>1.0</td>\n",
              "      <td>9.0</td>\n",
              "      <td>6.0</td>\n",
              "      <td>8.0</td>\n",
              "    </tr>\n",
              "  </tbody>\n",
              "</table>\n",
              "<p>5 rows × 22 columns</p>\n",
              "</div>\n",
              "      <button class=\"colab-df-convert\" onclick=\"convertToInteractive('df-c09b4c9e-d21b-40a1-8807-e5f49df083d0')\"\n",
              "              title=\"Convert this dataframe to an interactive table.\"\n",
              "              style=\"display:none;\">\n",
              "        \n",
              "  <svg xmlns=\"http://www.w3.org/2000/svg\" height=\"24px\"viewBox=\"0 0 24 24\"\n",
              "       width=\"24px\">\n",
              "    <path d=\"M0 0h24v24H0V0z\" fill=\"none\"/>\n",
              "    <path d=\"M18.56 5.44l.94 2.06.94-2.06 2.06-.94-2.06-.94-.94-2.06-.94 2.06-2.06.94zm-11 1L8.5 8.5l.94-2.06 2.06-.94-2.06-.94L8.5 2.5l-.94 2.06-2.06.94zm10 10l.94 2.06.94-2.06 2.06-.94-2.06-.94-.94-2.06-.94 2.06-2.06.94z\"/><path d=\"M17.41 7.96l-1.37-1.37c-.4-.4-.92-.59-1.43-.59-.52 0-1.04.2-1.43.59L10.3 9.45l-7.72 7.72c-.78.78-.78 2.05 0 2.83L4 21.41c.39.39.9.59 1.41.59.51 0 1.02-.2 1.41-.59l7.78-7.78 2.81-2.81c.8-.78.8-2.07 0-2.86zM5.41 20L4 18.59l7.72-7.72 1.47 1.35L5.41 20z\"/>\n",
              "  </svg>\n",
              "      </button>\n",
              "      \n",
              "  <style>\n",
              "    .colab-df-container {\n",
              "      display:flex;\n",
              "      flex-wrap:wrap;\n",
              "      gap: 12px;\n",
              "    }\n",
              "\n",
              "    .colab-df-convert {\n",
              "      background-color: #E8F0FE;\n",
              "      border: none;\n",
              "      border-radius: 50%;\n",
              "      cursor: pointer;\n",
              "      display: none;\n",
              "      fill: #1967D2;\n",
              "      height: 32px;\n",
              "      padding: 0 0 0 0;\n",
              "      width: 32px;\n",
              "    }\n",
              "\n",
              "    .colab-df-convert:hover {\n",
              "      background-color: #E2EBFA;\n",
              "      box-shadow: 0px 1px 2px rgba(60, 64, 67, 0.3), 0px 1px 3px 1px rgba(60, 64, 67, 0.15);\n",
              "      fill: #174EA6;\n",
              "    }\n",
              "\n",
              "    [theme=dark] .colab-df-convert {\n",
              "      background-color: #3B4455;\n",
              "      fill: #D2E3FC;\n",
              "    }\n",
              "\n",
              "    [theme=dark] .colab-df-convert:hover {\n",
              "      background-color: #434B5C;\n",
              "      box-shadow: 0px 1px 3px 1px rgba(0, 0, 0, 0.15);\n",
              "      filter: drop-shadow(0px 1px 2px rgba(0, 0, 0, 0.3));\n",
              "      fill: #FFFFFF;\n",
              "    }\n",
              "  </style>\n",
              "\n",
              "      <script>\n",
              "        const buttonEl =\n",
              "          document.querySelector('#df-c09b4c9e-d21b-40a1-8807-e5f49df083d0 button.colab-df-convert');\n",
              "        buttonEl.style.display =\n",
              "          google.colab.kernel.accessAllowed ? 'block' : 'none';\n",
              "\n",
              "        async function convertToInteractive(key) {\n",
              "          const element = document.querySelector('#df-c09b4c9e-d21b-40a1-8807-e5f49df083d0');\n",
              "          const dataTable =\n",
              "            await google.colab.kernel.invokeFunction('convertToInteractive',\n",
              "                                                     [key], {});\n",
              "          if (!dataTable) return;\n",
              "\n",
              "          const docLinkHtml = 'Like what you see? Visit the ' +\n",
              "            '<a target=\"_blank\" href=https://colab.research.google.com/notebooks/data_table.ipynb>data table notebook</a>'\n",
              "            + ' to learn more about interactive tables.';\n",
              "          element.innerHTML = '';\n",
              "          dataTable['output_type'] = 'display_data';\n",
              "          await google.colab.output.renderOutput(dataTable, element);\n",
              "          const docLink = document.createElement('div');\n",
              "          docLink.innerHTML = docLinkHtml;\n",
              "          element.appendChild(docLink);\n",
              "        }\n",
              "      </script>\n",
              "    </div>\n",
              "  </div>\n",
              "  "
            ]
          },
          "metadata": {},
          "execution_count": 8
        }
      ],
      "source": [
        "#Kiểm tra các hàng trùng lặp trong tập dữ liệu df1 để loại bỏ chúng\n",
        "\n",
        "duplicates = df1[df1.duplicated()]\n",
        "print(\"Duplicate Rows : \",len(duplicates))\n",
        "duplicates.head()"
      ]
    },
    {
      "cell_type": "markdown",
      "id": "15935c1f",
      "metadata": {
        "papermill": {
          "duration": 0.022624,
          "end_time": "2022-09-14T09:37:53.380631",
          "exception": false,
          "start_time": "2022-09-14T09:37:53.358007",
          "status": "completed"
        },
        "tags": [],
        "id": "15935c1f"
      },
      "source": [
        "* Có 24206 hàng trùng lặp trong df1"
      ]
    },
    {
      "cell_type": "code",
      "execution_count": 9,
      "id": "b9ab64b0",
      "metadata": {
        "execution": {
          "iopub.execute_input": "2022-09-14T09:37:53.430059Z",
          "iopub.status.busy": "2022-09-14T09:37:53.429267Z",
          "iopub.status.idle": "2022-09-14T09:37:53.594253Z",
          "shell.execute_reply": "2022-09-14T09:37:53.593046Z"
        },
        "papermill": {
          "duration": 0.192952,
          "end_time": "2022-09-14T09:37:53.597319",
          "exception": false,
          "start_time": "2022-09-14T09:37:53.404367",
          "status": "completed"
        },
        "tags": [],
        "id": "b9ab64b0"
      },
      "outputs": [],
      "source": [
        "#xóa trùng lặp trong hàng\n",
        "\n",
        "df1.drop_duplicates(inplace=True)"
      ]
    },
    {
      "cell_type": "code",
      "execution_count": 10,
      "id": "2cd53663",
      "metadata": {
        "execution": {
          "iopub.execute_input": "2022-09-14T09:37:53.645105Z",
          "iopub.status.busy": "2022-09-14T09:37:53.644345Z",
          "iopub.status.idle": "2022-09-14T09:37:53.651708Z",
          "shell.execute_reply": "2022-09-14T09:37:53.650523Z"
        },
        "papermill": {
          "duration": 0.033862,
          "end_time": "2022-09-14T09:37:53.654104",
          "exception": false,
          "start_time": "2022-09-14T09:37:53.620242",
          "status": "completed"
        },
        "tags": [],
        "colab": {
          "base_uri": "https://localhost:8080/"
        },
        "id": "2cd53663",
        "outputId": "24a5c3b4-e3cb-47f8-a54b-072093b94c79"
      },
      "outputs": [
        {
          "output_type": "execute_result",
          "data": {
            "text/plain": [
              "(229474, 22)"
            ]
          },
          "metadata": {},
          "execution_count": 10
        }
      ],
      "source": [
        "#check shape\n",
        "df1.shape"
      ]
    },
    {
      "cell_type": "code",
      "execution_count": 11,
      "id": "99ef498c",
      "metadata": {
        "execution": {
          "iopub.execute_input": "2022-09-14T09:37:53.703616Z",
          "iopub.status.busy": "2022-09-14T09:37:53.702774Z",
          "iopub.status.idle": "2022-09-14T09:37:57.374187Z",
          "shell.execute_reply": "2022-09-14T09:37:57.372737Z"
        },
        "papermill": {
          "duration": 3.699549,
          "end_time": "2022-09-14T09:37:57.376934",
          "exception": false,
          "start_time": "2022-09-14T09:37:53.677385",
          "status": "completed"
        },
        "tags": [],
        "colab": {
          "base_uri": "https://localhost:8080/",
          "height": 879
        },
        "id": "99ef498c",
        "outputId": "cbb2b565-168b-4e40-ebd3-1ace09948ae0"
      },
      "outputs": [
        {
          "output_type": "display_data",
          "data": {
            "text/plain": [
              "<Figure size 1440x1080 with 25 Axes>"
            ],
            "image/png": "[encoded data removed]"
          },
          "metadata": {
            "needs_background": "light"
          }
        }
      ],
      "source": [
        "#sử dụng histgram để hiểu tập dữ liệu\n",
        "\n",
        "df1.hist(figsize=(20,15));"
      ]
    },
    {
      "cell_type": "markdown",
      "id": "0a057de1",
      "metadata": {
        "papermill": {
          "duration": 0.024335,
          "end_time": "2022-09-14T09:37:57.426240",
          "exception": false,
          "start_time": "2022-09-14T09:37:57.401905",
          "status": "completed"
        },
        "tags": [],
        "id": "0a057de1"
      },
      "source": [
        "#Tương quan giữa dữ liệu"
      ]
    },
    {
      "cell_type": "code",
      "execution_count": 12,
      "id": "89e7f571",
      "metadata": {
        "execution": {
          "iopub.execute_input": "2022-09-14T09:37:57.477606Z",
          "iopub.status.busy": "2022-09-14T09:37:57.476753Z",
          "iopub.status.idle": "2022-09-14T09:37:57.851558Z",
          "shell.execute_reply": "2022-09-14T09:37:57.850601Z"
        },
        "papermill": {
          "duration": 0.403145,
          "end_time": "2022-09-14T09:37:57.854030",
          "exception": false,
          "start_time": "2022-09-14T09:37:57.450885",
          "status": "completed"
        },
        "tags": [],
        "colab": {
          "base_uri": "https://localhost:8080/",
          "height": 832
        },
        "id": "89e7f571",
        "outputId": "a6c8a792-b043-4df7-f350-fd476bf256ae"
      },
      "outputs": [
        {
          "output_type": "execute_result",
          "data": {
            "text/plain": [
              "                      Diabetes_binary    HighBP  HighChol  CholCheck  \\\n",
              "Diabetes_binary              1.000000  0.254318  0.194944   0.072523   \n",
              "HighBP                       0.254318  1.000000  0.283963   0.111259   \n",
              "HighChol                     0.194944  0.283963  1.000000   0.094772   \n",
              "CholCheck                    0.072523  0.111259  0.094772   1.000000   \n",
              "BMI                          0.205086  0.194218  0.089734   0.042487   \n",
              "Smoker                       0.045504  0.074264  0.074583  -0.003721   \n",
              "Stroke                       0.099193  0.124558  0.089375   0.027955   \n",
              "HeartDiseaseorAttack         0.168213  0.201443  0.176446   0.050086   \n",
              "PhysActivity                -0.100404 -0.104382 -0.063443  -0.004555   \n",
              "Fruits                      -0.024805 -0.019467 -0.026257   0.017860   \n",
              "Veggies                     -0.041734 -0.042994 -0.027399  -0.000653   \n",
              "HvyAlcoholConsump           -0.065950 -0.014178 -0.019057  -0.020975   \n",
              "AnyHealthcare                0.025331  0.052044  0.052363   0.115498   \n",
              "NoDocbcCost                  0.020048  0.002292  0.003020  -0.054128   \n",
              "GenHlth                      0.276940  0.272784  0.188139   0.062939   \n",
              "MentHlth                     0.054153  0.037482  0.050346  -0.001430   \n",
              "PhysHlth                     0.156211  0.144656  0.111008   0.040758   \n",
              "DiffWalk                     0.205302  0.211759  0.136045   0.049107   \n",
              "Sex                          0.032724  0.047119  0.022859  -0.024332   \n",
              "Age                          0.177263  0.339802  0.263841   0.095942   \n",
              "Education                   -0.102686 -0.112887 -0.050045  -0.009935   \n",
              "Income                      -0.140659 -0.140030 -0.062089   0.001989   \n",
              "\n",
              "                           BMI    Smoker    Stroke  HeartDiseaseorAttack  \\\n",
              "Diabetes_binary       0.205086  0.045504  0.099193              0.168213   \n",
              "HighBP                0.194218  0.074264  0.124558              0.201443   \n",
              "HighChol              0.089734  0.074583  0.089375              0.176446   \n",
              "CholCheck             0.042487 -0.003721  0.027955              0.050086   \n",
              "BMI                   1.000000 -0.009294  0.011006              0.039820   \n",
              "Smoker               -0.009294  1.000000  0.054414              0.105169   \n",
              "Stroke                0.011006  0.054414  1.000000              0.198814   \n",
              "HeartDiseaseorAttack  0.039820  0.105169  0.198814              1.000000   \n",
              "PhysActivity         -0.127780 -0.066869 -0.059306             -0.073094   \n",
              "Fruits               -0.067424 -0.061731 -0.004486             -0.006946   \n",
              "Veggies              -0.044054 -0.013744 -0.033029             -0.027180   \n",
              "HvyAlcoholConsump    -0.058420  0.096048 -0.021347             -0.035561   \n",
              "AnyHealthcare        -0.008519 -0.013963  0.013627              0.025987   \n",
              "NoDocbcCost           0.045795  0.037335  0.028613              0.021971   \n",
              "GenHlth               0.208351  0.134894  0.169809              0.246328   \n",
              "MentHlth              0.068569  0.077641  0.061996              0.052601   \n",
              "PhysHlth              0.102768  0.100447  0.140806              0.170335   \n",
              "DiffWalk              0.182556  0.108144  0.169339              0.202657   \n",
              "Sex                   0.030902  0.096650  0.003626              0.089828   \n",
              "Age                  -0.049223  0.107695  0.128209              0.223912   \n",
              "Education            -0.074433 -0.135657 -0.064178             -0.082288   \n",
              "Income               -0.069097 -0.095314 -0.117108             -0.122728   \n",
              "\n",
              "                      PhysActivity    Fruits  ...  AnyHealthcare  NoDocbcCost  \\\n",
              "Diabetes_binary          -0.100404 -0.024805  ...       0.025331     0.020048   \n",
              "HighBP                   -0.104382 -0.019467  ...       0.052044     0.002292   \n",
              "HighChol                 -0.063443 -0.026257  ...       0.052363     0.003020   \n",
              "CholCheck                -0.004555  0.017860  ...       0.115498    -0.054128   \n",
              "BMI                      -0.127780 -0.067424  ...      -0.008519     0.045795   \n",
              "Smoker                   -0.066869 -0.061731  ...      -0.013963     0.037335   \n",
              "Stroke                   -0.059306 -0.004486  ...       0.013627     0.028613   \n",
              "HeartDiseaseorAttack     -0.073094 -0.006946  ...       0.025987     0.021971   \n",
              "PhysActivity              1.000000  0.125023  ...       0.023959    -0.046440   \n",
              "Fruits                    0.125023  1.000000  ...       0.022659    -0.032387   \n",
              "Veggies                   0.135240  0.242941  ...       0.020530    -0.019876   \n",
              "HvyAlcoholConsump         0.023378 -0.028221  ...      -0.006202    -0.001272   \n",
              "AnyHealthcare             0.023959  0.022659  ...       1.000000    -0.227469   \n",
              "NoDocbcCost              -0.046440 -0.032387  ...      -0.227469     1.000000   \n",
              "GenHlth                  -0.237511 -0.071221  ...      -0.023286     0.149690   \n",
              "MentHlth                 -0.105914 -0.052191  ...      -0.043582     0.181769   \n",
              "PhysHlth                 -0.199307 -0.024441  ...       0.002924     0.136421   \n",
              "DiffWalk                 -0.235719 -0.029932  ...       0.017714     0.106225   \n",
              "Sex                       0.033516 -0.088768  ...      -0.021221    -0.046507   \n",
              "Age                      -0.087881  0.073515  ...       0.147465    -0.130115   \n",
              "Education                 0.170931  0.084857  ...       0.111367    -0.083260   \n",
              "Income                    0.165869  0.050907  ...       0.146144    -0.187577   \n",
              "\n",
              "                       GenHlth  MentHlth  PhysHlth  DiffWalk       Sex  \\\n",
              "Diabetes_binary       0.276940  0.054153  0.156211  0.205302  0.032724   \n",
              "HighBP                0.272784  0.037482  0.144656  0.211759  0.047119   \n",
              "HighChol              0.188139  0.050346  0.111008  0.136045  0.022859   \n",
              "CholCheck             0.062939 -0.001430  0.040758  0.049107 -0.024332   \n",
              "BMI                   0.208351  0.068569  0.102768  0.182556  0.030902   \n",
              "Smoker                0.134894  0.077641  0.100447  0.108144  0.096650   \n",
              "Stroke                0.169809  0.061996  0.140806  0.169339  0.003626   \n",
              "HeartDiseaseorAttack  0.246328  0.052601  0.170335  0.202657  0.089828   \n",
              "PhysActivity         -0.237511 -0.105914 -0.199307 -0.235719  0.033516   \n",
              "Fruits               -0.071221 -0.052191 -0.024441 -0.029932 -0.088768   \n",
              "Veggies              -0.094115 -0.042215 -0.045130 -0.063189 -0.066113   \n",
              "HvyAlcoholConsump    -0.055783  0.016852 -0.036860 -0.047655  0.009435   \n",
              "AnyHealthcare        -0.023286 -0.043582  0.002924  0.017714 -0.021221   \n",
              "NoDocbcCost           0.149690  0.181769  0.136421  0.106225 -0.046507   \n",
              "GenHlth               1.000000  0.283822  0.516476  0.446696 -0.010519   \n",
              "MentHlth              0.283822  1.000000  0.340191  0.218733 -0.083836   \n",
              "PhysHlth              0.516476  0.340191  1.000000  0.466852 -0.044433   \n",
              "DiffWalk              0.446696  0.218733  0.466852  1.000000 -0.073405   \n",
              "Sex                  -0.010519 -0.083836 -0.044433 -0.073405  1.000000   \n",
              "Age                   0.145769 -0.103355  0.095483  0.205754 -0.031862   \n",
              "Education            -0.244752 -0.076122 -0.127687 -0.169350  0.015956   \n",
              "Income               -0.331782 -0.185689 -0.240929 -0.299064  0.130997   \n",
              "\n",
              "                           Age  Education    Income  \n",
              "Diabetes_binary       0.177263  -0.102686 -0.140659  \n",
              "HighBP                0.339802  -0.112887 -0.140030  \n",
              "HighChol              0.263841  -0.050045 -0.062089  \n",
              "CholCheck             0.095942  -0.009935  0.001989  \n",
              "BMI                  -0.049223  -0.074433 -0.069097  \n",
              "Smoker                0.107695  -0.135657 -0.095314  \n",
              "Stroke                0.128209  -0.064178 -0.117108  \n",
              "HeartDiseaseorAttack  0.223912  -0.082288 -0.122728  \n",
              "PhysActivity         -0.087881   0.170931  0.165869  \n",
              "Fruits                0.073515   0.084857  0.050907  \n",
              "Veggies              -0.003856   0.131624  0.125068  \n",
              "HvyAlcoholConsump    -0.041018   0.039132  0.071863  \n",
              "AnyHealthcare         0.147465   0.111367  0.146144  \n",
              "NoDocbcCost          -0.130115  -0.083260 -0.187577  \n",
              "GenHlth               0.145769  -0.244752 -0.331782  \n",
              "MentHlth             -0.103355  -0.076122 -0.185689  \n",
              "PhysHlth              0.095483  -0.127687 -0.240929  \n",
              "DiffWalk              0.205754  -0.169350 -0.299064  \n",
              "Sex                  -0.031862   0.015956  0.130997  \n",
              "Age                   1.000000  -0.092747 -0.116361  \n",
              "Education            -0.092747   1.000000  0.419045  \n",
              "Income               -0.116361   0.419045  1.000000  \n",
              "\n",
              "[22 rows x 22 columns]"
            ],
            "text/html": [
              "\n",
              "  <div id=\"df-abdb7d34-eab1-498d-b804-310981072557\">\n",
              "    <div class=\"colab-df-container\">\n",
              "      <div>\n",
              "<style scoped>\n",
              "    .dataframe tbody tr th:only-of-type {\n",
              "        vertical-align: middle;\n",
              "    }\n",
              "\n",
              "    .dataframe tbody tr th {\n",
              "        vertical-align: top;\n",
              "    }\n",
              "\n",
              "    .dataframe thead th {\n",
              "        text-align: right;\n",
              "    }\n",
              "</style>\n",
              "<table border=\"1\" class=\"dataframe\">\n",
              "  <thead>\n",
              "    <tr style=\"text-align: right;\">\n",
              "      <th></th>\n",
              "      <th>Diabetes_binary</th>\n",
              "      <th>HighBP</th>\n",
              "      <th>HighChol</th>\n",
              "      <th>CholCheck</th>\n",
              "      <th>BMI</th>\n",
              "      <th>Smoker</th>\n",
              "      <th>Stroke</th>\n",
              "      <th>HeartDiseaseorAttack</th>\n",
              "      <th>PhysActivity</th>\n",
              "      <th>Fruits</th>\n",
              "      <th>...</th>\n",
              "      <th>AnyHealthcare</th>\n",
              "      <th>NoDocbcCost</th>\n",
              "      <th>GenHlth</th>\n",
              "      <th>MentHlth</th>\n",
              "      <th>PhysHlth</th>\n",
              "      <th>DiffWalk</th>\n",
              "      <th>Sex</th>\n",
              "      <th>Age</th>\n",
              "      <th>Education</th>\n",
              "      <th>Income</th>\n",
              "    </tr>\n",
              "  </thead>\n",
              "  <tbody>\n",
              "    <tr>\n",
              "      <th>Diabetes_binary</th>\n",
              "      <td>1.000000</td>\n",
              "      <td>0.254318</td>\n",
              "      <td>0.194944</td>\n",
              "      <td>0.072523</td>\n",
              "      <td>0.205086</td>\n",
              "      <td>0.045504</td>\n",
              "      <td>0.099193</td>\n",
              "      <td>0.168213</td>\n",
              "      <td>-0.100404</td>\n",
              "      <td>-0.024805</td>\n",
              "      <td>...</td>\n",
              "      <td>0.025331</td>\n",
              "      <td>0.020048</td>\n",
              "      <td>0.276940</td>\n",
              "      <td>0.054153</td>\n",
              "      <td>0.156211</td>\n",
              "      <td>0.205302</td>\n",
              "      <td>0.032724</td>\n",
              "      <td>0.177263</td>\n",
              "      <td>-0.102686</td>\n",
              "      <td>-0.140659</td>\n",
              "    </tr>\n",
              "    <tr>\n",
              "      <th>HighBP</th>\n",
              "      <td>0.254318</td>\n",
              "      <td>1.000000</td>\n",
              "      <td>0.283963</td>\n",
              "      <td>0.111259</td>\n",
              "      <td>0.194218</td>\n",
              "      <td>0.074264</td>\n",
              "      <td>0.124558</td>\n",
              "      <td>0.201443</td>\n",
              "      <td>-0.104382</td>\n",
              "      <td>-0.019467</td>\n",
              "      <td>...</td>\n",
              "      <td>0.052044</td>\n",
              "      <td>0.002292</td>\n",
              "      <td>0.272784</td>\n",
              "      <td>0.037482</td>\n",
              "      <td>0.144656</td>\n",
              "      <td>0.211759</td>\n",
              "      <td>0.047119</td>\n",
              "      <td>0.339802</td>\n",
              "      <td>-0.112887</td>\n",
              "      <td>-0.140030</td>\n",
              "    </tr>\n",
              "    <tr>\n",
              "      <th>HighChol</th>\n",
              "      <td>0.194944</td>\n",
              "      <td>0.283963</td>\n",
              "      <td>1.000000</td>\n",
              "      <td>0.094772</td>\n",
              "      <td>0.089734</td>\n",
              "      <td>0.074583</td>\n",
              "      <td>0.089375</td>\n",
              "      <td>0.176446</td>\n",
              "      <td>-0.063443</td>\n",
              "      <td>-0.026257</td>\n",
              "      <td>...</td>\n",
              "      <td>0.052363</td>\n",
              "      <td>0.003020</td>\n",
              "      <td>0.188139</td>\n",
              "      <td>0.050346</td>\n",
              "      <td>0.111008</td>\n",
              "      <td>0.136045</td>\n",
              "      <td>0.022859</td>\n",
              "      <td>0.263841</td>\n",
              "      <td>-0.050045</td>\n",
              "      <td>-0.062089</td>\n",
              "    </tr>\n",
              "    <tr>\n",
              "      <th>CholCheck</th>\n",
              "      <td>0.072523</td>\n",
              "      <td>0.111259</td>\n",
              "      <td>0.094772</td>\n",
              "      <td>1.000000</td>\n",
              "      <td>0.042487</td>\n",
              "      <td>-0.003721</td>\n",
              "      <td>0.027955</td>\n",
              "      <td>0.050086</td>\n",
              "      <td>-0.004555</td>\n",
              "      <td>0.017860</td>\n",
              "      <td>...</td>\n",
              "      <td>0.115498</td>\n",
              "      <td>-0.054128</td>\n",
              "      <td>0.062939</td>\n",
              "      <td>-0.001430</td>\n",
              "      <td>0.040758</td>\n",
              "      <td>0.049107</td>\n",
              "      <td>-0.024332</td>\n",
              "      <td>0.095942</td>\n",
              "      <td>-0.009935</td>\n",
              "      <td>0.001989</td>\n",
              "    </tr>\n",
              "    <tr>\n",
              "      <th>BMI</th>\n",
              "      <td>0.205086</td>\n",
              "      <td>0.194218</td>\n",
              "      <td>0.089734</td>\n",
              "      <td>0.042487</td>\n",
              "      <td>1.000000</td>\n",
              "      <td>-0.009294</td>\n",
              "      <td>0.011006</td>\n",
              "      <td>0.039820</td>\n",
              "      <td>-0.127780</td>\n",
              "      <td>-0.067424</td>\n",
              "      <td>...</td>\n",
              "      <td>-0.008519</td>\n",
              "      <td>0.045795</td>\n",
              "      <td>0.208351</td>\n",
              "      <td>0.068569</td>\n",
              "      <td>0.102768</td>\n",
              "      <td>0.182556</td>\n",
              "      <td>0.030902</td>\n",
              "      <td>-0.049223</td>\n",
              "      <td>-0.074433</td>\n",
              "      <td>-0.069097</td>\n",
              "    </tr>\n",
              "    <tr>\n",
              "      <th>Smoker</th>\n",
              "      <td>0.045504</td>\n",
              "      <td>0.074264</td>\n",
              "      <td>0.074583</td>\n",
              "      <td>-0.003721</td>\n",
              "      <td>-0.009294</td>\n",
              "      <td>1.000000</td>\n",
              "      <td>0.054414</td>\n",
              "      <td>0.105169</td>\n",
              "      <td>-0.066869</td>\n",
              "      <td>-0.061731</td>\n",
              "      <td>...</td>\n",
              "      <td>-0.013963</td>\n",
              "      <td>0.037335</td>\n",
              "      <td>0.134894</td>\n",
              "      <td>0.077641</td>\n",
              "      <td>0.100447</td>\n",
              "      <td>0.108144</td>\n",
              "      <td>0.096650</td>\n",
              "      <td>0.107695</td>\n",
              "      <td>-0.135657</td>\n",
              "      <td>-0.095314</td>\n",
              "    </tr>\n",
              "    <tr>\n",
              "      <th>Stroke</th>\n",
              "      <td>0.099193</td>\n",
              "      <td>0.124558</td>\n",
              "      <td>0.089375</td>\n",
              "      <td>0.027955</td>\n",
              "      <td>0.011006</td>\n",
              "      <td>0.054414</td>\n",
              "      <td>1.000000</td>\n",
              "      <td>0.198814</td>\n",
              "      <td>-0.059306</td>\n",
              "      <td>-0.004486</td>\n",
              "      <td>...</td>\n",
              "      <td>0.013627</td>\n",
              "      <td>0.028613</td>\n",
              "      <td>0.169809</td>\n",
              "      <td>0.061996</td>\n",
              "      <td>0.140806</td>\n",
              "      <td>0.169339</td>\n",
              "      <td>0.003626</td>\n",
              "      <td>0.128209</td>\n",
              "      <td>-0.064178</td>\n",
              "      <td>-0.117108</td>\n",
              "    </tr>\n",
              "    <tr>\n",
              "      <th>HeartDiseaseorAttack</th>\n",
              "      <td>0.168213</td>\n",
              "      <td>0.201443</td>\n",
              "      <td>0.176446</td>\n",
              "      <td>0.050086</td>\n",
              "      <td>0.039820</td>\n",
              "      <td>0.105169</td>\n",
              "      <td>0.198814</td>\n",
              "      <td>1.000000</td>\n",
              "      <td>-0.073094</td>\n",
              "      <td>-0.006946</td>\n",
              "      <td>...</td>\n",
              "      <td>0.025987</td>\n",
              "      <td>0.021971</td>\n",
              "      <td>0.246328</td>\n",
              "      <td>0.052601</td>\n",
              "      <td>0.170335</td>\n",
              "      <td>0.202657</td>\n",
              "      <td>0.089828</td>\n",
              "      <td>0.223912</td>\n",
              "      <td>-0.082288</td>\n",
              "      <td>-0.122728</td>\n",
              "    </tr>\n",
              "    <tr>\n",
              "      <th>PhysActivity</th>\n",
              "      <td>-0.100404</td>\n",
              "      <td>-0.104382</td>\n",
              "      <td>-0.063443</td>\n",
              "      <td>-0.004555</td>\n",
              "      <td>-0.127780</td>\n",
              "      <td>-0.066869</td>\n",
              "      <td>-0.059306</td>\n",
              "      <td>-0.073094</td>\n",
              "      <td>1.000000</td>\n",
              "      <td>0.125023</td>\n",
              "      <td>...</td>\n",
              "      <td>0.023959</td>\n",
              "      <td>-0.046440</td>\n",
              "      <td>-0.237511</td>\n",
              "      <td>-0.105914</td>\n",
              "      <td>-0.199307</td>\n",
              "      <td>-0.235719</td>\n",
              "      <td>0.033516</td>\n",
              "      <td>-0.087881</td>\n",
              "      <td>0.170931</td>\n",
              "      <td>0.165869</td>\n",
              "    </tr>\n",
              "    <tr>\n",
              "      <th>Fruits</th>\n",
              "      <td>-0.024805</td>\n",
              "      <td>-0.019467</td>\n",
              "      <td>-0.026257</td>\n",
              "      <td>0.017860</td>\n",
              "      <td>-0.067424</td>\n",
              "      <td>-0.061731</td>\n",
              "      <td>-0.004486</td>\n",
              "      <td>-0.006946</td>\n",
              "      <td>0.125023</td>\n",
              "      <td>1.000000</td>\n",
              "      <td>...</td>\n",
              "      <td>0.022659</td>\n",
              "      <td>-0.032387</td>\n",
              "      <td>-0.071221</td>\n",
              "      <td>-0.052191</td>\n",
              "      <td>-0.024441</td>\n",
              "      <td>-0.029932</td>\n",
              "      <td>-0.088768</td>\n",
              "      <td>0.073515</td>\n",
              "      <td>0.084857</td>\n",
              "      <td>0.050907</td>\n",
              "    </tr>\n",
              "    <tr>\n",
              "      <th>Veggies</th>\n",
              "      <td>-0.041734</td>\n",
              "      <td>-0.042994</td>\n",
              "      <td>-0.027399</td>\n",
              "      <td>-0.000653</td>\n",
              "      <td>-0.044054</td>\n",
              "      <td>-0.013744</td>\n",
              "      <td>-0.033029</td>\n",
              "      <td>-0.027180</td>\n",
              "      <td>0.135240</td>\n",
              "      <td>0.242941</td>\n",
              "      <td>...</td>\n",
              "      <td>0.020530</td>\n",
              "      <td>-0.019876</td>\n",
              "      <td>-0.094115</td>\n",
              "      <td>-0.042215</td>\n",
              "      <td>-0.045130</td>\n",
              "      <td>-0.063189</td>\n",
              "      <td>-0.066113</td>\n",
              "      <td>-0.003856</td>\n",
              "      <td>0.131624</td>\n",
              "      <td>0.125068</td>\n",
              "    </tr>\n",
              "    <tr>\n",
              "      <th>HvyAlcoholConsump</th>\n",
              "      <td>-0.065950</td>\n",
              "      <td>-0.014178</td>\n",
              "      <td>-0.019057</td>\n",
              "      <td>-0.020975</td>\n",
              "      <td>-0.058420</td>\n",
              "      <td>0.096048</td>\n",
              "      <td>-0.021347</td>\n",
              "      <td>-0.035561</td>\n",
              "      <td>0.023378</td>\n",
              "      <td>-0.028221</td>\n",
              "      <td>...</td>\n",
              "      <td>-0.006202</td>\n",
              "      <td>-0.001272</td>\n",
              "      <td>-0.055783</td>\n",
              "      <td>0.016852</td>\n",
              "      <td>-0.036860</td>\n",
              "      <td>-0.047655</td>\n",
              "      <td>0.009435</td>\n",
              "      <td>-0.041018</td>\n",
              "      <td>0.039132</td>\n",
              "      <td>0.071863</td>\n",
              "    </tr>\n",
              "    <tr>\n",
              "      <th>AnyHealthcare</th>\n",
              "      <td>0.025331</td>\n",
              "      <td>0.052044</td>\n",
              "      <td>0.052363</td>\n",
              "      <td>0.115498</td>\n",
              "      <td>-0.008519</td>\n",
              "      <td>-0.013963</td>\n",
              "      <td>0.013627</td>\n",
              "      <td>0.025987</td>\n",
              "      <td>0.023959</td>\n",
              "      <td>0.022659</td>\n",
              "      <td>...</td>\n",
              "      <td>1.000000</td>\n",
              "      <td>-0.227469</td>\n",
              "      <td>-0.023286</td>\n",
              "      <td>-0.043582</td>\n",
              "      <td>0.002924</td>\n",
              "      <td>0.017714</td>\n",
              "      <td>-0.021221</td>\n",
              "      <td>0.147465</td>\n",
              "      <td>0.111367</td>\n",
              "      <td>0.146144</td>\n",
              "    </tr>\n",
              "    <tr>\n",
              "      <th>NoDocbcCost</th>\n",
              "      <td>0.020048</td>\n",
              "      <td>0.002292</td>\n",
              "      <td>0.003020</td>\n",
              "      <td>-0.054128</td>\n",
              "      <td>0.045795</td>\n",
              "      <td>0.037335</td>\n",
              "      <td>0.028613</td>\n",
              "      <td>0.021971</td>\n",
              "      <td>-0.046440</td>\n",
              "      <td>-0.032387</td>\n",
              "      <td>...</td>\n",
              "      <td>-0.227469</td>\n",
              "      <td>1.000000</td>\n",
              "      <td>0.149690</td>\n",
              "      <td>0.181769</td>\n",
              "      <td>0.136421</td>\n",
              "      <td>0.106225</td>\n",
              "      <td>-0.046507</td>\n",
              "      <td>-0.130115</td>\n",
              "      <td>-0.083260</td>\n",
              "      <td>-0.187577</td>\n",
              "    </tr>\n",
              "    <tr>\n",
              "      <th>GenHlth</th>\n",
              "      <td>0.276940</td>\n",
              "      <td>0.272784</td>\n",
              "      <td>0.188139</td>\n",
              "      <td>0.062939</td>\n",
              "      <td>0.208351</td>\n",
              "      <td>0.134894</td>\n",
              "      <td>0.169809</td>\n",
              "      <td>0.246328</td>\n",
              "      <td>-0.237511</td>\n",
              "      <td>-0.071221</td>\n",
              "      <td>...</td>\n",
              "      <td>-0.023286</td>\n",
              "      <td>0.149690</td>\n",
              "      <td>1.000000</td>\n",
              "      <td>0.283822</td>\n",
              "      <td>0.516476</td>\n",
              "      <td>0.446696</td>\n",
              "      <td>-0.010519</td>\n",
              "      <td>0.145769</td>\n",
              "      <td>-0.244752</td>\n",
              "      <td>-0.331782</td>\n",
              "    </tr>\n",
              "    <tr>\n",
              "      <th>MentHlth</th>\n",
              "      <td>0.054153</td>\n",
              "      <td>0.037482</td>\n",
              "      <td>0.050346</td>\n",
              "      <td>-0.001430</td>\n",
              "      <td>0.068569</td>\n",
              "      <td>0.077641</td>\n",
              "      <td>0.061996</td>\n",
              "      <td>0.052601</td>\n",
              "      <td>-0.105914</td>\n",
              "      <td>-0.052191</td>\n",
              "      <td>...</td>\n",
              "      <td>-0.043582</td>\n",
              "      <td>0.181769</td>\n",
              "      <td>0.283822</td>\n",
              "      <td>1.000000</td>\n",
              "      <td>0.340191</td>\n",
              "      <td>0.218733</td>\n",
              "      <td>-0.083836</td>\n",
              "      <td>-0.103355</td>\n",
              "      <td>-0.076122</td>\n",
              "      <td>-0.185689</td>\n",
              "    </tr>\n",
              "    <tr>\n",
              "      <th>PhysHlth</th>\n",
              "      <td>0.156211</td>\n",
              "      <td>0.144656</td>\n",
              "      <td>0.111008</td>\n",
              "      <td>0.040758</td>\n",
              "      <td>0.102768</td>\n",
              "      <td>0.100447</td>\n",
              "      <td>0.140806</td>\n",
              "      <td>0.170335</td>\n",
              "      <td>-0.199307</td>\n",
              "      <td>-0.024441</td>\n",
              "      <td>...</td>\n",
              "      <td>0.002924</td>\n",
              "      <td>0.136421</td>\n",
              "      <td>0.516476</td>\n",
              "      <td>0.340191</td>\n",
              "      <td>1.000000</td>\n",
              "      <td>0.466852</td>\n",
              "      <td>-0.044433</td>\n",
              "      <td>0.095483</td>\n",
              "      <td>-0.127687</td>\n",
              "      <td>-0.240929</td>\n",
              "    </tr>\n",
              "    <tr>\n",
              "      <th>DiffWalk</th>\n",
              "      <td>0.205302</td>\n",
              "      <td>0.211759</td>\n",
              "      <td>0.136045</td>\n",
              "      <td>0.049107</td>\n",
              "      <td>0.182556</td>\n",
              "      <td>0.108144</td>\n",
              "      <td>0.169339</td>\n",
              "      <td>0.202657</td>\n",
              "      <td>-0.235719</td>\n",
              "      <td>-0.029932</td>\n",
              "      <td>...</td>\n",
              "      <td>0.017714</td>\n",
              "      <td>0.106225</td>\n",
              "      <td>0.446696</td>\n",
              "      <td>0.218733</td>\n",
              "      <td>0.466852</td>\n",
              "      <td>1.000000</td>\n",
              "      <td>-0.073405</td>\n",
              "      <td>0.205754</td>\n",
              "      <td>-0.169350</td>\n",
              "      <td>-0.299064</td>\n",
              "    </tr>\n",
              "    <tr>\n",
              "      <th>Sex</th>\n",
              "      <td>0.032724</td>\n",
              "      <td>0.047119</td>\n",
              "      <td>0.022859</td>\n",
              "      <td>-0.024332</td>\n",
              "      <td>0.030902</td>\n",
              "      <td>0.096650</td>\n",
              "      <td>0.003626</td>\n",
              "      <td>0.089828</td>\n",
              "      <td>0.033516</td>\n",
              "      <td>-0.088768</td>\n",
              "      <td>...</td>\n",
              "      <td>-0.021221</td>\n",
              "      <td>-0.046507</td>\n",
              "      <td>-0.010519</td>\n",
              "      <td>-0.083836</td>\n",
              "      <td>-0.044433</td>\n",
              "      <td>-0.073405</td>\n",
              "      <td>1.000000</td>\n",
              "      <td>-0.031862</td>\n",
              "      <td>0.015956</td>\n",
              "      <td>0.130997</td>\n",
              "    </tr>\n",
              "    <tr>\n",
              "      <th>Age</th>\n",
              "      <td>0.177263</td>\n",
              "      <td>0.339802</td>\n",
              "      <td>0.263841</td>\n",
              "      <td>0.095942</td>\n",
              "      <td>-0.049223</td>\n",
              "      <td>0.107695</td>\n",
              "      <td>0.128209</td>\n",
              "      <td>0.223912</td>\n",
              "      <td>-0.087881</td>\n",
              "      <td>0.073515</td>\n",
              "      <td>...</td>\n",
              "      <td>0.147465</td>\n",
              "      <td>-0.130115</td>\n",
              "      <td>0.145769</td>\n",
              "      <td>-0.103355</td>\n",
              "      <td>0.095483</td>\n",
              "      <td>0.205754</td>\n",
              "      <td>-0.031862</td>\n",
              "      <td>1.000000</td>\n",
              "      <td>-0.092747</td>\n",
              "      <td>-0.116361</td>\n",
              "    </tr>\n",
              "    <tr>\n",
              "      <th>Education</th>\n",
              "      <td>-0.102686</td>\n",
              "      <td>-0.112887</td>\n",
              "      <td>-0.050045</td>\n",
              "      <td>-0.009935</td>\n",
              "      <td>-0.074433</td>\n",
              "      <td>-0.135657</td>\n",
              "      <td>-0.064178</td>\n",
              "      <td>-0.082288</td>\n",
              "      <td>0.170931</td>\n",
              "      <td>0.084857</td>\n",
              "      <td>...</td>\n",
              "      <td>0.111367</td>\n",
              "      <td>-0.083260</td>\n",
              "      <td>-0.244752</td>\n",
              "      <td>-0.076122</td>\n",
              "      <td>-0.127687</td>\n",
              "      <td>-0.169350</td>\n",
              "      <td>0.015956</td>\n",
              "      <td>-0.092747</td>\n",
              "      <td>1.000000</td>\n",
              "      <td>0.419045</td>\n",
              "    </tr>\n",
              "    <tr>\n",
              "      <th>Income</th>\n",
              "      <td>-0.140659</td>\n",
              "      <td>-0.140030</td>\n",
              "      <td>-0.062089</td>\n",
              "      <td>0.001989</td>\n",
              "      <td>-0.069097</td>\n",
              "      <td>-0.095314</td>\n",
              "      <td>-0.117108</td>\n",
              "      <td>-0.122728</td>\n",
              "      <td>0.165869</td>\n",
              "      <td>0.050907</td>\n",
              "      <td>...</td>\n",
              "      <td>0.146144</td>\n",
              "      <td>-0.187577</td>\n",
              "      <td>-0.331782</td>\n",
              "      <td>-0.185689</td>\n",
              "      <td>-0.240929</td>\n",
              "      <td>-0.299064</td>\n",
              "      <td>0.130997</td>\n",
              "      <td>-0.116361</td>\n",
              "      <td>0.419045</td>\n",
              "      <td>1.000000</td>\n",
              "    </tr>\n",
              "  </tbody>\n",
              "</table>\n",
              "<p>22 rows × 22 columns</p>\n",
              "</div>\n",
              "      <button class=\"colab-df-convert\" onclick=\"convertToInteractive('df-abdb7d34-eab1-498d-b804-310981072557')\"\n",
              "              title=\"Convert this dataframe to an interactive table.\"\n",
              "              style=\"display:none;\">\n",
              "        \n",
              "  <svg xmlns=\"http://www.w3.org/2000/svg\" height=\"24px\"viewBox=\"0 0 24 24\"\n",
              "       width=\"24px\">\n",
              "    <path d=\"M0 0h24v24H0V0z\" fill=\"none\"/>\n",
              "    <path d=\"M18.56 5.44l.94 2.06.94-2.06 2.06-.94-2.06-.94-.94-2.06-.94 2.06-2.06.94zm-11 1L8.5 8.5l.94-2.06 2.06-.94-2.06-.94L8.5 2.5l-.94 2.06-2.06.94zm10 10l.94 2.06.94-2.06 2.06-.94-2.06-.94-.94-2.06-.94 2.06-2.06.94z\"/><path d=\"M17.41 7.96l-1.37-1.37c-.4-.4-.92-.59-1.43-.59-.52 0-1.04.2-1.43.59L10.3 9.45l-7.72 7.72c-.78.78-.78 2.05 0 2.83L4 21.41c.39.39.9.59 1.41.59.51 0 1.02-.2 1.41-.59l7.78-7.78 2.81-2.81c.8-.78.8-2.07 0-2.86zM5.41 20L4 18.59l7.72-7.72 1.47 1.35L5.41 20z\"/>\n",
              "  </svg>\n",
              "      </button>\n",
              "      \n",
              "  <style>\n",
              "    .colab-df-container {\n",
              "      display:flex;\n",
              "      flex-wrap:wrap;\n",
              "      gap: 12px;\n",
              "    }\n",
              "\n",
              "    .colab-df-convert {\n",
              "      background-color: #E8F0FE;\n",
              "      border: none;\n",
              "      border-radius: 50%;\n",
              "      cursor: pointer;\n",
              "      display: none;\n",
              "      fill: #1967D2;\n",
              "      height: 32px;\n",
              "      padding: 0 0 0 0;\n",
              "      width: 32px;\n",
              "    }\n",
              "\n",
              "    .colab-df-convert:hover {\n",
              "      background-color: #E2EBFA;\n",
              "      box-shadow: 0px 1px 2px rgba(60, 64, 67, 0.3), 0px 1px 3px 1px rgba(60, 64, 67, 0.15);\n",
              "      fill: #174EA6;\n",
              "    }\n",
              "\n",
              "    [theme=dark] .colab-df-convert {\n",
              "      background-color: #3B4455;\n",
              "      fill: #D2E3FC;\n",
              "    }\n",
              "\n",
              "    [theme=dark] .colab-df-convert:hover {\n",
              "      background-color: #434B5C;\n",
              "      box-shadow: 0px 1px 3px 1px rgba(0, 0, 0, 0.15);\n",
              "      filter: drop-shadow(0px 1px 2px rgba(0, 0, 0, 0.3));\n",
              "      fill: #FFFFFF;\n",
              "    }\n",
              "  </style>\n",
              "\n",
              "      <script>\n",
              "        const buttonEl =\n",
              "          document.querySelector('#df-abdb7d34-eab1-498d-b804-310981072557 button.colab-df-convert');\n",
              "        buttonEl.style.display =\n",
              "          google.colab.kernel.accessAllowed ? 'block' : 'none';\n",
              "\n",
              "        async function convertToInteractive(key) {\n",
              "          const element = document.querySelector('#df-abdb7d34-eab1-498d-b804-310981072557');\n",
              "          const dataTable =\n",
              "            await google.colab.kernel.invokeFunction('convertToInteractive',\n",
              "                                                     [key], {});\n",
              "          if (!dataTable) return;\n",
              "\n",
              "          const docLinkHtml = 'Like what you see? Visit the ' +\n",
              "            '<a target=\"_blank\" href=https://colab.research.google.com/notebooks/data_table.ipynb>data table notebook</a>'\n",
              "            + ' to learn more about interactive tables.';\n",
              "          element.innerHTML = '';\n",
              "          dataTable['output_type'] = 'display_data';\n",
              "          await google.colab.output.renderOutput(dataTable, element);\n",
              "          const docLink = document.createElement('div');\n",
              "          docLink.innerHTML = docLinkHtml;\n",
              "          element.appendChild(docLink);\n",
              "        }\n",
              "      </script>\n",
              "    </div>\n",
              "  </div>\n",
              "  "
            ]
          },
          "metadata": {},
          "execution_count": 12
        }
      ],
      "source": [
        "#kiểm tra tương quan giữa các cột\n",
        "\n",
        "df1.corr()"
      ]
    },
    {
      "cell_type": "markdown",
      "id": "9fb2b00a",
      "metadata": {
        "papermill": {
          "duration": 0.025619,
          "end_time": "2022-09-14T09:37:57.906084",
          "exception": false,
          "start_time": "2022-09-14T09:37:57.880465",
          "status": "completed"
        },
        "tags": [],
        "id": "9fb2b00a"
      },
      "source": [
        "#Sử dụng heatmap để hiểu rõ hơn về mối tương quan trong bộ dữ liệu df1"
      ]
    },
    {
      "cell_type": "code",
      "execution_count": 13,
      "id": "c64ae06e",
      "metadata": {
        "execution": {
          "iopub.execute_input": "2022-09-14T09:37:57.961601Z",
          "iopub.status.busy": "2022-09-14T09:37:57.960539Z",
          "iopub.status.idle": "2022-09-14T09:38:01.358898Z",
          "shell.execute_reply": "2022-09-14T09:38:01.357421Z"
        },
        "papermill": {
          "duration": 3.431761,
          "end_time": "2022-09-14T09:38:01.364606",
          "exception": false,
          "start_time": "2022-09-14T09:37:57.932845",
          "status": "completed"
        },
        "tags": [],
        "colab": {
          "base_uri": "https://localhost:8080/",
          "height": 0
        },
        "id": "c64ae06e",
        "outputId": "e246db2e-f004-4f56-fad0-9ba35ed5328c"
      },
      "outputs": [
        {
          "output_type": "execute_result",
          "data": {
            "text/plain": [
              "Text(0.5, 1.0, 'correlation of features')"
            ]
          },
          "metadata": {},
          "execution_count": 13
        },
        {
          "output_type": "display_data",
          "data": {
            "text/plain": [
              "<Figure size 1440x720 with 2 Axes>"
            ],
            "image/png": "[encoded data removed]"
          },
          "metadata": {
            "needs_background": "light"
          }
        }
      ],
      "source": [
        "plt.figure(figsize=(20,10))\n",
        "\n",
        "sns.heatmap(df1.corr(),annot=True , cmap ='YlOrRd')\n",
        "plt.title(\"correlation of features\")"
      ]
    },
    {
      "cell_type": "markdown",
      "id": "4d7f0a98",
      "metadata": {
        "papermill": {
          "duration": 0.029753,
          "end_time": "2022-09-14T09:38:01.424117",
          "exception": false,
          "start_time": "2022-09-14T09:38:01.394364",
          "status": "completed"
        },
        "tags": [],
        "id": "4d7f0a98"
      },
      "source": [
        "*\n",
        "cột GenHlth và PhysHlth có mối tương quanquan tích cực(positive relation)\n",
        "\n",
        "cột GenHlth and Income có mối tương quan tiêu cực (negetive relation)"
      ]
    },
    {
      "cell_type": "markdown",
      "id": "7caa5aa2",
      "metadata": {
        "papermill": {
          "duration": 0.030058,
          "end_time": "2022-09-14T09:38:01.483568",
          "exception": false,
          "start_time": "2022-09-14T09:38:01.453510",
          "status": "completed"
        },
        "tags": [],
        "id": "7caa5aa2"
      },
      "source": [
        "**correlation throw bar graph**"
      ]
    },
    {
      "cell_type": "code",
      "execution_count": 14,
      "id": "0f8420ce",
      "metadata": {
        "execution": {
          "iopub.execute_input": "2022-09-14T09:38:01.546460Z",
          "iopub.status.busy": "2022-09-14T09:38:01.546040Z",
          "iopub.status.idle": "2022-09-14T09:38:02.029484Z",
          "shell.execute_reply": "2022-09-14T09:38:02.028266Z"
        },
        "papermill": {
          "duration": 0.518515,
          "end_time": "2022-09-14T09:38:02.032028",
          "exception": false,
          "start_time": "2022-09-14T09:38:01.513513",
          "status": "completed"
        },
        "tags": [],
        "colab": {
          "base_uri": "https://localhost:8080/",
          "height": 0
        },
        "id": "0f8420ce",
        "outputId": "882271d3-a07b-4d13-dd4f-0dc0ea7997a6"
      },
      "outputs": [
        {
          "output_type": "display_data",
          "data": {
            "text/plain": [
              "<Figure size 1440x576 with 1 Axes>"
            ],
            "image/png": "[encoded data removed]"
          },
          "metadata": {
            "needs_background": "light"
          }
        }
      ],
      "source": [
        "df1.drop('Diabetes_binary', axis=1).corrwith(df1.Diabetes_binary).plot(kind='bar', grid=True, figsize=(20, 8)\n",
        ", title=\"Correlation with Diabetes_binary\",color=\"#119ef5\");"
      ]
    },
    {
      "cell_type": "markdown",
      "id": "852f91a5",
      "metadata": {
        "papermill": {
          "duration": 0.029774,
          "end_time": "2022-09-14T09:38:02.092776",
          "exception": false,
          "start_time": "2022-09-14T09:38:02.063002",
          "status": "completed"
        },
        "tags": [],
        "id": "852f91a5"
      },
      "source": [
        "* Mối quan hệ của cột Diabetes_binary với các cột khác \n",
        "\n",
        "1 . Fruits , AnyHealthcare , NoDocbccost and sex ít tương quan nhất vơi Diabetes_binary.\n",
        "\n",
        "2 . HighBP , HighChol , BMI , smoker , stroke , HeartDiseaseorAttack , PhysActivity , Veggies , HvyAlcoholconsump , GenHlth , PhysHlth , Age , Education , Income and DiffWalk có mối tương quan đáng kể vớivới Diabetes_binary.Fruits"
      ]
    },
    {
      "cell_type": "code",
      "execution_count": 15,
      "id": "15a1a407",
      "metadata": {
        "execution": {
          "iopub.execute_input": "2022-09-14T09:38:02.159585Z",
          "iopub.status.busy": "2022-09-14T09:38:02.158761Z",
          "iopub.status.idle": "2022-09-14T09:38:02.178083Z",
          "shell.execute_reply": "2022-09-14T09:38:02.176900Z"
        },
        "papermill": {
          "duration": 0.05568,
          "end_time": "2022-09-14T09:38:02.180754",
          "exception": false,
          "start_time": "2022-09-14T09:38:02.125074",
          "status": "completed"
        },
        "tags": [],
        "id": "15a1a407"
      },
      "outputs": [],
      "source": [
        "#Ta có thể loại bỏ các features ít tương quan nhất (Fruits , AnyHealthcare , NoDocbccost và sex )\n",
        "\n",
        "df1.drop(['Fruits','AnyHealthcare','NoDocbcCost','Sex'] , inplace=True , axis=1)"
      ]
    },
    {
      "cell_type": "code",
      "execution_count": 16,
      "id": "e5992053",
      "metadata": {
        "execution": {
          "iopub.execute_input": "2022-09-14T09:38:02.244380Z",
          "iopub.status.busy": "2022-09-14T09:38:02.243541Z",
          "iopub.status.idle": "2022-09-14T09:38:02.250489Z",
          "shell.execute_reply": "2022-09-14T09:38:02.249206Z"
        },
        "papermill": {
          "duration": 0.042106,
          "end_time": "2022-09-14T09:38:02.253752",
          "exception": false,
          "start_time": "2022-09-14T09:38:02.211646",
          "status": "completed"
        },
        "tags": [],
        "colab": {
          "base_uri": "https://localhost:8080/"
        },
        "id": "e5992053",
        "outputId": "7f12ab7f-0565-4a39-be60-b6c27b3048b4"
      },
      "outputs": [
        {
          "output_type": "execute_result",
          "data": {
            "text/plain": [
              "(229474, 18)"
            ]
          },
          "metadata": {},
          "execution_count": 16
        }
      ],
      "source": [
        "df1.shape"
      ]
    },
    {
      "cell_type": "code",
      "execution_count": 17,
      "id": "73aff2c5",
      "metadata": {
        "execution": {
          "iopub.execute_input": "2022-09-14T09:38:02.321147Z",
          "iopub.status.busy": "2022-09-14T09:38:02.320249Z",
          "iopub.status.idle": "2022-09-14T09:38:02.331467Z",
          "shell.execute_reply": "2022-09-14T09:38:02.330448Z"
        },
        "papermill": {
          "duration": 0.04757,
          "end_time": "2022-09-14T09:38:02.333931",
          "exception": false,
          "start_time": "2022-09-14T09:38:02.286361",
          "status": "completed"
        },
        "tags": [],
        "colab": {
          "base_uri": "https://localhost:8080/"
        },
        "id": "73aff2c5",
        "outputId": "1ade6cdc-ee05-4e74-8698-0c460592e628"
      },
      "outputs": [
        {
          "output_type": "execute_result",
          "data": {
            "text/plain": [
              "0.0    194377\n",
              "1.0     35097\n",
              "Name: Diabetes_binary, dtype: int64"
            ]
          },
          "metadata": {},
          "execution_count": 17
        }
      ],
      "source": [
        "df1['Diabetes_binary'].value_counts()"
      ]
    },
    {
      "cell_type": "markdown",
      "id": "16ac2b19",
      "metadata": {
        "papermill": {
          "duration": 0.030827,
          "end_time": "2022-09-14T09:38:02.395117",
          "exception": false,
          "start_time": "2022-09-14T09:38:02.364290",
          "status": "completed"
        },
        "tags": [],
        "id": "16ac2b19"
      },
      "source": [
        "#Tỷ lệ người mắc bệnh tiểu đường và không mắc bệnh tiểu đường"
      ]
    },
    {
      "cell_type": "code",
      "execution_count": 18,
      "id": "d28205d3",
      "metadata": {
        "execution": {
          "iopub.execute_input": "2022-09-14T09:38:02.457303Z",
          "iopub.status.busy": "2022-09-14T09:38:02.456877Z",
          "iopub.status.idle": "2022-09-14T09:38:02.769636Z",
          "shell.execute_reply": "2022-09-14T09:38:02.768251Z"
        },
        "papermill": {
          "duration": 0.346946,
          "end_time": "2022-09-14T09:38:02.772173",
          "exception": false,
          "start_time": "2022-09-14T09:38:02.425227",
          "status": "completed"
        },
        "tags": [],
        "colab": {
          "base_uri": "https://localhost:8080/",
          "height": 0
        },
        "id": "d28205d3",
        "outputId": "362607a1-191a-45e8-be88-6c53c2c6cc99"
      },
      "outputs": [
        {
          "output_type": "execute_result",
          "data": {
            "text/plain": [
              "Text(0.5, 1.0, 'Không bệnh và có bệnh ')"
            ]
          },
          "metadata": {},
          "execution_count": 18
        },
        {
          "output_type": "display_data",
          "data": {
            "text/plain": [
              "<Figure size 576x576 with 2 Axes>"
            ],
            "image/png": "[encoded data removed]"
          },
          "metadata": {
            "needs_background": "light"
          }
        }
      ],
      "source": [
        "#par plot\n",
        "warnings.filterwarnings('ignore')\n",
        "figure1, plot1 = plt.subplots(1,2,figsize=(8,8))\n",
        "sns.countplot(df1['Diabetes_binary'],ax=plot1[0])\n",
        "\n",
        "#pie plot\n",
        "plt.pie( df1['Diabetes_binary'].value_counts() ,autopct='%.02f' );\n",
        "plt.title('Không bệnh và có bệnh ')"
      ]
    },
    {
      "cell_type": "markdown",
      "id": "7143adbb",
      "metadata": {
        "papermill": {
          "duration": 0.030467,
          "end_time": "2022-09-14T09:38:02.834270",
          "exception": false,
          "start_time": "2022-09-14T09:38:02.803803",
          "status": "completed"
        },
        "tags": [],
        "id": "7143adbb"
      },
      "source": [
        "**Phân tích mối quan hệ của Diabetes_binary với các yếu tố chính gây ra bệnh tiểu đường**\n",
        "\n",
        "HighBP , HighChol , BMI , smoker , stroke , HeartDiseaseorAttack , PhysActivity , Veggies ,\n",
        "GenHlth , PhysHlth , Age , Education , Income and DiffWalk"
      ]
    },
    {
      "cell_type": "markdown",
      "id": "1cf30712",
      "metadata": {
        "papermill": {
          "duration": 0.031708,
          "end_time": "2022-09-14T09:38:02.897240",
          "exception": false,
          "start_time": "2022-09-14T09:38:02.865532",
          "status": "completed"
        },
        "tags": [],
        "id": "1cf30712"
      },
      "source": [
        "**HighBP's Relation với Diabetes_binary**"
      ]
    },
    {
      "cell_type": "code",
      "execution_count": 19,
      "id": "8fc381c5",
      "metadata": {
        "execution": {
          "iopub.execute_input": "2022-09-14T09:38:02.961792Z",
          "iopub.status.busy": "2022-09-14T09:38:02.961123Z",
          "iopub.status.idle": "2022-09-14T09:38:03.053900Z",
          "shell.execute_reply": "2022-09-14T09:38:03.052581Z"
        },
        "papermill": {
          "duration": 0.128029,
          "end_time": "2022-09-14T09:38:03.056605",
          "exception": false,
          "start_time": "2022-09-14T09:38:02.928576",
          "status": "completed"
        },
        "tags": [],
        "colab": {
          "base_uri": "https://localhost:8080/",
          "height": 0
        },
        "id": "8fc381c5",
        "outputId": "e9abb7f6-fe48-472b-fa2d-35ecf2a9098b"
      },
      "outputs": [
        {
          "output_type": "display_data",
          "data": {
            "text/plain": [
              "<Figure size 432x288 with 1 Axes>"
            ],
            "image/png": "[encoded data removed]"
          },
          "metadata": {}
        }
      ],
      "source": [
        "\n",
        "#kiểm tra mức trung bình của người có huyết áp cao(HighBP) và không cao (non HighBP) bằng biểu đồ pie\n",
        "labels=[\"non HighBP\",\"HighBP\"]\n",
        "\n",
        "plt.pie(df1[\"HighBP\"].value_counts() , labels =labels ,autopct='%.02f' );"
      ]
    },
    {
      "cell_type": "code",
      "execution_count": 20,
      "id": "3e0e21fe",
      "metadata": {
        "execution": {
          "iopub.execute_input": "2022-09-14T09:38:03.157334Z",
          "iopub.status.busy": "2022-09-14T09:38:03.156564Z",
          "iopub.status.idle": "2022-09-14T09:38:03.215822Z",
          "shell.execute_reply": "2022-09-14T09:38:03.214777Z"
        },
        "papermill": {
          "duration": 0.109974,
          "end_time": "2022-09-14T09:38:03.218166",
          "exception": false,
          "start_time": "2022-09-14T09:38:03.108192",
          "status": "completed"
        },
        "tags": [],
        "colab": {
          "base_uri": "https://localhost:8080/",
          "height": 0
        },
        "id": "3e0e21fe",
        "outputId": "56d8f8b0-99a8-47f3-dd5f-6244736c9c3e"
      },
      "outputs": [
        {
          "output_type": "execute_result",
          "data": {
            "text/plain": [
              "Diabetes_binary     0.0    1.0\n",
              "HighBP                        \n",
              "0.0              116522   8692\n",
              "1.0               77855  26405"
            ],
            "text/html": [
              "\n",
              "  <div id=\"df-726f05fb-0d72-4750-8e9e-71b98e21a66b\">\n",
              "    <div class=\"colab-df-container\">\n",
              "      <div>\n",
              "<style scoped>\n",
              "    .dataframe tbody tr th:only-of-type {\n",
              "        vertical-align: middle;\n",
              "    }\n",
              "\n",
              "    .dataframe tbody tr th {\n",
              "        vertical-align: top;\n",
              "    }\n",
              "\n",
              "    .dataframe thead th {\n",
              "        text-align: right;\n",
              "    }\n",
              "</style>\n",
              "<table border=\"1\" class=\"dataframe\">\n",
              "  <thead>\n",
              "    <tr style=\"text-align: right;\">\n",
              "      <th>Diabetes_binary</th>\n",
              "      <th>0.0</th>\n",
              "      <th>1.0</th>\n",
              "    </tr>\n",
              "    <tr>\n",
              "      <th>HighBP</th>\n",
              "      <th></th>\n",
              "      <th></th>\n",
              "    </tr>\n",
              "  </thead>\n",
              "  <tbody>\n",
              "    <tr>\n",
              "      <th>0.0</th>\n",
              "      <td>116522</td>\n",
              "      <td>8692</td>\n",
              "    </tr>\n",
              "    <tr>\n",
              "      <th>1.0</th>\n",
              "      <td>77855</td>\n",
              "      <td>26405</td>\n",
              "    </tr>\n",
              "  </tbody>\n",
              "</table>\n",
              "</div>\n",
              "      <button class=\"colab-df-convert\" onclick=\"convertToInteractive('df-726f05fb-0d72-4750-8e9e-71b98e21a66b')\"\n",
              "              title=\"Convert this dataframe to an interactive table.\"\n",
              "              style=\"display:none;\">\n",
              "        \n",
              "  <svg xmlns=\"http://www.w3.org/2000/svg\" height=\"24px\"viewBox=\"0 0 24 24\"\n",
              "       width=\"24px\">\n",
              "    <path d=\"M0 0h24v24H0V0z\" fill=\"none\"/>\n",
              "    <path d=\"M18.56 5.44l.94 2.06.94-2.06 2.06-.94-2.06-.94-.94-2.06-.94 2.06-2.06.94zm-11 1L8.5 8.5l.94-2.06 2.06-.94-2.06-.94L8.5 2.5l-.94 2.06-2.06.94zm10 10l.94 2.06.94-2.06 2.06-.94-2.06-.94-.94-2.06-.94 2.06-2.06.94z\"/><path d=\"M17.41 7.96l-1.37-1.37c-.4-.4-.92-.59-1.43-.59-.52 0-1.04.2-1.43.59L10.3 9.45l-7.72 7.72c-.78.78-.78 2.05 0 2.83L4 21.41c.39.39.9.59 1.41.59.51 0 1.02-.2 1.41-.59l7.78-7.78 2.81-2.81c.8-.78.8-2.07 0-2.86zM5.41 20L4 18.59l7.72-7.72 1.47 1.35L5.41 20z\"/>\n",
              "  </svg>\n",
              "      </button>\n",
              "      \n",
              "  <style>\n",
              "    .colab-df-container {\n",
              "      display:flex;\n",
              "      flex-wrap:wrap;\n",
              "      gap: 12px;\n",
              "    }\n",
              "\n",
              "    .colab-df-convert {\n",
              "      background-color: #E8F0FE;\n",
              "      border: none;\n",
              "      border-radius: 50%;\n",
              "      cursor: pointer;\n",
              "      display: none;\n",
              "      fill: #1967D2;\n",
              "      height: 32px;\n",
              "      padding: 0 0 0 0;\n",
              "      width: 32px;\n",
              "    }\n",
              "\n",
              "    .colab-df-convert:hover {\n",
              "      background-color: #E2EBFA;\n",
              "      box-shadow: 0px 1px 2px rgba(60, 64, 67, 0.3), 0px 1px 3px 1px rgba(60, 64, 67, 0.15);\n",
              "      fill: #174EA6;\n",
              "    }\n",
              "\n",
              "    [theme=dark] .colab-df-convert {\n",
              "      background-color: #3B4455;\n",
              "      fill: #D2E3FC;\n",
              "    }\n",
              "\n",
              "    [theme=dark] .colab-df-convert:hover {\n",
              "      background-color: #434B5C;\n",
              "      box-shadow: 0px 1px 3px 1px rgba(0, 0, 0, 0.15);\n",
              "      filter: drop-shadow(0px 1px 2px rgba(0, 0, 0, 0.3));\n",
              "      fill: #FFFFFF;\n",
              "    }\n",
              "  </style>\n",
              "\n",
              "      <script>\n",
              "        const buttonEl =\n",
              "          document.querySelector('#df-726f05fb-0d72-4750-8e9e-71b98e21a66b button.colab-df-convert');\n",
              "        buttonEl.style.display =\n",
              "          google.colab.kernel.accessAllowed ? 'block' : 'none';\n",
              "\n",
              "        async function convertToInteractive(key) {\n",
              "          const element = document.querySelector('#df-726f05fb-0d72-4750-8e9e-71b98e21a66b');\n",
              "          const dataTable =\n",
              "            await google.colab.kernel.invokeFunction('convertToInteractive',\n",
              "                                                     [key], {});\n",
              "          if (!dataTable) return;\n",
              "\n",
              "          const docLinkHtml = 'Like what you see? Visit the ' +\n",
              "            '<a target=\"_blank\" href=https://colab.research.google.com/notebooks/data_table.ipynb>data table notebook</a>'\n",
              "            + ' to learn more about interactive tables.';\n",
              "          element.innerHTML = '';\n",
              "          dataTable['output_type'] = 'display_data';\n",
              "          await google.colab.output.renderOutput(dataTable, element);\n",
              "          const docLink = document.createElement('div');\n",
              "          docLink.innerHTML = docLinkHtml;\n",
              "          element.appendChild(docLink);\n",
              "        }\n",
              "      </script>\n",
              "    </div>\n",
              "  </div>\n",
              "  "
            ]
          },
          "metadata": {},
          "execution_count": 20
        }
      ],
      "source": [
        "#số bệnh nhân ĐTĐ(đái tháo đường) có huyết áp cao\n",
        "\n",
        "pd.crosstab(df1.HighBP ,df1.Diabetes_binary)"
      ]
    },
    {
      "cell_type": "markdown",
      "id": "0d004e13",
      "metadata": {
        "papermill": {
          "duration": 0.033482,
          "end_time": "2022-09-14T09:38:03.282754",
          "exception": false,
          "start_time": "2022-09-14T09:38:03.249272",
          "status": "completed"
        },
        "tags": [],
        "id": "0d004e13"
      },
      "source": [
        "** Kiểm tra mối quan hệ B/W HighBP và Diabetes**"
      ]
    },
    {
      "cell_type": "code",
      "execution_count": 21,
      "id": "f8ae93d1",
      "metadata": {
        "execution": {
          "iopub.execute_input": "2022-09-14T09:38:03.347040Z",
          "iopub.status.busy": "2022-09-14T09:38:03.346250Z",
          "iopub.status.idle": "2022-09-14T09:38:03.577377Z",
          "shell.execute_reply": "2022-09-14T09:38:03.575998Z"
        },
        "papermill": {
          "duration": 0.266404,
          "end_time": "2022-09-14T09:38:03.580227",
          "exception": false,
          "start_time": "2022-09-14T09:38:03.313823",
          "status": "completed"
        },
        "tags": [],
        "colab": {
          "base_uri": "https://localhost:8080/",
          "height": 0
        },
        "id": "f8ae93d1",
        "outputId": "fb1d40c1-028b-4842-b080-77fd11cafef4"
      },
      "outputs": [
        {
          "output_type": "display_data",
          "data": {
            "text/plain": [
              "<Figure size 360x288 with 1 Axes>"
            ],
            "image/png": "[encoded data removed]"
          },
          "metadata": {
            "needs_background": "light"
          }
        }
      ],
      "source": [
        "pd.crosstab(df1.HighBP ,df1.Diabetes_binary).plot(kind='bar',figsize=(5,4))\n",
        "\n",
        "plt.title(' relation between HighBP and Diabetes')\n",
        "plt.xlabel('HighBp')\n",
        "plt.ylabel('frequancy')\n",
        "plt.show()"
      ]
    },
    {
      "cell_type": "markdown",
      "id": "bd1279ac",
      "metadata": {
        "papermill": {
          "duration": 0.031612,
          "end_time": "2022-09-14T09:38:03.643878",
          "exception": false,
          "start_time": "2022-09-14T09:38:03.612266",
          "status": "completed"
        },
        "tags": [],
        "id": "bd1279ac"
      },
      "source": [
        "**Mối quan hệ của Highcol với DiabetesBinary**"
      ]
    },
    {
      "cell_type": "code",
      "execution_count": 22,
      "id": "1ac82003",
      "metadata": {
        "execution": {
          "iopub.execute_input": "2022-09-14T09:38:03.709013Z",
          "iopub.status.busy": "2022-09-14T09:38:03.708573Z",
          "iopub.status.idle": "2022-09-14T09:38:03.808197Z",
          "shell.execute_reply": "2022-09-14T09:38:03.806720Z"
        },
        "papermill": {
          "duration": 0.136137,
          "end_time": "2022-09-14T09:38:03.811776",
          "exception": false,
          "start_time": "2022-09-14T09:38:03.675639",
          "status": "completed"
        },
        "tags": [],
        "colab": {
          "base_uri": "https://localhost:8080/",
          "height": 0
        },
        "id": "1ac82003",
        "outputId": "af0707b8-8e4a-4801-8c0a-656820f09cd2"
      },
      "outputs": [
        {
          "output_type": "display_data",
          "data": {
            "text/plain": [
              "<Figure size 432x288 with 1 Axes>"
            ],
            "image/png": "[encoded data removed]"
          },
          "metadata": {}
        }
      ],
      "source": [
        "#kiểm tra mức trung bình của người HighChol và không HighChol \n",
        "\n",
        "labels=[\"non HighChol\",\"HighChol\"]\n",
        "\n",
        "plt.pie(df1[\"HighChol\"].value_counts() , labels =labels ,autopct='%.02f' );"
      ]
    },
    {
      "cell_type": "code",
      "execution_count": 23,
      "id": "13f4489e",
      "metadata": {
        "execution": {
          "iopub.execute_input": "2022-09-14T09:38:03.911409Z",
          "iopub.status.busy": "2022-09-14T09:38:03.910637Z",
          "iopub.status.idle": "2022-09-14T09:38:03.955141Z",
          "shell.execute_reply": "2022-09-14T09:38:03.953898Z"
        },
        "papermill": {
          "duration": 0.092631,
          "end_time": "2022-09-14T09:38:03.958001",
          "exception": false,
          "start_time": "2022-09-14T09:38:03.865370",
          "status": "completed"
        },
        "tags": [],
        "colab": {
          "base_uri": "https://localhost:8080/",
          "height": 0
        },
        "id": "13f4489e",
        "outputId": "24a1f2bc-0f92-42bf-d905-719831ea54db"
      },
      "outputs": [
        {
          "output_type": "execute_result",
          "data": {
            "text/plain": [
              "Diabetes_binary     0.0    1.0\n",
              "HighChol                      \n",
              "0.0              116528  11601\n",
              "1.0               77849  23496"
            ],
            "text/html": [
              "\n",
              "  <div id=\"df-027df5e1-38d4-4f28-a6d2-b27946f8ad85\">\n",
              "    <div class=\"colab-df-container\">\n",
              "      <div>\n",
              "<style scoped>\n",
              "    .dataframe tbody tr th:only-of-type {\n",
              "        vertical-align: middle;\n",
              "    }\n",
              "\n",
              "    .dataframe tbody tr th {\n",
              "        vertical-align: top;\n",
              "    }\n",
              "\n",
              "    .dataframe thead th {\n",
              "        text-align: right;\n",
              "    }\n",
              "</style>\n",
              "<table border=\"1\" class=\"dataframe\">\n",
              "  <thead>\n",
              "    <tr style=\"text-align: right;\">\n",
              "      <th>Diabetes_binary</th>\n",
              "      <th>0.0</th>\n",
              "      <th>1.0</th>\n",
              "    </tr>\n",
              "    <tr>\n",
              "      <th>HighChol</th>\n",
              "      <th></th>\n",
              "      <th></th>\n",
              "    </tr>\n",
              "  </thead>\n",
              "  <tbody>\n",
              "    <tr>\n",
              "      <th>0.0</th>\n",
              "      <td>116528</td>\n",
              "      <td>11601</td>\n",
              "    </tr>\n",
              "    <tr>\n",
              "      <th>1.0</th>\n",
              "      <td>77849</td>\n",
              "      <td>23496</td>\n",
              "    </tr>\n",
              "  </tbody>\n",
              "</table>\n",
              "</div>\n",
              "      <button class=\"colab-df-convert\" onclick=\"convertToInteractive('df-027df5e1-38d4-4f28-a6d2-b27946f8ad85')\"\n",
              "              title=\"Convert this dataframe to an interactive table.\"\n",
              "              style=\"display:none;\">\n",
              "        \n",
              "  <svg xmlns=\"http://www.w3.org/2000/svg\" height=\"24px\"viewBox=\"0 0 24 24\"\n",
              "       width=\"24px\">\n",
              "    <path d=\"M0 0h24v24H0V0z\" fill=\"none\"/>\n",
              "    <path d=\"M18.56 5.44l.94 2.06.94-2.06 2.06-.94-2.06-.94-.94-2.06-.94 2.06-2.06.94zm-11 1L8.5 8.5l.94-2.06 2.06-.94-2.06-.94L8.5 2.5l-.94 2.06-2.06.94zm10 10l.94 2.06.94-2.06 2.06-.94-2.06-.94-.94-2.06-.94 2.06-2.06.94z\"/><path d=\"M17.41 7.96l-1.37-1.37c-.4-.4-.92-.59-1.43-.59-.52 0-1.04.2-1.43.59L10.3 9.45l-7.72 7.72c-.78.78-.78 2.05 0 2.83L4 21.41c.39.39.9.59 1.41.59.51 0 1.02-.2 1.41-.59l7.78-7.78 2.81-2.81c.8-.78.8-2.07 0-2.86zM5.41 20L4 18.59l7.72-7.72 1.47 1.35L5.41 20z\"/>\n",
              "  </svg>\n",
              "      </button>\n",
              "      \n",
              "  <style>\n",
              "    .colab-df-container {\n",
              "      display:flex;\n",
              "      flex-wrap:wrap;\n",
              "      gap: 12px;\n",
              "    }\n",
              "\n",
              "    .colab-df-convert {\n",
              "      background-color: #E8F0FE;\n",
              "      border: none;\n",
              "      border-radius: 50%;\n",
              "      cursor: pointer;\n",
              "      display: none;\n",
              "      fill: #1967D2;\n",
              "      height: 32px;\n",
              "      padding: 0 0 0 0;\n",
              "      width: 32px;\n",
              "    }\n",
              "\n",
              "    .colab-df-convert:hover {\n",
              "      background-color: #E2EBFA;\n",
              "      box-shadow: 0px 1px 2px rgba(60, 64, 67, 0.3), 0px 1px 3px 1px rgba(60, 64, 67, 0.15);\n",
              "      fill: #174EA6;\n",
              "    }\n",
              "\n",
              "    [theme=dark] .colab-df-convert {\n",
              "      background-color: #3B4455;\n",
              "      fill: #D2E3FC;\n",
              "    }\n",
              "\n",
              "    [theme=dark] .colab-df-convert:hover {\n",
              "      background-color: #434B5C;\n",
              "      box-shadow: 0px 1px 3px 1px rgba(0, 0, 0, 0.15);\n",
              "      filter: drop-shadow(0px 1px 2px rgba(0, 0, 0, 0.3));\n",
              "      fill: #FFFFFF;\n",
              "    }\n",
              "  </style>\n",
              "\n",
              "      <script>\n",
              "        const buttonEl =\n",
              "          document.querySelector('#df-027df5e1-38d4-4f28-a6d2-b27946f8ad85 button.colab-df-convert');\n",
              "        buttonEl.style.display =\n",
              "          google.colab.kernel.accessAllowed ? 'block' : 'none';\n",
              "\n",
              "        async function convertToInteractive(key) {\n",
              "          const element = document.querySelector('#df-027df5e1-38d4-4f28-a6d2-b27946f8ad85');\n",
              "          const dataTable =\n",
              "            await google.colab.kernel.invokeFunction('convertToInteractive',\n",
              "                                                     [key], {});\n",
              "          if (!dataTable) return;\n",
              "\n",
              "          const docLinkHtml = 'Like what you see? Visit the ' +\n",
              "            '<a target=\"_blank\" href=https://colab.research.google.com/notebooks/data_table.ipynb>data table notebook</a>'\n",
              "            + ' to learn more about interactive tables.';\n",
              "          element.innerHTML = '';\n",
              "          dataTable['output_type'] = 'display_data';\n",
              "          await google.colab.output.renderOutput(dataTable, element);\n",
              "          const docLink = document.createElement('div');\n",
              "          docLink.innerHTML = docLinkHtml;\n",
              "          element.appendChild(docLink);\n",
              "        }\n",
              "      </script>\n",
              "    </div>\n",
              "  </div>\n",
              "  "
            ]
          },
          "metadata": {},
          "execution_count": 23
        }
      ],
      "source": [
        "# kiểm tra người bị bệnh có HighChol và không HighChol\n",
        "\n",
        "pd.crosstab(df1.HighChol,df1.Diabetes_binary)"
      ]
    },
    {
      "cell_type": "code",
      "execution_count": 24,
      "id": "89fbc554",
      "metadata": {
        "execution": {
          "iopub.execute_input": "2022-09-14T09:38:04.025219Z",
          "iopub.status.busy": "2022-09-14T09:38:04.024511Z",
          "iopub.status.idle": "2022-09-14T09:38:04.265820Z",
          "shell.execute_reply": "2022-09-14T09:38:04.264675Z"
        },
        "papermill": {
          "duration": 0.277206,
          "end_time": "2022-09-14T09:38:04.268223",
          "exception": false,
          "start_time": "2022-09-14T09:38:03.991017",
          "status": "completed"
        },
        "tags": [],
        "colab": {
          "base_uri": "https://localhost:8080/",
          "height": 0
        },
        "id": "89fbc554",
        "outputId": "224e52d4-557d-4412-b2d7-326801b55711"
      },
      "outputs": [
        {
          "output_type": "display_data",
          "data": {
            "text/plain": [
              "<Figure size 576x432 with 1 Axes>"
            ],
            "image/png": "[encoded data removed]"
          },
          "metadata": {
            "needs_background": "light"
          }
        }
      ],
      "source": [
        "#kiểm tra mqhe của  B/W HighChol và Diabetes\n",
        "\n",
        "pd.crosstab(df1.HighChol,df1.Diabetes_binary).plot(kind=\"bar\",figsize=(8,6))\n",
        "\n",
        "plt.title('Diabetes Disease Frequency for HighChol')\n",
        "plt.xlabel(\"HighChol\")\n",
        "plt.ylabel('Frequency')\n",
        "plt.show()"
      ]
    },
    {
      "cell_type": "code",
      "execution_count": 25,
      "id": "e6e468d1",
      "metadata": {
        "execution": {
          "iopub.execute_input": "2022-09-14T09:38:04.403776Z",
          "iopub.status.busy": "2022-09-14T09:38:04.402462Z",
          "iopub.status.idle": "2022-09-14T09:38:04.441638Z",
          "shell.execute_reply": "2022-09-14T09:38:04.440801Z"
        },
        "papermill": {
          "duration": 0.076256,
          "end_time": "2022-09-14T09:38:04.443940",
          "exception": false,
          "start_time": "2022-09-14T09:38:04.367684",
          "status": "completed"
        },
        "tags": [],
        "colab": {
          "base_uri": "https://localhost:8080/"
        },
        "id": "e6e468d1",
        "outputId": "2e134b65-d0d4-4b2d-96bd-c9df59b9d3bf"
      },
      "outputs": [
        {
          "output_type": "execute_result",
          "data": {
            "text/plain": [
              "Diabetes_binary  HighChol\n",
              "0.0              0.0         59.949480\n",
              "                 1.0         40.050520\n",
              "1.0              1.0         66.945893\n",
              "                 0.0         33.054107\n",
              "Name: HighChol, dtype: float64"
            ]
          },
          "metadata": {},
          "execution_count": 25
        }
      ],
      "source": [
        "\n",
        "# kiểm tra mức trung bình của bệnh nhân tiểu đường với có  HighChol và không  HighChol\n",
        "\n",
        "(df1.groupby(\"Diabetes_binary\")[\"HighChol\"].value_counts()/df1.groupby(\"Diabetes_binary\")[\"HighChol\"].count())*100"
      ]
    },
    {
      "cell_type": "markdown",
      "id": "0cdc64aa",
      "metadata": {
        "papermill": {
          "duration": 0.031906,
          "end_time": "2022-09-14T09:38:04.508612",
          "exception": false,
          "start_time": "2022-09-14T09:38:04.476706",
          "status": "completed"
        },
        "tags": [],
        "id": "0cdc64aa"
      },
      "source": [
        "* Kết luận:\n",
        "\n",
        "HighChol đóng một vai trò quan trọng gây nên bệnh tiểu đường. Khi các trường hợp có HHighChol tăng lên, thì nguy cơ mắc bệnh tiểu đường cũng tăng lên."
      ]
    },
    {
      "cell_type": "markdown",
      "id": "e287418d",
      "metadata": {
        "papermill": {
          "duration": 0.032648,
          "end_time": "2022-09-14T09:38:04.573927",
          "exception": false,
          "start_time": "2022-09-14T09:38:04.541279",
          "status": "completed"
        },
        "tags": [],
        "id": "e287418d"
      },
      "source": [
        "#Kiểm tra kết hợp hai yếu tố HighBP và HighChol đối với việc gây bệnh**"
      ]
    },
    {
      "cell_type": "code",
      "execution_count": 26,
      "id": "3f46b8cb",
      "metadata": {
        "execution": {
          "iopub.execute_input": "2022-09-14T09:38:04.640880Z",
          "iopub.status.busy": "2022-09-14T09:38:04.640318Z",
          "iopub.status.idle": "2022-09-14T09:38:04.715586Z",
          "shell.execute_reply": "2022-09-14T09:38:04.714180Z"
        },
        "papermill": {
          "duration": 0.113112,
          "end_time": "2022-09-14T09:38:04.719154",
          "exception": false,
          "start_time": "2022-09-14T09:38:04.606042",
          "status": "completed"
        },
        "tags": [],
        "colab": {
          "base_uri": "https://localhost:8080/"
        },
        "id": "3f46b8cb",
        "outputId": "5c195700-e446-419e-f93d-1ffdc7717e04"
      },
      "outputs": [
        {
          "output_type": "execute_result",
          "data": {
            "text/plain": [
              "HighBP  HighChol  Diabetes_binary\n",
              "0.0     0.0       0.0                95.064283\n",
              "                  1.0                 4.935717\n",
              "        1.0       0.0                88.654690\n",
              "                  1.0                11.345310\n",
              "1.0     0.0       0.0                82.530936\n",
              "                  1.0                17.469064\n",
              "        1.0       0.0                69.351803\n",
              "                  1.0                30.648197\n",
              "Name: Diabetes_binary, dtype: float64"
            ]
          },
          "metadata": {},
          "execution_count": 26
        }
      ],
      "source": [
        "(df1.groupby([\"HighBP\" , \"HighChol\"])[\"Diabetes_binary\"].value_counts()/df1.groupby([\"HighBP\" , \"HighChol\"])[\"Diabetes_binary\"].count())*100"
      ]
    },
    {
      "cell_type": "code",
      "execution_count": 27,
      "id": "147b4e6a",
      "metadata": {
        "execution": {
          "iopub.execute_input": "2022-09-14T09:38:04.785831Z",
          "iopub.status.busy": "2022-09-14T09:38:04.785399Z",
          "iopub.status.idle": "2022-09-14T09:38:08.165967Z",
          "shell.execute_reply": "2022-09-14T09:38:08.164766Z"
        },
        "papermill": {
          "duration": 3.417551,
          "end_time": "2022-09-14T09:38:08.169012",
          "exception": false,
          "start_time": "2022-09-14T09:38:04.751461",
          "status": "completed"
        },
        "tags": [],
        "colab": {
          "base_uri": "https://localhost:8080/",
          "height": 385
        },
        "id": "147b4e6a",
        "outputId": "2729ad7a-cc6e-49df-a8bc-2a4a337e63c5"
      },
      "outputs": [
        {
          "output_type": "display_data",
          "data": {
            "text/plain": [
              "<Figure size 449x360 with 1 Axes>"
            ],
            "image/png": "[encoded data removed]"
          },
          "metadata": {
            "needs_background": "light"
          }
        }
      ],
      "source": [
        "sns.catplot(x=\"HighBP\" , y =\"HighChol\" , data = df1 , hue=\"Diabetes_binary\" , kind=\"bar\" );\n",
        "plt.title(\"MQH giữa HighBP ,HighChol và  Diabetes\")\n",
        "plt.show()"
      ]
    },
    {
      "cell_type": "markdown",
      "id": "1c8aa867",
      "metadata": {
        "papermill": {
          "duration": 0.032614,
          "end_time": "2022-09-14T09:38:08.237827",
          "exception": false,
          "start_time": "2022-09-14T09:38:08.205213",
          "status": "completed"
        },
        "tags": [],
        "id": "1c8aa867"
      },
      "source": [
        "* Kết luận: Theo biểu đồ ta thấy được, cả HighBP và HighChol đều làm tăng nguy cơ mắc bệnh tiểu đường"
      ]
    },
    {
      "cell_type": "markdown",
      "id": "87dc0281",
      "metadata": {
        "papermill": {
          "duration": 0.035049,
          "end_time": "2022-09-14T09:38:08.306849",
          "exception": false,
          "start_time": "2022-09-14T09:38:08.271800",
          "status": "completed"
        },
        "tags": [],
        "id": "87dc0281"
      },
      "source": [
        "**Quan hệ của BMI's với Diabetes_binary**"
      ]
    },
    {
      "cell_type": "code",
      "execution_count": 28,
      "id": "fb3f7c0f",
      "metadata": {
        "execution": {
          "iopub.execute_input": "2022-09-14T09:38:08.377348Z",
          "iopub.status.busy": "2022-09-14T09:38:08.376205Z",
          "iopub.status.idle": "2022-09-14T09:38:08.386422Z",
          "shell.execute_reply": "2022-09-14T09:38:08.385362Z"
        },
        "papermill": {
          "duration": 0.048266,
          "end_time": "2022-09-14T09:38:08.388942",
          "exception": false,
          "start_time": "2022-09-14T09:38:08.340676",
          "status": "completed"
        },
        "tags": [],
        "colab": {
          "base_uri": "https://localhost:8080/"
        },
        "id": "fb3f7c0f",
        "outputId": "06318e24-c370-4b20-9aa8-aa5cdaac7a6c"
      },
      "outputs": [
        {
          "output_type": "execute_result",
          "data": {
            "text/plain": [
              "0         40.0\n",
              "1         25.0\n",
              "2         28.0\n",
              "3         27.0\n",
              "4         24.0\n",
              "          ... \n",
              "253675    45.0\n",
              "253676    18.0\n",
              "253677    28.0\n",
              "253678    23.0\n",
              "253679    25.0\n",
              "Name: BMI, Length: 229474, dtype: float64"
            ]
          },
          "metadata": {},
          "execution_count": 28
        }
      ],
      "source": [
        "df1['BMI']"
      ]
    },
    {
      "cell_type": "code",
      "execution_count": 29,
      "id": "e4641aec",
      "metadata": {
        "execution": {
          "iopub.execute_input": "2022-09-14T09:38:08.461436Z",
          "iopub.status.busy": "2022-09-14T09:38:08.460907Z",
          "iopub.status.idle": "2022-09-14T09:38:12.466786Z",
          "shell.execute_reply": "2022-09-14T09:38:12.465840Z"
        },
        "papermill": {
          "duration": 4.044888,
          "end_time": "2022-09-14T09:38:12.469188",
          "exception": false,
          "start_time": "2022-09-14T09:38:08.424300",
          "status": "completed"
        },
        "tags": [],
        "colab": {
          "base_uri": "https://localhost:8080/",
          "height": 542
        },
        "id": "e4641aec",
        "outputId": "67e35d83-5da5-41a4-fc6f-77a3867bf76c"
      },
      "outputs": [
        {
          "output_type": "display_data",
          "data": {
            "text/html": [
              "<html>\n",
              "<head><meta charset=\"utf-8\" /></head>\n",
              "<body>\n",
              "    <div>            <script src=\"https://cdnjs.cloudflare.com/ajax/libs/mathjax/2.7.5/MathJax.js?config=TeX-AMS-MML_SVG\"></script><script type=\"text/javascript\">if (window.MathJax) {MathJax.Hub.Config({SVG: {font: \"STIX-Web\"}});}</script>                <script type=\"text/javascript\">window.PlotlyConfig = {MathJaxConfig: 'local'};</script>\n",
              "        <script src=\"https://cdn.plot.ly/plotly-2.8.3.min.js\"></script>                <div id=\"f2de67ac-78a8-4c5d-919f-15075d201ec5\" class=\"plotly-graph-div\" style=\"height:525px; width:100%;\"></div>            <script type=\"text/javascript\">                                    window.PLOTLYENV=window.PLOTLYENV || {};                                    if (document.getElementById(\"f2de67ac-78a8-4c5d-919f-15075d201ec5\")) {                    Plotly.newPlot(                        \"f2de67ac-78a8-4c5d-919f-15075d201ec5\",                        [{\"branchvalues\":\"total\",\"domain\":{\"x\":[0.0,1.0],\"y\":[0.0,1.0]},\"hovertemplate\":\"labels=%{label}<br>count=%{value}<br>parent=%{parent}<br>id=%{id}<extra></extra>\",\"ids\":[\"12.0\",\"13.0\",\"14.0\",\"15.0\",\"16.0\",\"17.0\",\"18.0\",\"19.0\",\"20.0\",\"21.0\",\"22.0\",\"23.0\",\"24.0\",\"25.0\",\"26.0\",\"27.0\",\"28.0\",\"29.0\",\"30.0\",\"31.0\",\"32.0\",\"33.0\",\"34.0\",\"35.0\",\"36.0\",\"37.0\",\"38.0\",\"39.0\",\"40.0\",\"41.0\",\"42.0\",\"43.0\",\"44.0\",\"45.0\",\"46.0\",\"47.0\",\"48.0\",\"49.0\",\"50.0\",\"51.0\",\"52.0\",\"53.0\",\"54.0\",\"55.0\",\"56.0\",\"57.0\",\"58.0\",\"59.0\",\"60.0\",\"61.0\",\"62.0\",\"63.0\",\"64.0\",\"65.0\",\"66.0\",\"67.0\",\"68.0\",\"69.0\",\"70.0\",\"71.0\",\"72.0\",\"73.0\",\"74.0\",\"75.0\",\"76.0\",\"77.0\",\"78.0\",\"79.0\",\"80.0\",\"81.0\",\"82.0\",\"83.0\",\"84.0\",\"85.0\",\"86.0\",\"87.0\",\"88.0\",\"89.0\",\"90.0\",\"91.0\",\"92.0\",\"95.0\",\"96.0\",\"98.0\"],\"labels\":[\"12.0\",\"13.0\",\"14.0\",\"15.0\",\"16.0\",\"17.0\",\"18.0\",\"19.0\",\"20.0\",\"21.0\",\"22.0\",\"23.0\",\"24.0\",\"25.0\",\"26.0\",\"27.0\",\"28.0\",\"29.0\",\"30.0\",\"31.0\",\"32.0\",\"33.0\",\"34.0\",\"35.0\",\"36.0\",\"37.0\",\"38.0\",\"39.0\",\"40.0\",\"41.0\",\"42.0\",\"43.0\",\"44.0\",\"45.0\",\"46.0\",\"47.0\",\"48.0\",\"49.0\",\"50.0\",\"51.0\",\"52.0\",\"53.0\",\"54.0\",\"55.0\",\"56.0\",\"57.0\",\"58.0\",\"59.0\",\"60.0\",\"61.0\",\"62.0\",\"63.0\",\"64.0\",\"65.0\",\"66.0\",\"67.0\",\"68.0\",\"69.0\",\"70.0\",\"71.0\",\"72.0\",\"73.0\",\"74.0\",\"75.0\",\"76.0\",\"77.0\",\"78.0\",\"79.0\",\"80.0\",\"81.0\",\"82.0\",\"83.0\",\"84.0\",\"85.0\",\"86.0\",\"87.0\",\"88.0\",\"89.0\",\"90.0\",\"91.0\",\"92.0\",\"95.0\",\"96.0\",\"98.0\"],\"name\":\"\",\"parents\":[\"\",\"\",\"\",\"\",\"\",\"\",\"\",\"\",\"\",\"\",\"\",\"\",\"\",\"\",\"\",\"\",\"\",\"\",\"\",\"\",\"\",\"\",\"\",\"\",\"\",\"\",\"\",\"\",\"\",\"\",\"\",\"\",\"\",\"\",\"\",\"\",\"\",\"\",\"\",\"\",\"\",\"\",\"\",\"\",\"\",\"\",\"\",\"\",\"\",\"\",\"\",\"\",\"\",\"\",\"\",\"\",\"\",\"\",\"\",\"\",\"\",\"\",\"\",\"\",\"\",\"\",\"\",\"\",\"\",\"\",\"\",\"\",\"\",\"\",\"\",\"\",\"\",\"\",\"\",\"\",\"\",\"\",\"\",\"\"],\"values\":[6,21,41,132,348,761,1743,3606,5537,8385,11521,13296,16497,14793,17775,21514,14914,13727,13484,11627,9971,8619,6992,5487,4581,4113,3373,2894,2245,1654,1637,1499,1043,819,750,622,484,416,372,253,215,237,113,169,109,86,71,54,63,35,43,34,24,19,13,15,14,9,15,49,14,47,16,52,3,55,1,66,2,49,37,2,44,1,1,61,2,28,1,1,32,12,1,7],\"type\":\"treemap\"}],                        {\"template\":{\"data\":{\"bar\":[{\"error_x\":{\"color\":\"#2a3f5f\"},\"error_y\":{\"color\":\"#2a3f5f\"},\"marker\":{\"line\":{\"color\":\"#E5ECF6\",\"width\":0.5},\"pattern\":{\"fillmode\":\"overlay\",\"size\":10,\"solidity\":0.2}},\"type\":\"bar\"}],\"barpolar\":[{\"marker\":{\"line\":{\"color\":\"#E5ECF6\",\"width\":0.5},\"pattern\":{\"fillmode\":\"overlay\",\"size\":10,\"solidity\":0.2}},\"type\":\"barpolar\"}],\"carpet\":[{\"aaxis\":{\"endlinecolor\":\"#2a3f5f\",\"gridcolor\":\"white\",\"linecolor\":\"white\",\"minorgridcolor\":\"white\",\"startlinecolor\":\"#2a3f5f\"},\"baxis\":{\"endlinecolor\":\"#2a3f5f\",\"gridcolor\":\"white\",\"linecolor\":\"white\",\"minorgridcolor\":\"white\",\"startlinecolor\":\"#2a3f5f\"},\"type\":\"carpet\"}],\"choropleth\":[{\"colorbar\":{\"outlinewidth\":0,\"ticks\":\"\"},\"type\":\"choropleth\"}],\"contour\":[{\"colorbar\":{\"outlinewidth\":0,\"ticks\":\"\"},\"colorscale\":[[0.0,\"#0d0887\"],[0.1111111111111111,\"#46039f\"],[0.2222222222222222,\"#7201a8\"],[0.3333333333333333,\"#9c179e\"],[0.4444444444444444,\"#bd3786\"],[0.5555555555555556,\"#d8576b\"],[0.6666666666666666,\"#ed7953\"],[0.7777777777777778,\"#fb9f3a\"],[0.8888888888888888,\"#fdca26\"],[1.0,\"#f0f921\"]],\"type\":\"contour\"}],\"contourcarpet\":[{\"colorbar\":{\"outlinewidth\":0,\"ticks\":\"\"},\"type\":\"contourcarpet\"}],\"heatmap\":[{\"colorbar\":{\"outlinewidth\":0,\"ticks\":\"\"},\"colorscale\":[[0.0,\"#0d0887\"],[0.1111111111111111,\"#46039f\"],[0.2222222222222222,\"#7201a8\"],[0.3333333333333333,\"#9c179e\"],[0.4444444444444444,\"#bd3786\"],[0.5555555555555556,\"#d8576b\"],[0.6666666666666666,\"#ed7953\"],[0.7777777777777778,\"#fb9f3a\"],[0.8888888888888888,\"#fdca26\"],[1.0,\"#f0f921\"]],\"type\":\"heatmap\"}],\"heatmapgl\":[{\"colorbar\":{\"outlinewidth\":0,\"ticks\":\"\"},\"colorscale\":[[0.0,\"#0d0887\"],[0.1111111111111111,\"#46039f\"],[0.2222222222222222,\"#7201a8\"],[0.3333333333333333,\"#9c179e\"],[0.4444444444444444,\"#bd3786\"],[0.5555555555555556,\"#d8576b\"],[0.6666666666666666,\"#ed7953\"],[0.7777777777777778,\"#fb9f3a\"],[0.8888888888888888,\"#fdca26\"],[1.0,\"#f0f921\"]],\"type\":\"heatmapgl\"}],\"histogram\":[{\"marker\":{\"pattern\":{\"fillmode\":\"overlay\",\"size\":10,\"solidity\":0.2}},\"type\":\"histogram\"}],\"histogram2d\":[{\"colorbar\":{\"outlinewidth\":0,\"ticks\":\"\"},\"colorscale\":[[0.0,\"#0d0887\"],[0.1111111111111111,\"#46039f\"],[0.2222222222222222,\"#7201a8\"],[0.3333333333333333,\"#9c179e\"],[0.4444444444444444,\"#bd3786\"],[0.5555555555555556,\"#d8576b\"],[0.6666666666666666,\"#ed7953\"],[0.7777777777777778,\"#fb9f3a\"],[0.8888888888888888,\"#fdca26\"],[1.0,\"#f0f921\"]],\"type\":\"histogram2d\"}],\"histogram2dcontour\":[{\"colorbar\":{\"outlinewidth\":0,\"ticks\":\"\"},\"colorscale\":[[0.0,\"#0d0887\"],[0.1111111111111111,\"#46039f\"],[0.2222222222222222,\"#7201a8\"],[0.3333333333333333,\"#9c179e\"],[0.4444444444444444,\"#bd3786\"],[0.5555555555555556,\"#d8576b\"],[0.6666666666666666,\"#ed7953\"],[0.7777777777777778,\"#fb9f3a\"],[0.8888888888888888,\"#fdca26\"],[1.0,\"#f0f921\"]],\"type\":\"histogram2dcontour\"}],\"mesh3d\":[{\"colorbar\":{\"outlinewidth\":0,\"ticks\":\"\"},\"type\":\"mesh3d\"}],\"parcoords\":[{\"line\":{\"colorbar\":{\"outlinewidth\":0,\"ticks\":\"\"}},\"type\":\"parcoords\"}],\"pie\":[{\"automargin\":true,\"type\":\"pie\"}],\"scatter\":[{\"marker\":{\"colorbar\":{\"outlinewidth\":0,\"ticks\":\"\"}},\"type\":\"scatter\"}],\"scatter3d\":[{\"line\":{\"colorbar\":{\"outlinewidth\":0,\"ticks\":\"\"}},\"marker\":{\"colorbar\":{\"outlinewidth\":0,\"ticks\":\"\"}},\"type\":\"scatter3d\"}],\"scattercarpet\":[{\"marker\":{\"colorbar\":{\"outlinewidth\":0,\"ticks\":\"\"}},\"type\":\"scattercarpet\"}],\"scattergeo\":[{\"marker\":{\"colorbar\":{\"outlinewidth\":0,\"ticks\":\"\"}},\"type\":\"scattergeo\"}],\"scattergl\":[{\"marker\":{\"colorbar\":{\"outlinewidth\":0,\"ticks\":\"\"}},\"type\":\"scattergl\"}],\"scattermapbox\":[{\"marker\":{\"colorbar\":{\"outlinewidth\":0,\"ticks\":\"\"}},\"type\":\"scattermapbox\"}],\"scatterpolar\":[{\"marker\":{\"colorbar\":{\"outlinewidth\":0,\"ticks\":\"\"}},\"type\":\"scatterpolar\"}],\"scatterpolargl\":[{\"marker\":{\"colorbar\":{\"outlinewidth\":0,\"ticks\":\"\"}},\"type\":\"scatterpolargl\"}],\"scatterternary\":[{\"marker\":{\"colorbar\":{\"outlinewidth\":0,\"ticks\":\"\"}},\"type\":\"scatterternary\"}],\"surface\":[{\"colorbar\":{\"outlinewidth\":0,\"ticks\":\"\"},\"colorscale\":[[0.0,\"#0d0887\"],[0.1111111111111111,\"#46039f\"],[0.2222222222222222,\"#7201a8\"],[0.3333333333333333,\"#9c179e\"],[0.4444444444444444,\"#bd3786\"],[0.5555555555555556,\"#d8576b\"],[0.6666666666666666,\"#ed7953\"],[0.7777777777777778,\"#fb9f3a\"],[0.8888888888888888,\"#fdca26\"],[1.0,\"#f0f921\"]],\"type\":\"surface\"}],\"table\":[{\"cells\":{\"fill\":{\"color\":\"#EBF0F8\"},\"line\":{\"color\":\"white\"}},\"header\":{\"fill\":{\"color\":\"#C8D4E3\"},\"line\":{\"color\":\"white\"}},\"type\":\"table\"}]},\"layout\":{\"annotationdefaults\":{\"arrowcolor\":\"#2a3f5f\",\"arrowhead\":0,\"arrowwidth\":1},\"autotypenumbers\":\"strict\",\"coloraxis\":{\"colorbar\":{\"outlinewidth\":0,\"ticks\":\"\"}},\"colorscale\":{\"diverging\":[[0,\"#8e0152\"],[0.1,\"#c51b7d\"],[0.2,\"#de77ae\"],[0.3,\"#f1b6da\"],[0.4,\"#fde0ef\"],[0.5,\"#f7f7f7\"],[0.6,\"#e6f5d0\"],[0.7,\"#b8e186\"],[0.8,\"#7fbc41\"],[0.9,\"#4d9221\"],[1,\"#276419\"]],\"sequential\":[[0.0,\"#0d0887\"],[0.1111111111111111,\"#46039f\"],[0.2222222222222222,\"#7201a8\"],[0.3333333333333333,\"#9c179e\"],[0.4444444444444444,\"#bd3786\"],[0.5555555555555556,\"#d8576b\"],[0.6666666666666666,\"#ed7953\"],[0.7777777777777778,\"#fb9f3a\"],[0.8888888888888888,\"#fdca26\"],[1.0,\"#f0f921\"]],\"sequentialminus\":[[0.0,\"#0d0887\"],[0.1111111111111111,\"#46039f\"],[0.2222222222222222,\"#7201a8\"],[0.3333333333333333,\"#9c179e\"],[0.4444444444444444,\"#bd3786\"],[0.5555555555555556,\"#d8576b\"],[0.6666666666666666,\"#ed7953\"],[0.7777777777777778,\"#fb9f3a\"],[0.8888888888888888,\"#fdca26\"],[1.0,\"#f0f921\"]]},\"colorway\":[\"#636efa\",\"#EF553B\",\"#00cc96\",\"#ab63fa\",\"#FFA15A\",\"#19d3f3\",\"#FF6692\",\"#B6E880\",\"#FF97FF\",\"#FECB52\"],\"font\":{\"color\":\"#2a3f5f\"},\"geo\":{\"bgcolor\":\"white\",\"lakecolor\":\"white\",\"landcolor\":\"#E5ECF6\",\"showlakes\":true,\"showland\":true,\"subunitcolor\":\"white\"},\"hoverlabel\":{\"align\":\"left\"},\"hovermode\":\"closest\",\"mapbox\":{\"style\":\"light\"},\"paper_bgcolor\":\"white\",\"plot_bgcolor\":\"#E5ECF6\",\"polar\":{\"angularaxis\":{\"gridcolor\":\"white\",\"linecolor\":\"white\",\"ticks\":\"\"},\"bgcolor\":\"#E5ECF6\",\"radialaxis\":{\"gridcolor\":\"white\",\"linecolor\":\"white\",\"ticks\":\"\"}},\"scene\":{\"xaxis\":{\"backgroundcolor\":\"#E5ECF6\",\"gridcolor\":\"white\",\"gridwidth\":2,\"linecolor\":\"white\",\"showbackground\":true,\"ticks\":\"\",\"zerolinecolor\":\"white\"},\"yaxis\":{\"backgroundcolor\":\"#E5ECF6\",\"gridcolor\":\"white\",\"gridwidth\":2,\"linecolor\":\"white\",\"showbackground\":true,\"ticks\":\"\",\"zerolinecolor\":\"white\"},\"zaxis\":{\"backgroundcolor\":\"#E5ECF6\",\"gridcolor\":\"white\",\"gridwidth\":2,\"linecolor\":\"white\",\"showbackground\":true,\"ticks\":\"\",\"zerolinecolor\":\"white\"}},\"shapedefaults\":{\"line\":{\"color\":\"#2a3f5f\"}},\"ternary\":{\"aaxis\":{\"gridcolor\":\"white\",\"linecolor\":\"white\",\"ticks\":\"\"},\"baxis\":{\"gridcolor\":\"white\",\"linecolor\":\"white\",\"ticks\":\"\"},\"bgcolor\":\"#E5ECF6\",\"caxis\":{\"gridcolor\":\"white\",\"linecolor\":\"white\",\"ticks\":\"\"}},\"title\":{\"x\":0.05},\"xaxis\":{\"automargin\":true,\"gridcolor\":\"white\",\"linecolor\":\"white\",\"ticks\":\"\",\"title\":{\"standoff\":15},\"zerolinecolor\":\"white\",\"zerolinewidth\":2},\"yaxis\":{\"automargin\":true,\"gridcolor\":\"white\",\"linecolor\":\"white\",\"ticks\":\"\",\"title\":{\"standoff\":15},\"zerolinecolor\":\"white\",\"zerolinewidth\":2}}},\"legend\":{\"tracegroupgap\":0},\"title\":{\"text\":\"BMI counts\"}},                        {\"responsive\": true}                    ).then(function(){\n",
              "                            \n",
              "var gd = document.getElementById('f2de67ac-78a8-4c5d-919f-15075d201ec5');\n",
              "var x = new MutationObserver(function (mutations, observer) {{\n",
              "        var display = window.getComputedStyle(gd).display;\n",
              "        if (!display || display === 'none') {{\n",
              "            console.log([gd, 'removed!']);\n",
              "            Plotly.purge(gd);\n",
              "            observer.disconnect();\n",
              "        }}\n",
              "}});\n",
              "\n",
              "// Listen for the removal of the full notebook cells\n",
              "var notebookContainer = gd.closest('#notebook-container');\n",
              "if (notebookContainer) {{\n",
              "    x.observe(notebookContainer, {childList: true});\n",
              "}}\n",
              "\n",
              "// Listen for the clearing of the current output cell\n",
              "var outputEl = gd.closest('.output');\n",
              "if (outputEl) {{\n",
              "    x.observe(outputEl, {childList: true});\n",
              "}}\n",
              "\n",
              "                        })                };                            </script>        </div>\n",
              "</body>\n",
              "</html>"
            ]
          },
          "metadata": {}
        }
      ],
      "source": [
        "#kiểm tra giá trị BMI \n",
        "\n",
        "ax= px.treemap(df1,path=['BMI'],title=\"BMI counts\")\n",
        "ax.show()"
      ]
    },
    {
      "cell_type": "code",
      "execution_count": 30,
      "id": "f2a81e16",
      "metadata": {
        "execution": {
          "iopub.execute_input": "2022-09-14T09:38:12.540694Z",
          "iopub.status.busy": "2022-09-14T09:38:12.539419Z",
          "iopub.status.idle": "2022-09-14T09:38:13.966052Z",
          "shell.execute_reply": "2022-09-14T09:38:13.964513Z"
        },
        "papermill": {
          "duration": 1.46607,
          "end_time": "2022-09-14T09:38:13.970024",
          "exception": false,
          "start_time": "2022-09-14T09:38:12.503954",
          "status": "completed"
        },
        "tags": [],
        "colab": {
          "base_uri": "https://localhost:8080/",
          "height": 707
        },
        "id": "f2a81e16",
        "outputId": "9ce707e1-b48d-4273-f998-3adb50801050"
      },
      "outputs": [
        {
          "output_type": "display_data",
          "data": {
            "text/plain": [
              "<Figure size 2520x1224 with 1 Axes>"
            ],
            "image/png": "[encoded data removed]"
          },
          "metadata": {
            "needs_background": "light"
          }
        }
      ],
      "source": [
        "#biểu đồ plot của BMI \n",
        "\n",
        "plt.figure(figsize=(35, 17))\n",
        "warnings.filterwarnings('ignore')\n",
        "\n",
        "sns.countplot(df1.BMI[df1.Diabetes_binary == 0], color=\"r\", label=\"No Diabetes\")\n",
        "sns.countplot(df1.BMI[df1.Diabetes_binary == 1], color=\"g\", label=\"Diabetes\" )\n",
        "plt.title(\"MQH giữa BMI với  Diabetes\")\n",
        "\n",
        "plt.legend()\n",
        "plt.show()"
      ]
    },
    {
      "cell_type": "code",
      "execution_count": 31,
      "id": "b1dce3d6",
      "metadata": {
        "execution": {
          "iopub.execute_input": "2022-09-14T09:38:14.042978Z",
          "iopub.status.busy": "2022-09-14T09:38:14.042201Z",
          "iopub.status.idle": "2022-09-14T09:38:14.427286Z",
          "shell.execute_reply": "2022-09-14T09:38:14.426314Z"
        },
        "papermill": {
          "duration": 0.42361,
          "end_time": "2022-09-14T09:38:14.429737",
          "exception": false,
          "start_time": "2022-09-14T09:38:14.006127",
          "status": "completed"
        },
        "tags": [],
        "colab": {
          "base_uri": "https://localhost:8080/",
          "height": 296
        },
        "id": "b1dce3d6",
        "outputId": "c923bcac-509d-4e1a-c38e-6b46582fc1d5"
      },
      "outputs": [
        {
          "output_type": "execute_result",
          "data": {
            "text/plain": [
              "<matplotlib.axes._subplots.AxesSubplot at 0x7f0475649750>"
            ]
          },
          "metadata": {},
          "execution_count": 31
        },
        {
          "output_type": "display_data",
          "data": {
            "text/plain": [
              "<Figure size 432x288 with 1 Axes>"
            ],
            "image/png": "[encoded data removed]"
          },
          "metadata": {
            "needs_background": "light"
          }
        }
      ],
      "source": [
        "# kiểm tra các outliers\n",
        "\n",
        "sns.boxplot(df1[\"BMI\"])"
      ]
    },
    {
      "cell_type": "markdown",
      "id": "61e4e2a0",
      "metadata": {
        "papermill": {
          "duration": 0.03502,
          "end_time": "2022-09-14T09:38:14.499534",
          "exception": false,
          "start_time": "2022-09-14T09:38:14.464514",
          "status": "completed"
        },
        "tags": [],
        "id": "61e4e2a0"
      },
      "source": [
        "**Chia ra 3 nhóm BMI**"
      ]
    },
    {
      "cell_type": "markdown",
      "id": "e48ce7e0",
      "metadata": {
        "papermill": {
          "duration": 0.034641,
          "end_time": "2022-09-14T09:38:14.569226",
          "exception": false,
          "start_time": "2022-09-14T09:38:14.534585",
          "status": "completed"
        },
        "tags": [],
        "id": "e48ce7e0"
      },
      "source": [
        "* Group 1"
      ]
    },
    {
      "cell_type": "code",
      "execution_count": 32,
      "id": "4acee5f0",
      "metadata": {
        "execution": {
          "iopub.execute_input": "2022-09-14T09:38:14.640882Z",
          "iopub.status.busy": "2022-09-14T09:38:14.640397Z",
          "iopub.status.idle": "2022-09-14T09:38:14.654202Z",
          "shell.execute_reply": "2022-09-14T09:38:14.653096Z"
        },
        "papermill": {
          "duration": 0.05269,
          "end_time": "2022-09-14T09:38:14.656580",
          "exception": false,
          "start_time": "2022-09-14T09:38:14.603890",
          "status": "completed"
        },
        "tags": [],
        "colab": {
          "base_uri": "https://localhost:8080/"
        },
        "id": "4acee5f0",
        "outputId": "a24d2715-1257-485e-9958-5649afacb412"
      },
      "outputs": [
        {
          "output_type": "execute_result",
          "data": {
            "text/plain": [
              "0.0    11650\n",
              "1.0      545\n",
              "Name: Diabetes_binary, dtype: int64"
            ]
          },
          "metadata": {},
          "execution_count": 32
        }
      ],
      "source": [
        "#Kiểm tra bệnh nhân đái tháo đường có chỉ số BMI dưới 20\n",
        "\n",
        "df1[(df1[\"BMI\"]<=20)][\"Diabetes_binary\"].value_counts()"
      ]
    },
    {
      "cell_type": "markdown",
      "id": "761c4b50",
      "metadata": {
        "papermill": {
          "duration": 0.035828,
          "end_time": "2022-09-14T09:38:14.729220",
          "exception": false,
          "start_time": "2022-09-14T09:38:14.693392",
          "status": "completed"
        },
        "tags": [],
        "id": "761c4b50"
      },
      "source": [
        "* Group 2"
      ]
    },
    {
      "cell_type": "code",
      "execution_count": 33,
      "id": "f7ef8ae6",
      "metadata": {
        "execution": {
          "iopub.execute_input": "2022-09-14T09:38:14.801551Z",
          "iopub.status.busy": "2022-09-14T09:38:14.800797Z",
          "iopub.status.idle": "2022-09-14T09:38:14.827946Z",
          "shell.execute_reply": "2022-09-14T09:38:14.826756Z"
        },
        "papermill": {
          "duration": 0.066886,
          "end_time": "2022-09-14T09:38:14.830580",
          "exception": false,
          "start_time": "2022-09-14T09:38:14.763694",
          "status": "completed"
        },
        "tags": [],
        "colab": {
          "base_uri": "https://localhost:8080/"
        },
        "id": "f7ef8ae6",
        "outputId": "5bfdc8f8-3ced-4d48-db3c-f27208793c98"
      },
      "outputs": [
        {
          "output_type": "stream",
          "name": "stdout",
          "text": [
            "BMI_2 :  215104\n"
          ]
        }
      ],
      "source": [
        "#nhóm thứ hai BMI lớn hơn 20 và nhỏ hơn 50\n",
        "\n",
        "BMI_2 = df1.iloc[np.where((df1[\"BMI\"]>20)&(df1[\"BMI\"]<=50))]\n",
        "\n",
        "print(\"BMI_2 : \", len(BMI_2))\n",
        "\n",
        "BMI_2 = pd.DataFrame(BMI_2)"
      ]
    },
    {
      "cell_type": "markdown",
      "id": "c3e2d60e",
      "metadata": {
        "papermill": {
          "duration": 0.036422,
          "end_time": "2022-09-14T09:38:14.902046",
          "exception": false,
          "start_time": "2022-09-14T09:38:14.865624",
          "status": "completed"
        },
        "tags": [],
        "id": "c3e2d60e"
      },
      "source": [
        "* Group 3"
      ]
    },
    {
      "cell_type": "code",
      "execution_count": 34,
      "id": "aa0b809a",
      "metadata": {
        "execution": {
          "iopub.execute_input": "2022-09-14T09:38:14.977290Z",
          "iopub.status.busy": "2022-09-14T09:38:14.976572Z",
          "iopub.status.idle": "2022-09-14T09:38:15.015557Z",
          "shell.execute_reply": "2022-09-14T09:38:15.014515Z"
        },
        "papermill": {
          "duration": 0.079384,
          "end_time": "2022-09-14T09:38:15.018374",
          "exception": false,
          "start_time": "2022-09-14T09:38:14.938990",
          "status": "completed"
        },
        "tags": [],
        "colab": {
          "base_uri": "https://localhost:8080/"
        },
        "id": "aa0b809a",
        "outputId": "d9cd16ba-3532-475f-83d3-45ee8e4b35dd"
      },
      "outputs": [
        {
          "output_type": "execute_result",
          "data": {
            "text/plain": [
              "0.0    181255\n",
              "1.0     33849\n",
              "Name: Diabetes_binary, dtype: int64"
            ]
          },
          "metadata": {},
          "execution_count": 34
        }
      ],
      "source": [
        "#check Bệnh nhân đái tháo đường có chỉ số BMI (BMI>20 và BMI<=50)\n",
        "\n",
        "\n",
        "df1[(df1[\"BMI\"]>20) & (df1[\"BMI\"]<=50)][\"Diabetes_binary\"].value_counts()"
      ]
    },
    {
      "cell_type": "code",
      "execution_count": 35,
      "id": "3743e748",
      "metadata": {
        "execution": {
          "iopub.execute_input": "2022-09-14T09:38:15.094414Z",
          "iopub.status.busy": "2022-09-14T09:38:15.093561Z",
          "iopub.status.idle": "2022-09-14T09:38:15.753378Z",
          "shell.execute_reply": "2022-09-14T09:38:15.752453Z"
        },
        "papermill": {
          "duration": 0.701281,
          "end_time": "2022-09-14T09:38:15.755915",
          "exception": false,
          "start_time": "2022-09-14T09:38:15.054634",
          "status": "completed"
        },
        "tags": [],
        "colab": {
          "base_uri": "https://localhost:8080/",
          "height": 882
        },
        "id": "3743e748",
        "outputId": "c813d4ec-9aff-42cb-8c5f-d63e1cd5a58d"
      },
      "outputs": [
        {
          "output_type": "execute_result",
          "data": {
            "text/plain": [
              "<matplotlib.legend.Legend at 0x7f04760ffc50>"
            ]
          },
          "metadata": {},
          "execution_count": 35
        },
        {
          "output_type": "display_data",
          "data": {
            "text/plain": [
              "<Figure size 1800x1080 with 1 Axes>"
            ],
            "image/png": "[encoded data removed]"
          },
          "metadata": {
            "needs_background": "light"
          }
        }
      ],
      "source": [
        "#dùng sơ đồ để xem số lượng bệnh nhân Tiểu đường và không Tiểu đường của Group 2 BMI \n",
        "\n",
        "plt.figure(figsize=(25, 15))\n",
        "warnings.filterwarnings('ignore')\n",
        "\n",
        "sns.countplot(BMI_2.BMI[df1.Diabetes_binary == 0], color=\"r\", label=\"No Diabetic\")\n",
        "sns.countplot(BMI_2.BMI[df1.Diabetes_binary == 1], color=\"g\", label=\"Diabetic\")\n",
        "plt.title(\"MQH BMI và Diabetes\")\n",
        "\n",
        "plt.legend()"
      ]
    },
    {
      "cell_type": "code",
      "execution_count": 36,
      "id": "0c3f3c24",
      "metadata": {
        "execution": {
          "iopub.execute_input": "2022-09-14T09:38:15.831757Z",
          "iopub.status.busy": "2022-09-14T09:38:15.831325Z",
          "iopub.status.idle": "2022-09-14T09:38:15.843381Z",
          "shell.execute_reply": "2022-09-14T09:38:15.842049Z"
        },
        "papermill": {
          "duration": 0.053216,
          "end_time": "2022-09-14T09:38:15.846063",
          "exception": false,
          "start_time": "2022-09-14T09:38:15.792847",
          "status": "completed"
        },
        "tags": [],
        "colab": {
          "base_uri": "https://localhost:8080/"
        },
        "id": "0c3f3c24",
        "outputId": "4158b798-2bb9-4b6d-f0b3-0ab2779e5dce"
      },
      "outputs": [
        {
          "output_type": "execute_result",
          "data": {
            "text/plain": [
              "0.0    1472\n",
              "1.0     703\n",
              "Name: Diabetes_binary, dtype: int64"
            ]
          },
          "metadata": {},
          "execution_count": 36
        }
      ],
      "source": [
        "#Check bệnh nhân có BMI trong khoảng(BMI>50 and BMI=100)\n",
        "\n",
        "\n",
        "df1[(df1[\"BMI\"]>50) & (df1[\"BMI\"]<=100)][\"Diabetes_binary\"].value_counts()"
      ]
    },
    {
      "cell_type": "markdown",
      "id": "b9bafdca",
      "metadata": {
        "papermill": {
          "duration": 0.0352,
          "end_time": "2022-09-14T09:38:15.918864",
          "exception": false,
          "start_time": "2022-09-14T09:38:15.883664",
          "status": "completed"
        },
        "tags": [],
        "id": "b9bafdca"
      },
      "source": [
        "* Kết luận:\n",
        "- Hầu hết số người mắc bệnh tiểu đường có chỉ số BMI nằm trong khoảng từ 20 đến 50\n",
        "\n",
        "- 215104 người có BMI nằm trong khoảng từ 20 đến 50\n",
        "\n",
        "- 33849 bệnh nhân tiểu đường có chỉ số BMI từ 20 đến 50\n",
        "\n",
        "nên có thể nói nhóm BMI thứ 2 có liên quanquan đáng kể đến bệnh tiểu đường\n",
        "\n",
        "Ngoài ra cũng có những BMI ngoại lệ"
      ]
    },
    {
      "cell_type": "markdown",
      "id": "7d6f4da2",
      "metadata": {
        "papermill": {
          "duration": 0.035511,
          "end_time": "2022-09-14T09:38:15.989463",
          "exception": false,
          "start_time": "2022-09-14T09:38:15.953952",
          "status": "completed"
        },
        "tags": [],
        "id": "7d6f4da2"
      },
      "source": [
        "**MQH giữa người hút thuốc và bệnh tiểu đường"
      ]
    },
    {
      "cell_type": "code",
      "execution_count": 37,
      "id": "ea978cd8",
      "metadata": {
        "execution": {
          "iopub.execute_input": "2022-09-14T09:38:16.062668Z",
          "iopub.status.busy": "2022-09-14T09:38:16.061931Z",
          "iopub.status.idle": "2022-09-14T09:38:16.156729Z",
          "shell.execute_reply": "2022-09-14T09:38:16.154908Z"
        },
        "papermill": {
          "duration": 0.137982,
          "end_time": "2022-09-14T09:38:16.162616",
          "exception": false,
          "start_time": "2022-09-14T09:38:16.024634",
          "status": "completed"
        },
        "tags": [],
        "colab": {
          "base_uri": "https://localhost:8080/",
          "height": 248
        },
        "id": "ea978cd8",
        "outputId": "bd9cc1be-4a2d-46c0-eb30-d8028a8cba8f"
      },
      "outputs": [
        {
          "output_type": "display_data",
          "data": {
            "text/plain": [
              "<Figure size 432x288 with 1 Axes>"
            ],
            "image/png": "[encoded data removed]"
          },
          "metadata": {}
        }
      ],
      "source": [
        "#Kiểm tra số người hút thuốc và không hút\n",
        "\n",
        "labels=[\"Không hút thuốc\",\"NNgười hút thuốc\"]\n",
        "\n",
        "plt.pie(df1[\"Smoker\"].value_counts() , labels =labels ,autopct='%.02f' );"
      ]
    },
    {
      "cell_type": "code",
      "execution_count": 38,
      "id": "e7d2ba56",
      "metadata": {
        "execution": {
          "iopub.execute_input": "2022-09-14T09:38:16.272366Z",
          "iopub.status.busy": "2022-09-14T09:38:16.271622Z",
          "iopub.status.idle": "2022-09-14T09:38:16.314437Z",
          "shell.execute_reply": "2022-09-14T09:38:16.313289Z"
        },
        "papermill": {
          "duration": 0.093995,
          "end_time": "2022-09-14T09:38:16.317354",
          "exception": false,
          "start_time": "2022-09-14T09:38:16.223359",
          "status": "completed"
        },
        "tags": [],
        "colab": {
          "base_uri": "https://localhost:8080/",
          "height": 143
        },
        "id": "e7d2ba56",
        "outputId": "658814da-a519-4023-eb24-336d51f73d98"
      },
      "outputs": [
        {
          "output_type": "execute_result",
          "data": {
            "text/plain": [
              "Diabetes_binary     0.0    1.0\n",
              "Smoker                        \n",
              "0.0              105711  16874\n",
              "1.0               88666  18223"
            ],
            "text/html": [
              "\n",
              "  <div id=\"df-a769d14a-47ee-4d38-89d7-71c0807b2fda\">\n",
              "    <div class=\"colab-df-container\">\n",
              "      <div>\n",
              "<style scoped>\n",
              "    .dataframe tbody tr th:only-of-type {\n",
              "        vertical-align: middle;\n",
              "    }\n",
              "\n",
              "    .dataframe tbody tr th {\n",
              "        vertical-align: top;\n",
              "    }\n",
              "\n",
              "    .dataframe thead th {\n",
              "        text-align: right;\n",
              "    }\n",
              "</style>\n",
              "<table border=\"1\" class=\"dataframe\">\n",
              "  <thead>\n",
              "    <tr style=\"text-align: right;\">\n",
              "      <th>Diabetes_binary</th>\n",
              "      <th>0.0</th>\n",
              "      <th>1.0</th>\n",
              "    </tr>\n",
              "    <tr>\n",
              "      <th>Smoker</th>\n",
              "      <th></th>\n",
              "      <th></th>\n",
              "    </tr>\n",
              "  </thead>\n",
              "  <tbody>\n",
              "    <tr>\n",
              "      <th>0.0</th>\n",
              "      <td>105711</td>\n",
              "      <td>16874</td>\n",
              "    </tr>\n",
              "    <tr>\n",
              "      <th>1.0</th>\n",
              "      <td>88666</td>\n",
              "      <td>18223</td>\n",
              "    </tr>\n",
              "  </tbody>\n",
              "</table>\n",
              "</div>\n",
              "      <button class=\"colab-df-convert\" onclick=\"convertToInteractive('df-a769d14a-47ee-4d38-89d7-71c0807b2fda')\"\n",
              "              title=\"Convert this dataframe to an interactive table.\"\n",
              "              style=\"display:none;\">\n",
              "        \n",
              "  <svg xmlns=\"http://www.w3.org/2000/svg\" height=\"24px\"viewBox=\"0 0 24 24\"\n",
              "       width=\"24px\">\n",
              "    <path d=\"M0 0h24v24H0V0z\" fill=\"none\"/>\n",
              "    <path d=\"M18.56 5.44l.94 2.06.94-2.06 2.06-.94-2.06-.94-.94-2.06-.94 2.06-2.06.94zm-11 1L8.5 8.5l.94-2.06 2.06-.94-2.06-.94L8.5 2.5l-.94 2.06-2.06.94zm10 10l.94 2.06.94-2.06 2.06-.94-2.06-.94-.94-2.06-.94 2.06-2.06.94z\"/><path d=\"M17.41 7.96l-1.37-1.37c-.4-.4-.92-.59-1.43-.59-.52 0-1.04.2-1.43.59L10.3 9.45l-7.72 7.72c-.78.78-.78 2.05 0 2.83L4 21.41c.39.39.9.59 1.41.59.51 0 1.02-.2 1.41-.59l7.78-7.78 2.81-2.81c.8-.78.8-2.07 0-2.86zM5.41 20L4 18.59l7.72-7.72 1.47 1.35L5.41 20z\"/>\n",
              "  </svg>\n",
              "      </button>\n",
              "      \n",
              "  <style>\n",
              "    .colab-df-container {\n",
              "      display:flex;\n",
              "      flex-wrap:wrap;\n",
              "      gap: 12px;\n",
              "    }\n",
              "\n",
              "    .colab-df-convert {\n",
              "      background-color: #E8F0FE;\n",
              "      border: none;\n",
              "      border-radius: 50%;\n",
              "      cursor: pointer;\n",
              "      display: none;\n",
              "      fill: #1967D2;\n",
              "      height: 32px;\n",
              "      padding: 0 0 0 0;\n",
              "      width: 32px;\n",
              "    }\n",
              "\n",
              "    .colab-df-convert:hover {\n",
              "      background-color: #E2EBFA;\n",
              "      box-shadow: 0px 1px 2px rgba(60, 64, 67, 0.3), 0px 1px 3px 1px rgba(60, 64, 67, 0.15);\n",
              "      fill: #174EA6;\n",
              "    }\n",
              "\n",
              "    [theme=dark] .colab-df-convert {\n",
              "      background-color: #3B4455;\n",
              "      fill: #D2E3FC;\n",
              "    }\n",
              "\n",
              "    [theme=dark] .colab-df-convert:hover {\n",
              "      background-color: #434B5C;\n",
              "      box-shadow: 0px 1px 3px 1px rgba(0, 0, 0, 0.15);\n",
              "      filter: drop-shadow(0px 1px 2px rgba(0, 0, 0, 0.3));\n",
              "      fill: #FFFFFF;\n",
              "    }\n",
              "  </style>\n",
              "\n",
              "      <script>\n",
              "        const buttonEl =\n",
              "          document.querySelector('#df-a769d14a-47ee-4d38-89d7-71c0807b2fda button.colab-df-convert');\n",
              "        buttonEl.style.display =\n",
              "          google.colab.kernel.accessAllowed ? 'block' : 'none';\n",
              "\n",
              "        async function convertToInteractive(key) {\n",
              "          const element = document.querySelector('#df-a769d14a-47ee-4d38-89d7-71c0807b2fda');\n",
              "          const dataTable =\n",
              "            await google.colab.kernel.invokeFunction('convertToInteractive',\n",
              "                                                     [key], {});\n",
              "          if (!dataTable) return;\n",
              "\n",
              "          const docLinkHtml = 'Like what you see? Visit the ' +\n",
              "            '<a target=\"_blank\" href=https://colab.research.google.com/notebooks/data_table.ipynb>data table notebook</a>'\n",
              "            + ' to learn more about interactive tables.';\n",
              "          element.innerHTML = '';\n",
              "          dataTable['output_type'] = 'display_data';\n",
              "          await google.colab.output.renderOutput(dataTable, element);\n",
              "          const docLink = document.createElement('div');\n",
              "          docLink.innerHTML = docLinkHtml;\n",
              "          element.appendChild(docLink);\n",
              "        }\n",
              "      </script>\n",
              "    </div>\n",
              "  </div>\n",
              "  "
            ]
          },
          "metadata": {},
          "execution_count": 38
        }
      ],
      "source": [
        "# kiểm tra số lượng bệnh nhân tiểu đường có hút thuốc và không hút thuốc\n",
        "\n",
        "pd.crosstab(df1.Smoker,df1.Diabetes_binary)"
      ]
    },
    {
      "cell_type": "code",
      "execution_count": 39,
      "id": "070f503a",
      "metadata": {
        "execution": {
          "iopub.execute_input": "2022-09-14T09:38:16.390338Z",
          "iopub.status.busy": "2022-09-14T09:38:16.389560Z",
          "iopub.status.idle": "2022-09-14T09:38:16.622252Z",
          "shell.execute_reply": "2022-09-14T09:38:16.620911Z"
        },
        "papermill": {
          "duration": 0.272536,
          "end_time": "2022-09-14T09:38:16.625212",
          "exception": false,
          "start_time": "2022-09-14T09:38:16.352676",
          "status": "completed"
        },
        "tags": [],
        "colab": {
          "base_uri": "https://localhost:8080/",
          "height": 303
        },
        "id": "070f503a",
        "outputId": "123b957e-0ac9-46e1-867a-73157a9468c4"
      },
      "outputs": [
        {
          "output_type": "display_data",
          "data": {
            "text/plain": [
              "<Figure size 360x288 with 1 Axes>"
            ],
            "image/png": "[encoded data removed]"
          },
          "metadata": {
            "needs_background": "light"
          }
        }
      ],
      "source": [
        "\n",
        "pd.crosstab(df1.Smoker,df1.Diabetes_binary).plot(kind=\"bar\",figsize=(5,4))\n",
        "\n",
        "plt.title('Tần suất bệnh tiểu đường cho người hút thuốc')\n",
        "plt.xlabel(\"Người hút thuốc\")\n",
        "plt.ylabel('Tính thường xuyên')\n",
        "plt.show()"
      ]
    },
    {
      "cell_type": "markdown",
      "id": "913c23bd",
      "metadata": {
        "papermill": {
          "duration": 0.036523,
          "end_time": "2022-09-14T09:38:16.698705",
          "exception": false,
          "start_time": "2022-09-14T09:38:16.662182",
          "status": "completed"
        },
        "tags": [],
        "id": "913c23bd"
      },
      "source": [
        "* Kết luận:\n",
        "\n",
        "Theo dữ liệu này, chỉ hút thuốc thì ít gây nên bệnh tiểu đường \n",
        "Nhưng Hút thuốc lá có hại cho sức khỏe\n",
        "\n"
      ]
    },
    {
      "cell_type": "markdown",
      "id": "9b75f4af",
      "metadata": {
        "papermill": {
          "duration": 0.037259,
          "end_time": "2022-09-14T09:38:16.843317",
          "exception": false,
          "start_time": "2022-09-14T09:38:16.806058",
          "status": "completed"
        },
        "tags": [],
        "id": "9b75f4af"
      },
      "source": [
        "**MQH giữa việc tiêu thụ nhiều bia rượu và bệnh tiểu đường**"
      ]
    },
    {
      "cell_type": "code",
      "execution_count": 40,
      "id": "2e5c8ed6",
      "metadata": {
        "execution": {
          "iopub.execute_input": "2022-09-14T09:38:16.920312Z",
          "iopub.status.busy": "2022-09-14T09:38:16.918961Z",
          "iopub.status.idle": "2022-09-14T09:38:17.029147Z",
          "shell.execute_reply": "2022-09-14T09:38:17.027888Z"
        },
        "papermill": {
          "duration": 0.15167,
          "end_time": "2022-09-14T09:38:17.032451",
          "exception": false,
          "start_time": "2022-09-14T09:38:16.880781",
          "status": "completed"
        },
        "tags": [],
        "colab": {
          "base_uri": "https://localhost:8080/",
          "height": 248
        },
        "id": "2e5c8ed6",
        "outputId": "077a3b91-9c99-4174-e2d4-242de6f6c04d"
      },
      "outputs": [
        {
          "output_type": "display_data",
          "data": {
            "text/plain": [
              "<Figure size 432x288 with 1 Axes>"
            ],
            "image/png": "[encoded data removed]"
          },
          "metadata": {}
        }
      ],
      "source": [
        "#Ktr mức trung bình tiêu thụ bia rượu \n",
        "\n",
        "labels=[\"ít tiêu thụ Alcohol \",\"tiêu thụ nhiều Alcohol \"]\n",
        "\n",
        "plt.pie(df1[\"HvyAlcoholConsump\"].value_counts() , labels =labels ,autopct='%.02f' );"
      ]
    },
    {
      "cell_type": "code",
      "execution_count": 41,
      "id": "2ca42b2e",
      "metadata": {
        "execution": {
          "iopub.execute_input": "2022-09-14T09:38:17.140676Z",
          "iopub.status.busy": "2022-09-14T09:38:17.140228Z",
          "iopub.status.idle": "2022-09-14T09:38:17.185787Z",
          "shell.execute_reply": "2022-09-14T09:38:17.184695Z"
        },
        "papermill": {
          "duration": 0.094558,
          "end_time": "2022-09-14T09:38:17.188089",
          "exception": false,
          "start_time": "2022-09-14T09:38:17.093531",
          "status": "completed"
        },
        "tags": [],
        "colab": {
          "base_uri": "https://localhost:8080/",
          "height": 143
        },
        "id": "2ca42b2e",
        "outputId": "9e091a34-3ac1-4fc6-d5a0-7fb70109f3a3"
      },
      "outputs": [
        {
          "output_type": "execute_result",
          "data": {
            "text/plain": [
              "Diabetes_binary       0.0    1.0\n",
              "HvyAlcoholConsump               \n",
              "0.0                181259  34265\n",
              "1.0                 13118    832"
            ],
            "text/html": [
              "\n",
              "  <div id=\"df-b19a88f7-44d6-4ff7-a544-db877c90b84f\">\n",
              "    <div class=\"colab-df-container\">\n",
              "      <div>\n",
              "<style scoped>\n",
              "    .dataframe tbody tr th:only-of-type {\n",
              "        vertical-align: middle;\n",
              "    }\n",
              "\n",
              "    .dataframe tbody tr th {\n",
              "        vertical-align: top;\n",
              "    }\n",
              "\n",
              "    .dataframe thead th {\n",
              "        text-align: right;\n",
              "    }\n",
              "</style>\n",
              "<table border=\"1\" class=\"dataframe\">\n",
              "  <thead>\n",
              "    <tr style=\"text-align: right;\">\n",
              "      <th>Diabetes_binary</th>\n",
              "      <th>0.0</th>\n",
              "      <th>1.0</th>\n",
              "    </tr>\n",
              "    <tr>\n",
              "      <th>HvyAlcoholConsump</th>\n",
              "      <th></th>\n",
              "      <th></th>\n",
              "    </tr>\n",
              "  </thead>\n",
              "  <tbody>\n",
              "    <tr>\n",
              "      <th>0.0</th>\n",
              "      <td>181259</td>\n",
              "      <td>34265</td>\n",
              "    </tr>\n",
              "    <tr>\n",
              "      <th>1.0</th>\n",
              "      <td>13118</td>\n",
              "      <td>832</td>\n",
              "    </tr>\n",
              "  </tbody>\n",
              "</table>\n",
              "</div>\n",
              "      <button class=\"colab-df-convert\" onclick=\"convertToInteractive('df-b19a88f7-44d6-4ff7-a544-db877c90b84f')\"\n",
              "              title=\"Convert this dataframe to an interactive table.\"\n",
              "              style=\"display:none;\">\n",
              "        \n",
              "  <svg xmlns=\"http://www.w3.org/2000/svg\" height=\"24px\"viewBox=\"0 0 24 24\"\n",
              "       width=\"24px\">\n",
              "    <path d=\"M0 0h24v24H0V0z\" fill=\"none\"/>\n",
              "    <path d=\"M18.56 5.44l.94 2.06.94-2.06 2.06-.94-2.06-.94-.94-2.06-.94 2.06-2.06.94zm-11 1L8.5 8.5l.94-2.06 2.06-.94-2.06-.94L8.5 2.5l-.94 2.06-2.06.94zm10 10l.94 2.06.94-2.06 2.06-.94-2.06-.94-.94-2.06-.94 2.06-2.06.94z\"/><path d=\"M17.41 7.96l-1.37-1.37c-.4-.4-.92-.59-1.43-.59-.52 0-1.04.2-1.43.59L10.3 9.45l-7.72 7.72c-.78.78-.78 2.05 0 2.83L4 21.41c.39.39.9.59 1.41.59.51 0 1.02-.2 1.41-.59l7.78-7.78 2.81-2.81c.8-.78.8-2.07 0-2.86zM5.41 20L4 18.59l7.72-7.72 1.47 1.35L5.41 20z\"/>\n",
              "  </svg>\n",
              "      </button>\n",
              "      \n",
              "  <style>\n",
              "    .colab-df-container {\n",
              "      display:flex;\n",
              "      flex-wrap:wrap;\n",
              "      gap: 12px;\n",
              "    }\n",
              "\n",
              "    .colab-df-convert {\n",
              "      background-color: #E8F0FE;\n",
              "      border: none;\n",
              "      border-radius: 50%;\n",
              "      cursor: pointer;\n",
              "      display: none;\n",
              "      fill: #1967D2;\n",
              "      height: 32px;\n",
              "      padding: 0 0 0 0;\n",
              "      width: 32px;\n",
              "    }\n",
              "\n",
              "    .colab-df-convert:hover {\n",
              "      background-color: #E2EBFA;\n",
              "      box-shadow: 0px 1px 2px rgba(60, 64, 67, 0.3), 0px 1px 3px 1px rgba(60, 64, 67, 0.15);\n",
              "      fill: #174EA6;\n",
              "    }\n",
              "\n",
              "    [theme=dark] .colab-df-convert {\n",
              "      background-color: #3B4455;\n",
              "      fill: #D2E3FC;\n",
              "    }\n",
              "\n",
              "    [theme=dark] .colab-df-convert:hover {\n",
              "      background-color: #434B5C;\n",
              "      box-shadow: 0px 1px 3px 1px rgba(0, 0, 0, 0.15);\n",
              "      filter: drop-shadow(0px 1px 2px rgba(0, 0, 0, 0.3));\n",
              "      fill: #FFFFFF;\n",
              "    }\n",
              "  </style>\n",
              "\n",
              "      <script>\n",
              "        const buttonEl =\n",
              "          document.querySelector('#df-b19a88f7-44d6-4ff7-a544-db877c90b84f button.colab-df-convert');\n",
              "        buttonEl.style.display =\n",
              "          google.colab.kernel.accessAllowed ? 'block' : 'none';\n",
              "\n",
              "        async function convertToInteractive(key) {\n",
              "          const element = document.querySelector('#df-b19a88f7-44d6-4ff7-a544-db877c90b84f');\n",
              "          const dataTable =\n",
              "            await google.colab.kernel.invokeFunction('convertToInteractive',\n",
              "                                                     [key], {});\n",
              "          if (!dataTable) return;\n",
              "\n",
              "          const docLinkHtml = 'Like what you see? Visit the ' +\n",
              "            '<a target=\"_blank\" href=https://colab.research.google.com/notebooks/data_table.ipynb>data table notebook</a>'\n",
              "            + ' to learn more about interactive tables.';\n",
              "          element.innerHTML = '';\n",
              "          dataTable['output_type'] = 'display_data';\n",
              "          await google.colab.output.renderOutput(dataTable, element);\n",
              "          const docLink = document.createElement('div');\n",
              "          docLink.innerHTML = docLinkHtml;\n",
              "          element.appendChild(docLink);\n",
              "        }\n",
              "      </script>\n",
              "    </div>\n",
              "  </div>\n",
              "  "
            ]
          },
          "metadata": {},
          "execution_count": 41
        }
      ],
      "source": [
        "#Ktra bệnh nhân tiểu đường với việc tiêu thụ nhiều Alcohol và ít tiêu thụ Alcohol\n",
        "\n",
        "pd.crosstab(df1.HvyAlcoholConsump,df1.Diabetes_binary)"
      ]
    },
    {
      "cell_type": "code",
      "execution_count": 42,
      "id": "7b50affa",
      "metadata": {
        "execution": {
          "iopub.execute_input": "2022-09-14T09:38:17.267175Z",
          "iopub.status.busy": "2022-09-14T09:38:17.266382Z",
          "iopub.status.idle": "2022-09-14T09:38:17.500145Z",
          "shell.execute_reply": "2022-09-14T09:38:17.498783Z"
        },
        "papermill": {
          "duration": 0.27736,
          "end_time": "2022-09-14T09:38:17.503792",
          "exception": false,
          "start_time": "2022-09-14T09:38:17.226432",
          "status": "completed"
        },
        "tags": [],
        "colab": {
          "base_uri": "https://localhost:8080/",
          "height": 303
        },
        "id": "7b50affa",
        "outputId": "be870d7d-ab40-4b48-c47b-1605bb24b0b1"
      },
      "outputs": [
        {
          "output_type": "display_data",
          "data": {
            "text/plain": [
              "<Figure size 360x288 with 1 Axes>"
            ],
            "image/png": "[encoded data removed]"
          },
          "metadata": {
            "needs_background": "light"
          }
        }
      ],
      "source": [
        "# MQH giữa tiêu thụ bia rượu và bệnh tiểu đường \n",
        "\n",
        "pd.crosstab(df1.HvyAlcoholConsump,df1.Diabetes_binary).plot(kind=\"bar\",figsize=(5,4))\n",
        "\n",
        "plt.title('Tần suất bệnh TD với người tiêu thụ nhiều Alcohol ')\n",
        "plt.xlabel(\"Tiêu thụ nhiều Alcohol \")\n",
        "plt.ylabel('Tần suất ')\n",
        "plt.show()"
      ]
    },
    {
      "cell_type": "markdown",
      "id": "aaffbff1",
      "metadata": {
        "papermill": {
          "duration": 0.036563,
          "end_time": "2022-09-14T09:38:17.578313",
          "exception": false,
          "start_time": "2022-09-14T09:38:17.541750",
          "status": "completed"
        },
        "tags": [],
        "id": "aaffbff1"
      },
      "source": [
        "* Kết luận:\n",
        "\n",
        "Theo dữ liệu này, chưa đủ thông tin để kết luận ảnh hưởng của HvyAlcoholConsump đối với bệnh tiểu đường.\n",
        "\n",
        "Nhưng Rượu bia có hại cho sức khỏe"
      ]
    },
    {
      "cell_type": "markdown",
      "id": "a8187a1d",
      "metadata": {
        "papermill": {
          "duration": 0.037733,
          "end_time": "2022-09-14T09:38:17.729718",
          "exception": false,
          "start_time": "2022-09-14T09:38:17.691985",
          "status": "completed"
        },
        "tags": [],
        "id": "a8187a1d"
      },
      "source": [
        "**Kết hợp 2 yếu tố hút thuốc(Smoker) và tiêu thụ rượu bia nhiều (HvyAlcoholConsump) ảnh hưởng đến bệnh tiểu đường "
      ]
    },
    {
      "cell_type": "code",
      "execution_count": 43,
      "id": "ee02a752",
      "metadata": {
        "execution": {
          "iopub.execute_input": "2022-09-14T09:38:17.806210Z",
          "iopub.status.busy": "2022-09-14T09:38:17.805144Z",
          "iopub.status.idle": "2022-09-14T09:38:17.865196Z",
          "shell.execute_reply": "2022-09-14T09:38:17.863986Z"
        },
        "papermill": {
          "duration": 0.100805,
          "end_time": "2022-09-14T09:38:17.867844",
          "exception": false,
          "start_time": "2022-09-14T09:38:17.767039",
          "status": "completed"
        },
        "tags": [],
        "colab": {
          "base_uri": "https://localhost:8080/"
        },
        "id": "ee02a752",
        "outputId": "80dc906c-f373-4a7a-c381-8434d06eb094"
      },
      "outputs": [
        {
          "output_type": "execute_result",
          "data": {
            "text/plain": [
              "Smoker  HvyAlcoholConsump  Diabetes_binary\n",
              "0.0     0.0                0.0                85.851732\n",
              "                           1.0                14.148268\n",
              "        1.0                0.0                95.585492\n",
              "                           1.0                 4.414508\n",
              "1.0     0.0                0.0                81.993372\n",
              "                           1.0                18.006628\n",
              "        1.0                0.0                93.216438\n",
              "                           1.0                 6.783562\n",
              "Name: Diabetes_binary, dtype: float64"
            ]
          },
          "metadata": {},
          "execution_count": 43
        }
      ],
      "source": [
        "(df1.groupby([\"Smoker\" , \"HvyAlcoholConsump\"])[\"Diabetes_binary\"].value_counts()/df1.groupby([\"Smoker\" , \"HvyAlcoholConsump\"])[\"Diabetes_binary\"].count())*100\n"
      ]
    },
    {
      "cell_type": "code",
      "execution_count": 44,
      "id": "0f17b351",
      "metadata": {
        "execution": {
          "iopub.execute_input": "2022-09-14T09:38:17.945680Z",
          "iopub.status.busy": "2022-09-14T09:38:17.945179Z",
          "iopub.status.idle": "2022-09-14T09:38:21.381261Z",
          "shell.execute_reply": "2022-09-14T09:38:21.380006Z"
        },
        "papermill": {
          "duration": 3.477893,
          "end_time": "2022-09-14T09:38:21.383956",
          "exception": false,
          "start_time": "2022-09-14T09:38:17.906063",
          "status": "completed"
        },
        "tags": [],
        "colab": {
          "base_uri": "https://localhost:8080/",
          "height": 386
        },
        "id": "0f17b351",
        "outputId": "8a6c8610-734f-4d92-fd57-6d4ee492d38d"
      },
      "outputs": [
        {
          "output_type": "display_data",
          "data": {
            "text/plain": [
              "<Figure size 449x360 with 1 Axes>"
            ],
            "image/png": "[encoded data removed]"
          },
          "metadata": {
            "needs_background": "light"
          }
        }
      ],
      "source": [
        "sns.catplot(x=\"Smoker\" , y =\"HvyAlcoholConsump\" , data = df1 , hue=\"Diabetes_binary\"  , kind=\"bar\"  );  \n",
        "plt.title(\" Smoker ,HvyAlcoholConsump và bệnh tiểu đường\")\n",
        "\n",
        "plt.show()"
      ]
    },
    {
      "cell_type": "markdown",
      "id": "3888571f",
      "metadata": {
        "papermill": {
          "duration": 0.03646,
          "end_time": "2022-09-14T09:38:21.457799",
          "exception": false,
          "start_time": "2022-09-14T09:38:21.421339",
          "status": "completed"
        },
        "tags": [],
        "id": "3888571f"
      },
      "source": [
        "* Kết luận:\n",
        " Hút thuốc và uống rượu bia nhiều cùng nhau làm tăng nguy cơ mắc bệnh tiểu đường"
      ]
    },
    {
      "cell_type": "markdown",
      "id": "4a60229e",
      "metadata": {
        "papermill": {
          "duration": 0.036755,
          "end_time": "2022-09-14T09:38:21.531283",
          "exception": false,
          "start_time": "2022-09-14T09:38:21.494528",
          "status": "completed"
        },
        "tags": [],
        "id": "4a60229e"
      },
      "source": [
        "**Tác động Đột quỵ và Nhồi máu cơ tim với Bệnh tiểu đường**"
      ]
    },
    {
      "cell_type": "code",
      "execution_count": 45,
      "id": "3486db18",
      "metadata": {
        "execution": {
          "iopub.execute_input": "2022-09-14T09:38:21.607264Z",
          "iopub.status.busy": "2022-09-14T09:38:21.606857Z",
          "iopub.status.idle": "2022-09-14T09:38:21.660275Z",
          "shell.execute_reply": "2022-09-14T09:38:21.659039Z"
        },
        "papermill": {
          "duration": 0.094841,
          "end_time": "2022-09-14T09:38:21.663053",
          "exception": false,
          "start_time": "2022-09-14T09:38:21.568212",
          "status": "completed"
        },
        "tags": [],
        "colab": {
          "base_uri": "https://localhost:8080/"
        },
        "id": "3486db18",
        "outputId": "4bb8e74b-38c6-4e4c-b385-892c02782d36"
      },
      "outputs": [
        {
          "output_type": "execute_result",
          "data": {
            "text/plain": [
              "Stroke  HeartDiseaseorAttack  Diabetes_binary\n",
              "0.0     0.0                   0.0                87.157808\n",
              "                              1.0                12.842192\n",
              "        1.0                   0.0                68.549325\n",
              "                              1.0                31.450675\n",
              "1.0     0.0                   0.0                74.291115\n",
              "                              1.0                25.708885\n",
              "        1.0                   0.0                58.434959\n",
              "                              1.0                41.565041\n",
              "Name: Diabetes_binary, dtype: float64"
            ]
          },
          "metadata": {},
          "execution_count": 45
        }
      ],
      "source": [
        "(df1.groupby([\"Stroke\" , \"HeartDiseaseorAttack\"])[\"Diabetes_binary\"].value_counts()/df1.groupby([\"Stroke\" , \"HeartDiseaseorAttack\"])[\"Diabetes_binary\"].count())*100"
      ]
    },
    {
      "cell_type": "code",
      "execution_count": 46,
      "id": "1a5de924",
      "metadata": {
        "execution": {
          "iopub.execute_input": "2022-09-14T09:38:21.740849Z",
          "iopub.status.busy": "2022-09-14T09:38:21.739794Z",
          "iopub.status.idle": "2022-09-14T09:38:25.642968Z",
          "shell.execute_reply": "2022-09-14T09:38:25.641744Z"
        },
        "papermill": {
          "duration": 3.945091,
          "end_time": "2022-09-14T09:38:25.645400",
          "exception": false,
          "start_time": "2022-09-14T09:38:21.700309",
          "status": "completed"
        },
        "tags": [],
        "colab": {
          "base_uri": "https://localhost:8080/",
          "height": 386
        },
        "id": "1a5de924",
        "outputId": "32a24ae1-ec57-40d7-d6c1-fd12f6b229f0"
      },
      "outputs": [
        {
          "output_type": "display_data",
          "data": {
            "text/plain": [
              "<Figure size 449x360 with 1 Axes>"
            ],
            "image/png": "[encoded data removed]"
          },
          "metadata": {
            "needs_background": "light"
          }
        }
      ],
      "source": [
        "sns.catplot(x=\"Stroke\" , y =\"HeartDiseaseorAttack\" , data = df1 , hue=\"Diabetes_binary\"  , kind=\"bar\"  );\n",
        "plt.title(\"Đột quỵ, Nhồi tim và Bệnh TD \")\n",
        "plt.show()"
      ]
    },
    {
      "cell_type": "markdown",
      "id": "6252b55f",
      "metadata": {
        "papermill": {
          "duration": 0.038364,
          "end_time": "2022-09-14T09:38:25.721784",
          "exception": false,
          "start_time": "2022-09-14T09:38:25.683420",
          "status": "completed"
        },
        "tags": [],
        "id": "6252b55f"
      },
      "source": [
        "* Kết luận:\n",
        "Đột quỵ và bệnh tim làm tăng nguy cơ mắc bệnh Tiểu đường"
      ]
    },
    {
      "cell_type": "code",
      "execution_count": 47,
      "id": "8186fab6",
      "metadata": {
        "execution": {
          "iopub.execute_input": "2022-09-14T09:38:32.031881Z",
          "iopub.status.busy": "2022-09-14T09:38:32.031309Z",
          "iopub.status.idle": "2022-09-14T09:38:32.078787Z",
          "shell.execute_reply": "2022-09-14T09:38:32.077468Z"
        },
        "papermill": {
          "duration": 0.091555,
          "end_time": "2022-09-14T09:38:32.081568",
          "exception": false,
          "start_time": "2022-09-14T09:38:31.990013",
          "status": "completed"
        },
        "tags": [],
        "colab": {
          "base_uri": "https://localhost:8080/",
          "height": 1000
        },
        "id": "8186fab6",
        "outputId": "4a50cfe2-c7d3-484a-def3-a62fa2aea257"
      },
      "outputs": [
        {
          "output_type": "execute_result",
          "data": {
            "text/plain": [
              "Diabetes_binary     0.0    1.0\n",
              "MentHlth                      \n",
              "0.0              129170  23155\n",
              "1.0                7495    812\n",
              "2.0               11185   1507\n",
              "3.0                6377    924\n",
              "4.0                3285    489\n",
              "5.0                7690   1223\n",
              "6.0                 824    164\n",
              "7.0                2685    405\n",
              "8.0                 529    110\n",
              "9.0                  78     13\n",
              "10.0               5288   1064\n",
              "11.0                 38      3\n",
              "12.0                331     67\n",
              "13.0                 33      8\n",
              "14.0                969    198\n",
              "15.0               4478   1023\n",
              "16.0                 74     14\n",
              "17.0                 43     11\n",
              "18.0                 77     20\n",
              "19.0                 12      4\n",
              "20.0               2699    663\n",
              "21.0                179     48\n",
              "22.0                 52     11\n",
              "23.0                 30      8\n",
              "24.0                 27      6\n",
              "25.0                915    273\n",
              "26.0                 38      7\n",
              "27.0                 67     12\n",
              "28.0                270     57\n",
              "29.0                128     30\n",
              "30.0               9311   2768"
            ],
            "text/html": [
              "\n",
              "  <div id=\"df-b4cd39e2-8f5d-47e9-8d0a-93c22d2b0fb0\">\n",
              "    <div class=\"colab-df-container\">\n",
              "      <div>\n",
              "<style scoped>\n",
              "    .dataframe tbody tr th:only-of-type {\n",
              "        vertical-align: middle;\n",
              "    }\n",
              "\n",
              "    .dataframe tbody tr th {\n",
              "        vertical-align: top;\n",
              "    }\n",
              "\n",
              "    .dataframe thead th {\n",
              "        text-align: right;\n",
              "    }\n",
              "</style>\n",
              "<table border=\"1\" class=\"dataframe\">\n",
              "  <thead>\n",
              "    <tr style=\"text-align: right;\">\n",
              "      <th>Diabetes_binary</th>\n",
              "      <th>0.0</th>\n",
              "      <th>1.0</th>\n",
              "    </tr>\n",
              "    <tr>\n",
              "      <th>MentHlth</th>\n",
              "      <th></th>\n",
              "      <th></th>\n",
              "    </tr>\n",
              "  </thead>\n",
              "  <tbody>\n",
              "    <tr>\n",
              "      <th>0.0</th>\n",
              "      <td>129170</td>\n",
              "      <td>23155</td>\n",
              "    </tr>\n",
              "    <tr>\n",
              "      <th>1.0</th>\n",
              "      <td>7495</td>\n",
              "      <td>812</td>\n",
              "    </tr>\n",
              "    <tr>\n",
              "      <th>2.0</th>\n",
              "      <td>11185</td>\n",
              "      <td>1507</td>\n",
              "    </tr>\n",
              "    <tr>\n",
              "      <th>3.0</th>\n",
              "      <td>6377</td>\n",
              "      <td>924</td>\n",
              "    </tr>\n",
              "    <tr>\n",
              "      <th>4.0</th>\n",
              "      <td>3285</td>\n",
              "      <td>489</td>\n",
              "    </tr>\n",
              "    <tr>\n",
              "      <th>5.0</th>\n",
              "      <td>7690</td>\n",
              "      <td>1223</td>\n",
              "    </tr>\n",
              "    <tr>\n",
              "      <th>6.0</th>\n",
              "      <td>824</td>\n",
              "      <td>164</td>\n",
              "    </tr>\n",
              "    <tr>\n",
              "      <th>7.0</th>\n",
              "      <td>2685</td>\n",
              "      <td>405</td>\n",
              "    </tr>\n",
              "    <tr>\n",
              "      <th>8.0</th>\n",
              "      <td>529</td>\n",
              "      <td>110</td>\n",
              "    </tr>\n",
              "    <tr>\n",
              "      <th>9.0</th>\n",
              "      <td>78</td>\n",
              "      <td>13</td>\n",
              "    </tr>\n",
              "    <tr>\n",
              "      <th>10.0</th>\n",
              "      <td>5288</td>\n",
              "      <td>1064</td>\n",
              "    </tr>\n",
              "    <tr>\n",
              "      <th>11.0</th>\n",
              "      <td>38</td>\n",
              "      <td>3</td>\n",
              "    </tr>\n",
              "    <tr>\n",
              "      <th>12.0</th>\n",
              "      <td>331</td>\n",
              "      <td>67</td>\n",
              "    </tr>\n",
              "    <tr>\n",
              "      <th>13.0</th>\n",
              "      <td>33</td>\n",
              "      <td>8</td>\n",
              "    </tr>\n",
              "    <tr>\n",
              "      <th>14.0</th>\n",
              "      <td>969</td>\n",
              "      <td>198</td>\n",
              "    </tr>\n",
              "    <tr>\n",
              "      <th>15.0</th>\n",
              "      <td>4478</td>\n",
              "      <td>1023</td>\n",
              "    </tr>\n",
              "    <tr>\n",
              "      <th>16.0</th>\n",
              "      <td>74</td>\n",
              "      <td>14</td>\n",
              "    </tr>\n",
              "    <tr>\n",
              "      <th>17.0</th>\n",
              "      <td>43</td>\n",
              "      <td>11</td>\n",
              "    </tr>\n",
              "    <tr>\n",
              "      <th>18.0</th>\n",
              "      <td>77</td>\n",
              "      <td>20</td>\n",
              "    </tr>\n",
              "    <tr>\n",
              "      <th>19.0</th>\n",
              "      <td>12</td>\n",
              "      <td>4</td>\n",
              "    </tr>\n",
              "    <tr>\n",
              "      <th>20.0</th>\n",
              "      <td>2699</td>\n",
              "      <td>663</td>\n",
              "    </tr>\n",
              "    <tr>\n",
              "      <th>21.0</th>\n",
              "      <td>179</td>\n",
              "      <td>48</td>\n",
              "    </tr>\n",
              "    <tr>\n",
              "      <th>22.0</th>\n",
              "      <td>52</td>\n",
              "      <td>11</td>\n",
              "    </tr>\n",
              "    <tr>\n",
              "      <th>23.0</th>\n",
              "      <td>30</td>\n",
              "      <td>8</td>\n",
              "    </tr>\n",
              "    <tr>\n",
              "      <th>24.0</th>\n",
              "      <td>27</td>\n",
              "      <td>6</td>\n",
              "    </tr>\n",
              "    <tr>\n",
              "      <th>25.0</th>\n",
              "      <td>915</td>\n",
              "      <td>273</td>\n",
              "    </tr>\n",
              "    <tr>\n",
              "      <th>26.0</th>\n",
              "      <td>38</td>\n",
              "      <td>7</td>\n",
              "    </tr>\n",
              "    <tr>\n",
              "      <th>27.0</th>\n",
              "      <td>67</td>\n",
              "      <td>12</td>\n",
              "    </tr>\n",
              "    <tr>\n",
              "      <th>28.0</th>\n",
              "      <td>270</td>\n",
              "      <td>57</td>\n",
              "    </tr>\n",
              "    <tr>\n",
              "      <th>29.0</th>\n",
              "      <td>128</td>\n",
              "      <td>30</td>\n",
              "    </tr>\n",
              "    <tr>\n",
              "      <th>30.0</th>\n",
              "      <td>9311</td>\n",
              "      <td>2768</td>\n",
              "    </tr>\n",
              "  </tbody>\n",
              "</table>\n",
              "</div>\n",
              "      <button class=\"colab-df-convert\" onclick=\"convertToInteractive('df-b4cd39e2-8f5d-47e9-8d0a-93c22d2b0fb0')\"\n",
              "              title=\"Convert this dataframe to an interactive table.\"\n",
              "              style=\"display:none;\">\n",
              "        \n",
              "  <svg xmlns=\"http://www.w3.org/2000/svg\" height=\"24px\"viewBox=\"0 0 24 24\"\n",
              "       width=\"24px\">\n",
              "    <path d=\"M0 0h24v24H0V0z\" fill=\"none\"/>\n",
              "    <path d=\"M18.56 5.44l.94 2.06.94-2.06 2.06-.94-2.06-.94-.94-2.06-.94 2.06-2.06.94zm-11 1L8.5 8.5l.94-2.06 2.06-.94-2.06-.94L8.5 2.5l-.94 2.06-2.06.94zm10 10l.94 2.06.94-2.06 2.06-.94-2.06-.94-.94-2.06-.94 2.06-2.06.94z\"/><path d=\"M17.41 7.96l-1.37-1.37c-.4-.4-.92-.59-1.43-.59-.52 0-1.04.2-1.43.59L10.3 9.45l-7.72 7.72c-.78.78-.78 2.05 0 2.83L4 21.41c.39.39.9.59 1.41.59.51 0 1.02-.2 1.41-.59l7.78-7.78 2.81-2.81c.8-.78.8-2.07 0-2.86zM5.41 20L4 18.59l7.72-7.72 1.47 1.35L5.41 20z\"/>\n",
              "  </svg>\n",
              "      </button>\n",
              "      \n",
              "  <style>\n",
              "    .colab-df-container {\n",
              "      display:flex;\n",
              "      flex-wrap:wrap;\n",
              "      gap: 12px;\n",
              "    }\n",
              "\n",
              "    .colab-df-convert {\n",
              "      background-color: #E8F0FE;\n",
              "      border: none;\n",
              "      border-radius: 50%;\n",
              "      cursor: pointer;\n",
              "      display: none;\n",
              "      fill: #1967D2;\n",
              "      height: 32px;\n",
              "      padding: 0 0 0 0;\n",
              "      width: 32px;\n",
              "    }\n",
              "\n",
              "    .colab-df-convert:hover {\n",
              "      background-color: #E2EBFA;\n",
              "      box-shadow: 0px 1px 2px rgba(60, 64, 67, 0.3), 0px 1px 3px 1px rgba(60, 64, 67, 0.15);\n",
              "      fill: #174EA6;\n",
              "    }\n",
              "\n",
              "    [theme=dark] .colab-df-convert {\n",
              "      background-color: #3B4455;\n",
              "      fill: #D2E3FC;\n",
              "    }\n",
              "\n",
              "    [theme=dark] .colab-df-convert:hover {\n",
              "      background-color: #434B5C;\n",
              "      box-shadow: 0px 1px 3px 1px rgba(0, 0, 0, 0.15);\n",
              "      filter: drop-shadow(0px 1px 2px rgba(0, 0, 0, 0.3));\n",
              "      fill: #FFFFFF;\n",
              "    }\n",
              "  </style>\n",
              "\n",
              "      <script>\n",
              "        const buttonEl =\n",
              "          document.querySelector('#df-b4cd39e2-8f5d-47e9-8d0a-93c22d2b0fb0 button.colab-df-convert');\n",
              "        buttonEl.style.display =\n",
              "          google.colab.kernel.accessAllowed ? 'block' : 'none';\n",
              "\n",
              "        async function convertToInteractive(key) {\n",
              "          const element = document.querySelector('#df-b4cd39e2-8f5d-47e9-8d0a-93c22d2b0fb0');\n",
              "          const dataTable =\n",
              "            await google.colab.kernel.invokeFunction('convertToInteractive',\n",
              "                                                     [key], {});\n",
              "          if (!dataTable) return;\n",
              "\n",
              "          const docLinkHtml = 'Like what you see? Visit the ' +\n",
              "            '<a target=\"_blank\" href=https://colab.research.google.com/notebooks/data_table.ipynb>data table notebook</a>'\n",
              "            + ' to learn more about interactive tables.';\n",
              "          element.innerHTML = '';\n",
              "          dataTable['output_type'] = 'display_data';\n",
              "          await google.colab.output.renderOutput(dataTable, element);\n",
              "          const docLink = document.createElement('div');\n",
              "          docLink.innerHTML = docLinkHtml;\n",
              "          element.appendChild(docLink);\n",
              "        }\n",
              "      </script>\n",
              "    </div>\n",
              "  </div>\n",
              "  "
            ]
          },
          "metadata": {},
          "execution_count": 47
        }
      ],
      "source": [
        "#Sức khỏe tinh thần liên quan đến bệnh TD \n",
        "\n",
        "pd.crosstab(df1.MentHlth,df1.Diabetes_binary)"
      ]
    },
    {
      "cell_type": "markdown",
      "id": "b7894d9a",
      "metadata": {
        "papermill": {
          "duration": 0.038241,
          "end_time": "2022-09-14T09:38:32.159937",
          "exception": false,
          "start_time": "2022-09-14T09:38:32.121696",
          "status": "completed"
        },
        "tags": [],
        "id": "b7894d9a"
      },
      "source": [
        "* Kết Luận: MentHlth là yếu tố chính gây ra bệnh tiểu đường. Khi sức khỏe tinh thầnthần không ổn định trong thời gian dài thì nguy cơ mắc bệnh tiểu đường sẽ tăng lên."
      ]
    },
    {
      "cell_type": "markdown",
      "id": "19447c72",
      "metadata": {
        "papermill": {
          "duration": 0.038439,
          "end_time": "2022-09-14T09:38:32.238714",
          "exception": false,
          "start_time": "2022-09-14T09:38:32.200275",
          "status": "completed"
        },
        "tags": [],
        "id": "19447c72"
      },
      "source": [
        "**Giáo dục và bệnh TD**"
      ]
    },
    {
      "cell_type": "code",
      "execution_count": 48,
      "id": "69bb0a48",
      "metadata": {
        "execution": {
          "iopub.execute_input": "2022-09-14T09:38:32.318620Z",
          "iopub.status.busy": "2022-09-14T09:38:32.318189Z",
          "iopub.status.idle": "2022-09-14T09:38:32.361067Z",
          "shell.execute_reply": "2022-09-14T09:38:32.360164Z"
        },
        "papermill": {
          "duration": 0.086084,
          "end_time": "2022-09-14T09:38:32.363431",
          "exception": false,
          "start_time": "2022-09-14T09:38:32.277347",
          "status": "completed"
        },
        "tags": [],
        "colab": {
          "base_uri": "https://localhost:8080/",
          "height": 269
        },
        "id": "69bb0a48",
        "outputId": "4a5abf14-573e-4dd5-e05f-451235e3bd18"
      },
      "outputs": [
        {
          "output_type": "execute_result",
          "data": {
            "text/plain": [
              "Diabetes_binary    0.0    1.0\n",
              "Education                    \n",
              "1.0                127     47\n",
              "2.0               2857   1183\n",
              "3.0               7171   2296\n",
              "4.0              50092  11032\n",
              "5.0              56133  10311\n",
              "6.0              77997  10228"
            ],
            "text/html": [
              "\n",
              "  <div id=\"df-d6f230f4-fb55-4315-b559-a4443c8ecdcf\">\n",
              "    <div class=\"colab-df-container\">\n",
              "      <div>\n",
              "<style scoped>\n",
              "    .dataframe tbody tr th:only-of-type {\n",
              "        vertical-align: middle;\n",
              "    }\n",
              "\n",
              "    .dataframe tbody tr th {\n",
              "        vertical-align: top;\n",
              "    }\n",
              "\n",
              "    .dataframe thead th {\n",
              "        text-align: right;\n",
              "    }\n",
              "</style>\n",
              "<table border=\"1\" class=\"dataframe\">\n",
              "  <thead>\n",
              "    <tr style=\"text-align: right;\">\n",
              "      <th>Diabetes_binary</th>\n",
              "      <th>0.0</th>\n",
              "      <th>1.0</th>\n",
              "    </tr>\n",
              "    <tr>\n",
              "      <th>Education</th>\n",
              "      <th></th>\n",
              "      <th></th>\n",
              "    </tr>\n",
              "  </thead>\n",
              "  <tbody>\n",
              "    <tr>\n",
              "      <th>1.0</th>\n",
              "      <td>127</td>\n",
              "      <td>47</td>\n",
              "    </tr>\n",
              "    <tr>\n",
              "      <th>2.0</th>\n",
              "      <td>2857</td>\n",
              "      <td>1183</td>\n",
              "    </tr>\n",
              "    <tr>\n",
              "      <th>3.0</th>\n",
              "      <td>7171</td>\n",
              "      <td>2296</td>\n",
              "    </tr>\n",
              "    <tr>\n",
              "      <th>4.0</th>\n",
              "      <td>50092</td>\n",
              "      <td>11032</td>\n",
              "    </tr>\n",
              "    <tr>\n",
              "      <th>5.0</th>\n",
              "      <td>56133</td>\n",
              "      <td>10311</td>\n",
              "    </tr>\n",
              "    <tr>\n",
              "      <th>6.0</th>\n",
              "      <td>77997</td>\n",
              "      <td>10228</td>\n",
              "    </tr>\n",
              "  </tbody>\n",
              "</table>\n",
              "</div>\n",
              "      <button class=\"colab-df-convert\" onclick=\"convertToInteractive('df-d6f230f4-fb55-4315-b559-a4443c8ecdcf')\"\n",
              "              title=\"Convert this dataframe to an interactive table.\"\n",
              "              style=\"display:none;\">\n",
              "        \n",
              "  <svg xmlns=\"http://www.w3.org/2000/svg\" height=\"24px\"viewBox=\"0 0 24 24\"\n",
              "       width=\"24px\">\n",
              "    <path d=\"M0 0h24v24H0V0z\" fill=\"none\"/>\n",
              "    <path d=\"M18.56 5.44l.94 2.06.94-2.06 2.06-.94-2.06-.94-.94-2.06-.94 2.06-2.06.94zm-11 1L8.5 8.5l.94-2.06 2.06-.94-2.06-.94L8.5 2.5l-.94 2.06-2.06.94zm10 10l.94 2.06.94-2.06 2.06-.94-2.06-.94-.94-2.06-.94 2.06-2.06.94z\"/><path d=\"M17.41 7.96l-1.37-1.37c-.4-.4-.92-.59-1.43-.59-.52 0-1.04.2-1.43.59L10.3 9.45l-7.72 7.72c-.78.78-.78 2.05 0 2.83L4 21.41c.39.39.9.59 1.41.59.51 0 1.02-.2 1.41-.59l7.78-7.78 2.81-2.81c.8-.78.8-2.07 0-2.86zM5.41 20L4 18.59l7.72-7.72 1.47 1.35L5.41 20z\"/>\n",
              "  </svg>\n",
              "      </button>\n",
              "      \n",
              "  <style>\n",
              "    .colab-df-container {\n",
              "      display:flex;\n",
              "      flex-wrap:wrap;\n",
              "      gap: 12px;\n",
              "    }\n",
              "\n",
              "    .colab-df-convert {\n",
              "      background-color: #E8F0FE;\n",
              "      border: none;\n",
              "      border-radius: 50%;\n",
              "      cursor: pointer;\n",
              "      display: none;\n",
              "      fill: #1967D2;\n",
              "      height: 32px;\n",
              "      padding: 0 0 0 0;\n",
              "      width: 32px;\n",
              "    }\n",
              "\n",
              "    .colab-df-convert:hover {\n",
              "      background-color: #E2EBFA;\n",
              "      box-shadow: 0px 1px 2px rgba(60, 64, 67, 0.3), 0px 1px 3px 1px rgba(60, 64, 67, 0.15);\n",
              "      fill: #174EA6;\n",
              "    }\n",
              "\n",
              "    [theme=dark] .colab-df-convert {\n",
              "      background-color: #3B4455;\n",
              "      fill: #D2E3FC;\n",
              "    }\n",
              "\n",
              "    [theme=dark] .colab-df-convert:hover {\n",
              "      background-color: #434B5C;\n",
              "      box-shadow: 0px 1px 3px 1px rgba(0, 0, 0, 0.15);\n",
              "      filter: drop-shadow(0px 1px 2px rgba(0, 0, 0, 0.3));\n",
              "      fill: #FFFFFF;\n",
              "    }\n",
              "  </style>\n",
              "\n",
              "      <script>\n",
              "        const buttonEl =\n",
              "          document.querySelector('#df-d6f230f4-fb55-4315-b559-a4443c8ecdcf button.colab-df-convert');\n",
              "        buttonEl.style.display =\n",
              "          google.colab.kernel.accessAllowed ? 'block' : 'none';\n",
              "\n",
              "        async function convertToInteractive(key) {\n",
              "          const element = document.querySelector('#df-d6f230f4-fb55-4315-b559-a4443c8ecdcf');\n",
              "          const dataTable =\n",
              "            await google.colab.kernel.invokeFunction('convertToInteractive',\n",
              "                                                     [key], {});\n",
              "          if (!dataTable) return;\n",
              "\n",
              "          const docLinkHtml = 'Like what you see? Visit the ' +\n",
              "            '<a target=\"_blank\" href=https://colab.research.google.com/notebooks/data_table.ipynb>data table notebook</a>'\n",
              "            + ' to learn more about interactive tables.';\n",
              "          element.innerHTML = '';\n",
              "          dataTable['output_type'] = 'display_data';\n",
              "          await google.colab.output.renderOutput(dataTable, element);\n",
              "          const docLink = document.createElement('div');\n",
              "          docLink.innerHTML = docLinkHtml;\n",
              "          element.appendChild(docLink);\n",
              "        }\n",
              "      </script>\n",
              "    </div>\n",
              "  </div>\n",
              "  "
            ]
          },
          "metadata": {},
          "execution_count": 48
        }
      ],
      "source": [
        "pd.crosstab(df1.Education,df1.Diabetes_binary)"
      ]
    },
    {
      "cell_type": "code",
      "execution_count": 49,
      "id": "cb9c80d9",
      "metadata": {
        "execution": {
          "iopub.execute_input": "2022-09-14T09:38:32.443067Z",
          "iopub.status.busy": "2022-09-14T09:38:32.442614Z",
          "iopub.status.idle": "2022-09-14T09:38:33.894950Z",
          "shell.execute_reply": "2022-09-14T09:38:33.893422Z"
        },
        "papermill": {
          "duration": 1.495328,
          "end_time": "2022-09-14T09:38:33.897720",
          "exception": false,
          "start_time": "2022-09-14T09:38:32.402392",
          "status": "completed"
        },
        "tags": [],
        "colab": {
          "base_uri": "https://localhost:8080/",
          "height": 421
        },
        "id": "cb9c80d9",
        "outputId": "c26d67e0-05c4-49f3-e27f-4aa7cb5da022"
      },
      "outputs": [
        {
          "output_type": "execute_result",
          "data": {
            "text/plain": [
              "<matplotlib.legend.Legend at 0x7f0475576b90>"
            ]
          },
          "metadata": {},
          "execution_count": 49
        },
        {
          "output_type": "display_data",
          "data": {
            "text/plain": [
              "<Figure size 720x432 with 1 Axes>"
            ],
            "image/png": "[encoded data removed]"
          },
          "metadata": {
            "needs_background": "light"
          }
        }
      ],
      "source": [
        "plt.figure(figsize=(10,6))\n",
        "warnings.filterwarnings('ignore')\n",
        "\n",
        "sns.distplot(BMI_2.Education[df1.Diabetes_binary == 0], color=\"y\", label=\"Không bệnh\" )\n",
        "sns.distplot(BMI_2.Education[df1.Diabetes_binary == 1], color=\"m\", label=\"Có bệnh\" )\n",
        "plt.title(\"MQH giữa giáo dục và bệnh TD\")\n",
        "\n",
        "plt.legend()"
      ]
    },
    {
      "cell_type": "code",
      "source": [],
      "metadata": {
        "id": "-GabH-8wyz3n"
      },
      "id": "-GabH-8wyz3n",
      "execution_count": 49,
      "outputs": []
    },
    {
      "cell_type": "markdown",
      "source": [
        "*Được giáo dục kiến thức đầy đủ sẽ giảm nguy cơ mắc bệnh"
      ],
      "metadata": {
        "id": "DnNLC2Xjy0ad"
      },
      "id": "DnNLC2Xjy0ad"
    },
    {
      "cell_type": "markdown",
      "id": "37c09802",
      "metadata": {
        "papermill": {
          "duration": 0.041556,
          "end_time": "2022-09-14T09:38:33.979981",
          "exception": false,
          "start_time": "2022-09-14T09:38:33.938425",
          "status": "completed"
        },
        "tags": [],
        "id": "37c09802"
      },
      "source": [
        "**Mức thu nhập**"
      ]
    },
    {
      "cell_type": "code",
      "execution_count": 50,
      "id": "b446baf2",
      "metadata": {
        "execution": {
          "iopub.execute_input": "2022-09-14T09:38:34.063891Z",
          "iopub.status.busy": "2022-09-14T09:38:34.062527Z",
          "iopub.status.idle": "2022-09-14T09:38:34.109314Z",
          "shell.execute_reply": "2022-09-14T09:38:34.108030Z"
        },
        "papermill": {
          "duration": 0.092082,
          "end_time": "2022-09-14T09:38:34.111864",
          "exception": false,
          "start_time": "2022-09-14T09:38:34.019782",
          "status": "completed"
        },
        "tags": [],
        "colab": {
          "base_uri": "https://localhost:8080/",
          "height": 332
        },
        "id": "b446baf2",
        "outputId": "c64bb481-d807-4d2d-bc83-5cc3bbebcefc"
      },
      "outputs": [
        {
          "output_type": "execute_result",
          "data": {
            "text/plain": [
              "Diabetes_binary    0.0   1.0\n",
              "Income                      \n",
              "1.0               7408  2383\n",
              "2.0               8670  3086\n",
              "3.0              12356  3564\n",
              "4.0              15906  4047\n",
              "5.0              20837  4489\n",
              "6.0              29697  5260\n",
              "7.0              34905  5226\n",
              "8.0              64598  7042"
            ],
            "text/html": [
              "\n",
              "  <div id=\"df-4dd1476f-de2f-4397-acf8-c366667ca2bf\">\n",
              "    <div class=\"colab-df-container\">\n",
              "      <div>\n",
              "<style scoped>\n",
              "    .dataframe tbody tr th:only-of-type {\n",
              "        vertical-align: middle;\n",
              "    }\n",
              "\n",
              "    .dataframe tbody tr th {\n",
              "        vertical-align: top;\n",
              "    }\n",
              "\n",
              "    .dataframe thead th {\n",
              "        text-align: right;\n",
              "    }\n",
              "</style>\n",
              "<table border=\"1\" class=\"dataframe\">\n",
              "  <thead>\n",
              "    <tr style=\"text-align: right;\">\n",
              "      <th>Diabetes_binary</th>\n",
              "      <th>0.0</th>\n",
              "      <th>1.0</th>\n",
              "    </tr>\n",
              "    <tr>\n",
              "      <th>Income</th>\n",
              "      <th></th>\n",
              "      <th></th>\n",
              "    </tr>\n",
              "  </thead>\n",
              "  <tbody>\n",
              "    <tr>\n",
              "      <th>1.0</th>\n",
              "      <td>7408</td>\n",
              "      <td>2383</td>\n",
              "    </tr>\n",
              "    <tr>\n",
              "      <th>2.0</th>\n",
              "      <td>8670</td>\n",
              "      <td>3086</td>\n",
              "    </tr>\n",
              "    <tr>\n",
              "      <th>3.0</th>\n",
              "      <td>12356</td>\n",
              "      <td>3564</td>\n",
              "    </tr>\n",
              "    <tr>\n",
              "      <th>4.0</th>\n",
              "      <td>15906</td>\n",
              "      <td>4047</td>\n",
              "    </tr>\n",
              "    <tr>\n",
              "      <th>5.0</th>\n",
              "      <td>20837</td>\n",
              "      <td>4489</td>\n",
              "    </tr>\n",
              "    <tr>\n",
              "      <th>6.0</th>\n",
              "      <td>29697</td>\n",
              "      <td>5260</td>\n",
              "    </tr>\n",
              "    <tr>\n",
              "      <th>7.0</th>\n",
              "      <td>34905</td>\n",
              "      <td>5226</td>\n",
              "    </tr>\n",
              "    <tr>\n",
              "      <th>8.0</th>\n",
              "      <td>64598</td>\n",
              "      <td>7042</td>\n",
              "    </tr>\n",
              "  </tbody>\n",
              "</table>\n",
              "</div>\n",
              "      <button class=\"colab-df-convert\" onclick=\"convertToInteractive('df-4dd1476f-de2f-4397-acf8-c366667ca2bf')\"\n",
              "              title=\"Convert this dataframe to an interactive table.\"\n",
              "              style=\"display:none;\">\n",
              "        \n",
              "  <svg xmlns=\"http://www.w3.org/2000/svg\" height=\"24px\"viewBox=\"0 0 24 24\"\n",
              "       width=\"24px\">\n",
              "    <path d=\"M0 0h24v24H0V0z\" fill=\"none\"/>\n",
              "    <path d=\"M18.56 5.44l.94 2.06.94-2.06 2.06-.94-2.06-.94-.94-2.06-.94 2.06-2.06.94zm-11 1L8.5 8.5l.94-2.06 2.06-.94-2.06-.94L8.5 2.5l-.94 2.06-2.06.94zm10 10l.94 2.06.94-2.06 2.06-.94-2.06-.94-.94-2.06-.94 2.06-2.06.94z\"/><path d=\"M17.41 7.96l-1.37-1.37c-.4-.4-.92-.59-1.43-.59-.52 0-1.04.2-1.43.59L10.3 9.45l-7.72 7.72c-.78.78-.78 2.05 0 2.83L4 21.41c.39.39.9.59 1.41.59.51 0 1.02-.2 1.41-.59l7.78-7.78 2.81-2.81c.8-.78.8-2.07 0-2.86zM5.41 20L4 18.59l7.72-7.72 1.47 1.35L5.41 20z\"/>\n",
              "  </svg>\n",
              "      </button>\n",
              "      \n",
              "  <style>\n",
              "    .colab-df-container {\n",
              "      display:flex;\n",
              "      flex-wrap:wrap;\n",
              "      gap: 12px;\n",
              "    }\n",
              "\n",
              "    .colab-df-convert {\n",
              "      background-color: #E8F0FE;\n",
              "      border: none;\n",
              "      border-radius: 50%;\n",
              "      cursor: pointer;\n",
              "      display: none;\n",
              "      fill: #1967D2;\n",
              "      height: 32px;\n",
              "      padding: 0 0 0 0;\n",
              "      width: 32px;\n",
              "    }\n",
              "\n",
              "    .colab-df-convert:hover {\n",
              "      background-color: #E2EBFA;\n",
              "      box-shadow: 0px 1px 2px rgba(60, 64, 67, 0.3), 0px 1px 3px 1px rgba(60, 64, 67, 0.15);\n",
              "      fill: #174EA6;\n",
              "    }\n",
              "\n",
              "    [theme=dark] .colab-df-convert {\n",
              "      background-color: #3B4455;\n",
              "      fill: #D2E3FC;\n",
              "    }\n",
              "\n",
              "    [theme=dark] .colab-df-convert:hover {\n",
              "      background-color: #434B5C;\n",
              "      box-shadow: 0px 1px 3px 1px rgba(0, 0, 0, 0.15);\n",
              "      filter: drop-shadow(0px 1px 2px rgba(0, 0, 0, 0.3));\n",
              "      fill: #FFFFFF;\n",
              "    }\n",
              "  </style>\n",
              "\n",
              "      <script>\n",
              "        const buttonEl =\n",
              "          document.querySelector('#df-4dd1476f-de2f-4397-acf8-c366667ca2bf button.colab-df-convert');\n",
              "        buttonEl.style.display =\n",
              "          google.colab.kernel.accessAllowed ? 'block' : 'none';\n",
              "\n",
              "        async function convertToInteractive(key) {\n",
              "          const element = document.querySelector('#df-4dd1476f-de2f-4397-acf8-c366667ca2bf');\n",
              "          const dataTable =\n",
              "            await google.colab.kernel.invokeFunction('convertToInteractive',\n",
              "                                                     [key], {});\n",
              "          if (!dataTable) return;\n",
              "\n",
              "          const docLinkHtml = 'Like what you see? Visit the ' +\n",
              "            '<a target=\"_blank\" href=https://colab.research.google.com/notebooks/data_table.ipynb>data table notebook</a>'\n",
              "            + ' to learn more about interactive tables.';\n",
              "          element.innerHTML = '';\n",
              "          dataTable['output_type'] = 'display_data';\n",
              "          await google.colab.output.renderOutput(dataTable, element);\n",
              "          const docLink = document.createElement('div');\n",
              "          docLink.innerHTML = docLinkHtml;\n",
              "          element.appendChild(docLink);\n",
              "        }\n",
              "      </script>\n",
              "    </div>\n",
              "  </div>\n",
              "  "
            ]
          },
          "metadata": {},
          "execution_count": 50
        }
      ],
      "source": [
        "pd.crosstab(df1.Income,df1.Diabetes_binary)"
      ]
    },
    {
      "cell_type": "code",
      "execution_count": 51,
      "id": "c3be5f16",
      "metadata": {
        "execution": {
          "iopub.execute_input": "2022-09-14T09:38:34.196218Z",
          "iopub.status.busy": "2022-09-14T09:38:34.195769Z",
          "iopub.status.idle": "2022-09-14T09:38:35.510986Z",
          "shell.execute_reply": "2022-09-14T09:38:35.509866Z"
        },
        "papermill": {
          "duration": 1.360045,
          "end_time": "2022-09-14T09:38:35.513598",
          "exception": false,
          "start_time": "2022-09-14T09:38:34.153553",
          "status": "completed"
        },
        "tags": [],
        "colab": {
          "base_uri": "https://localhost:8080/",
          "height": 421
        },
        "id": "c3be5f16",
        "outputId": "7147b9e7-dbde-4f0a-af13-8fcb2d5b9471"
      },
      "outputs": [
        {
          "output_type": "execute_result",
          "data": {
            "text/plain": [
              "<matplotlib.legend.Legend at 0x7f047536a710>"
            ]
          },
          "metadata": {},
          "execution_count": 51
        },
        {
          "output_type": "display_data",
          "data": {
            "text/plain": [
              "<Figure size 720x432 with 1 Axes>"
            ],
            "image/png": "[encoded data removed]"
          },
          "metadata": {
            "needs_background": "light"
          }
        }
      ],
      "source": [
        "plt.figure(figsize=(10,6))\n",
        "warnings.filterwarnings('ignore')\n",
        "\n",
        "sns.distplot(BMI_2.Income[df1.Diabetes_binary == 0], color=\"y\", label=\"Không bệnh \" )\n",
        "sns.distplot(BMI_2.Income[df1.Diabetes_binary == 1], color=\"m\", label=\"Có bệnh \" )\n",
        "plt.title(\"Mức thu nhập và bệnh TD \")\n",
        "plt.xticks(df1[\"Income\"].unique())\n",
        "\n",
        "plt.legend()"
      ]
    },
    {
      "cell_type": "markdown",
      "id": "4e1b2ee9",
      "metadata": {
        "papermill": {
          "duration": 0.040199,
          "end_time": "2022-09-14T09:38:35.594213",
          "exception": false,
          "start_time": "2022-09-14T09:38:35.554014",
          "status": "completed"
        },
        "tags": [],
        "id": "4e1b2ee9"
      },
      "source": [
        "* Những người có thu nhập thấp hơn có nhiều nguy cơ mắc bệnh tiểu đường hơn những người có thu nhập cao hơn"
      ]
    },
    {
      "cell_type": "markdown",
      "id": "1f501fac",
      "metadata": {
        "papermill": {
          "duration": 0.04113,
          "end_time": "2022-09-14T09:38:35.907194",
          "exception": false,
          "start_time": "2022-09-14T09:38:35.866064",
          "status": "completed"
        },
        "tags": [],
        "id": "1f501fac"
      },
      "source": [
        "**Độ tuổi**"
      ]
    },
    {
      "cell_type": "code",
      "execution_count": 52,
      "id": "c832c74c",
      "metadata": {
        "execution": {
          "iopub.execute_input": "2022-09-14T09:38:35.993817Z",
          "iopub.status.busy": "2022-09-14T09:38:35.993104Z",
          "iopub.status.idle": "2022-09-14T09:38:36.038822Z",
          "shell.execute_reply": "2022-09-14T09:38:36.037484Z"
        },
        "papermill": {
          "duration": 0.093102,
          "end_time": "2022-09-14T09:38:36.041463",
          "exception": false,
          "start_time": "2022-09-14T09:38:35.948361",
          "status": "completed"
        },
        "tags": [],
        "colab": {
          "base_uri": "https://localhost:8080/",
          "height": 488
        },
        "id": "c832c74c",
        "outputId": "30bacb1d-2e19-43ce-d2f9-e611832b6393"
      },
      "outputs": [
        {
          "output_type": "execute_result",
          "data": {
            "text/plain": [
              "Diabetes_binary    0.0   1.0\n",
              "Age                         \n",
              "1.0               5433    78\n",
              "2.0               6924   140\n",
              "3.0               9709   314\n",
              "4.0              11604   625\n",
              "5.0              12991  1049\n",
              "6.0              15539  1741\n",
              "7.0              20049  3072\n",
              "8.0              23031  4241\n",
              "9.0              23997  5681\n",
              "10.0             22610  6483\n",
              "11.0             16903  5090\n",
              "12.0             11996  3383\n",
              "13.0             13591  3200"
            ],
            "text/html": [
              "\n",
              "  <div id=\"df-312b4b5a-6585-4e47-b255-e16cc710d6ac\">\n",
              "    <div class=\"colab-df-container\">\n",
              "      <div>\n",
              "<style scoped>\n",
              "    .dataframe tbody tr th:only-of-type {\n",
              "        vertical-align: middle;\n",
              "    }\n",
              "\n",
              "    .dataframe tbody tr th {\n",
              "        vertical-align: top;\n",
              "    }\n",
              "\n",
              "    .dataframe thead th {\n",
              "        text-align: right;\n",
              "    }\n",
              "</style>\n",
              "<table border=\"1\" class=\"dataframe\">\n",
              "  <thead>\n",
              "    <tr style=\"text-align: right;\">\n",
              "      <th>Diabetes_binary</th>\n",
              "      <th>0.0</th>\n",
              "      <th>1.0</th>\n",
              "    </tr>\n",
              "    <tr>\n",
              "      <th>Age</th>\n",
              "      <th></th>\n",
              "      <th></th>\n",
              "    </tr>\n",
              "  </thead>\n",
              "  <tbody>\n",
              "    <tr>\n",
              "      <th>1.0</th>\n",
              "      <td>5433</td>\n",
              "      <td>78</td>\n",
              "    </tr>\n",
              "    <tr>\n",
              "      <th>2.0</th>\n",
              "      <td>6924</td>\n",
              "      <td>140</td>\n",
              "    </tr>\n",
              "    <tr>\n",
              "      <th>3.0</th>\n",
              "      <td>9709</td>\n",
              "      <td>314</td>\n",
              "    </tr>\n",
              "    <tr>\n",
              "      <th>4.0</th>\n",
              "      <td>11604</td>\n",
              "      <td>625</td>\n",
              "    </tr>\n",
              "    <tr>\n",
              "      <th>5.0</th>\n",
              "      <td>12991</td>\n",
              "      <td>1049</td>\n",
              "    </tr>\n",
              "    <tr>\n",
              "      <th>6.0</th>\n",
              "      <td>15539</td>\n",
              "      <td>1741</td>\n",
              "    </tr>\n",
              "    <tr>\n",
              "      <th>7.0</th>\n",
              "      <td>20049</td>\n",
              "      <td>3072</td>\n",
              "    </tr>\n",
              "    <tr>\n",
              "      <th>8.0</th>\n",
              "      <td>23031</td>\n",
              "      <td>4241</td>\n",
              "    </tr>\n",
              "    <tr>\n",
              "      <th>9.0</th>\n",
              "      <td>23997</td>\n",
              "      <td>5681</td>\n",
              "    </tr>\n",
              "    <tr>\n",
              "      <th>10.0</th>\n",
              "      <td>22610</td>\n",
              "      <td>6483</td>\n",
              "    </tr>\n",
              "    <tr>\n",
              "      <th>11.0</th>\n",
              "      <td>16903</td>\n",
              "      <td>5090</td>\n",
              "    </tr>\n",
              "    <tr>\n",
              "      <th>12.0</th>\n",
              "      <td>11996</td>\n",
              "      <td>3383</td>\n",
              "    </tr>\n",
              "    <tr>\n",
              "      <th>13.0</th>\n",
              "      <td>13591</td>\n",
              "      <td>3200</td>\n",
              "    </tr>\n",
              "  </tbody>\n",
              "</table>\n",
              "</div>\n",
              "      <button class=\"colab-df-convert\" onclick=\"convertToInteractive('df-312b4b5a-6585-4e47-b255-e16cc710d6ac')\"\n",
              "              title=\"Convert this dataframe to an interactive table.\"\n",
              "              style=\"display:none;\">\n",
              "        \n",
              "  <svg xmlns=\"http://www.w3.org/2000/svg\" height=\"24px\"viewBox=\"0 0 24 24\"\n",
              "       width=\"24px\">\n",
              "    <path d=\"M0 0h24v24H0V0z\" fill=\"none\"/>\n",
              "    <path d=\"M18.56 5.44l.94 2.06.94-2.06 2.06-.94-2.06-.94-.94-2.06-.94 2.06-2.06.94zm-11 1L8.5 8.5l.94-2.06 2.06-.94-2.06-.94L8.5 2.5l-.94 2.06-2.06.94zm10 10l.94 2.06.94-2.06 2.06-.94-2.06-.94-.94-2.06-.94 2.06-2.06.94z\"/><path d=\"M17.41 7.96l-1.37-1.37c-.4-.4-.92-.59-1.43-.59-.52 0-1.04.2-1.43.59L10.3 9.45l-7.72 7.72c-.78.78-.78 2.05 0 2.83L4 21.41c.39.39.9.59 1.41.59.51 0 1.02-.2 1.41-.59l7.78-7.78 2.81-2.81c.8-.78.8-2.07 0-2.86zM5.41 20L4 18.59l7.72-7.72 1.47 1.35L5.41 20z\"/>\n",
              "  </svg>\n",
              "      </button>\n",
              "      \n",
              "  <style>\n",
              "    .colab-df-container {\n",
              "      display:flex;\n",
              "      flex-wrap:wrap;\n",
              "      gap: 12px;\n",
              "    }\n",
              "\n",
              "    .colab-df-convert {\n",
              "      background-color: #E8F0FE;\n",
              "      border: none;\n",
              "      border-radius: 50%;\n",
              "      cursor: pointer;\n",
              "      display: none;\n",
              "      fill: #1967D2;\n",
              "      height: 32px;\n",
              "      padding: 0 0 0 0;\n",
              "      width: 32px;\n",
              "    }\n",
              "\n",
              "    .colab-df-convert:hover {\n",
              "      background-color: #E2EBFA;\n",
              "      box-shadow: 0px 1px 2px rgba(60, 64, 67, 0.3), 0px 1px 3px 1px rgba(60, 64, 67, 0.15);\n",
              "      fill: #174EA6;\n",
              "    }\n",
              "\n",
              "    [theme=dark] .colab-df-convert {\n",
              "      background-color: #3B4455;\n",
              "      fill: #D2E3FC;\n",
              "    }\n",
              "\n",
              "    [theme=dark] .colab-df-convert:hover {\n",
              "      background-color: #434B5C;\n",
              "      box-shadow: 0px 1px 3px 1px rgba(0, 0, 0, 0.15);\n",
              "      filter: drop-shadow(0px 1px 2px rgba(0, 0, 0, 0.3));\n",
              "      fill: #FFFFFF;\n",
              "    }\n",
              "  </style>\n",
              "\n",
              "      <script>\n",
              "        const buttonEl =\n",
              "          document.querySelector('#df-312b4b5a-6585-4e47-b255-e16cc710d6ac button.colab-df-convert');\n",
              "        buttonEl.style.display =\n",
              "          google.colab.kernel.accessAllowed ? 'block' : 'none';\n",
              "\n",
              "        async function convertToInteractive(key) {\n",
              "          const element = document.querySelector('#df-312b4b5a-6585-4e47-b255-e16cc710d6ac');\n",
              "          const dataTable =\n",
              "            await google.colab.kernel.invokeFunction('convertToInteractive',\n",
              "                                                     [key], {});\n",
              "          if (!dataTable) return;\n",
              "\n",
              "          const docLinkHtml = 'Like what you see? Visit the ' +\n",
              "            '<a target=\"_blank\" href=https://colab.research.google.com/notebooks/data_table.ipynb>data table notebook</a>'\n",
              "            + ' to learn more about interactive tables.';\n",
              "          element.innerHTML = '';\n",
              "          dataTable['output_type'] = 'display_data';\n",
              "          await google.colab.output.renderOutput(dataTable, element);\n",
              "          const docLink = document.createElement('div');\n",
              "          docLink.innerHTML = docLinkHtml;\n",
              "          element.appendChild(docLink);\n",
              "        }\n",
              "      </script>\n",
              "    </div>\n",
              "  </div>\n",
              "  "
            ]
          },
          "metadata": {},
          "execution_count": 52
        }
      ],
      "source": [
        "pd.crosstab(df1.Age,df1.Diabetes_binary)"
      ]
    },
    {
      "cell_type": "markdown",
      "source": [
        "**Độ tuổi cũng ảnh hưởng đến nguy cơ mất bệnh **"
      ],
      "metadata": {
        "id": "luy2dJXWzmhx"
      },
      "id": "luy2dJXWzmhx"
    },
    {
      "cell_type": "markdown",
      "id": "7c3f6af4",
      "metadata": {
        "papermill": {
          "duration": 0.041385,
          "end_time": "2022-09-14T09:38:36.124576",
          "exception": false,
          "start_time": "2022-09-14T09:38:36.083191",
          "status": "completed"
        },
        "tags": [],
        "id": "7c3f6af4"
      },
      "source": [
        "**Vận động khó khăn**"
      ]
    },
    {
      "cell_type": "code",
      "execution_count": 53,
      "id": "7f07dbbf",
      "metadata": {
        "execution": {
          "iopub.execute_input": "2022-09-14T09:38:36.210524Z",
          "iopub.status.busy": "2022-09-14T09:38:36.209812Z",
          "iopub.status.idle": "2022-09-14T09:38:36.250899Z",
          "shell.execute_reply": "2022-09-14T09:38:36.250019Z"
        },
        "papermill": {
          "duration": 0.086308,
          "end_time": "2022-09-14T09:38:36.253273",
          "exception": false,
          "start_time": "2022-09-14T09:38:36.166965",
          "status": "completed"
        },
        "tags": [],
        "colab": {
          "base_uri": "https://localhost:8080/",
          "height": 143
        },
        "id": "7f07dbbf",
        "outputId": "2490a1f6-dc25-4c01-dcfa-b7023a16b1a1"
      },
      "outputs": [
        {
          "output_type": "execute_result",
          "data": {
            "text/plain": [
              "DiffWalk            0.0    1.0\n",
              "Diabetes_binary               \n",
              "0.0              164866  29511\n",
              "1.0               21983  13114"
            ],
            "text/html": [
              "\n",
              "  <div id=\"df-7aed28fe-d2b8-414b-a633-1821238eac19\">\n",
              "    <div class=\"colab-df-container\">\n",
              "      <div>\n",
              "<style scoped>\n",
              "    .dataframe tbody tr th:only-of-type {\n",
              "        vertical-align: middle;\n",
              "    }\n",
              "\n",
              "    .dataframe tbody tr th {\n",
              "        vertical-align: top;\n",
              "    }\n",
              "\n",
              "    .dataframe thead th {\n",
              "        text-align: right;\n",
              "    }\n",
              "</style>\n",
              "<table border=\"1\" class=\"dataframe\">\n",
              "  <thead>\n",
              "    <tr style=\"text-align: right;\">\n",
              "      <th>DiffWalk</th>\n",
              "      <th>0.0</th>\n",
              "      <th>1.0</th>\n",
              "    </tr>\n",
              "    <tr>\n",
              "      <th>Diabetes_binary</th>\n",
              "      <th></th>\n",
              "      <th></th>\n",
              "    </tr>\n",
              "  </thead>\n",
              "  <tbody>\n",
              "    <tr>\n",
              "      <th>0.0</th>\n",
              "      <td>164866</td>\n",
              "      <td>29511</td>\n",
              "    </tr>\n",
              "    <tr>\n",
              "      <th>1.0</th>\n",
              "      <td>21983</td>\n",
              "      <td>13114</td>\n",
              "    </tr>\n",
              "  </tbody>\n",
              "</table>\n",
              "</div>\n",
              "      <button class=\"colab-df-convert\" onclick=\"convertToInteractive('df-7aed28fe-d2b8-414b-a633-1821238eac19')\"\n",
              "              title=\"Convert this dataframe to an interactive table.\"\n",
              "              style=\"display:none;\">\n",
              "        \n",
              "  <svg xmlns=\"http://www.w3.org/2000/svg\" height=\"24px\"viewBox=\"0 0 24 24\"\n",
              "       width=\"24px\">\n",
              "    <path d=\"M0 0h24v24H0V0z\" fill=\"none\"/>\n",
              "    <path d=\"M18.56 5.44l.94 2.06.94-2.06 2.06-.94-2.06-.94-.94-2.06-.94 2.06-2.06.94zm-11 1L8.5 8.5l.94-2.06 2.06-.94-2.06-.94L8.5 2.5l-.94 2.06-2.06.94zm10 10l.94 2.06.94-2.06 2.06-.94-2.06-.94-.94-2.06-.94 2.06-2.06.94z\"/><path d=\"M17.41 7.96l-1.37-1.37c-.4-.4-.92-.59-1.43-.59-.52 0-1.04.2-1.43.59L10.3 9.45l-7.72 7.72c-.78.78-.78 2.05 0 2.83L4 21.41c.39.39.9.59 1.41.59.51 0 1.02-.2 1.41-.59l7.78-7.78 2.81-2.81c.8-.78.8-2.07 0-2.86zM5.41 20L4 18.59l7.72-7.72 1.47 1.35L5.41 20z\"/>\n",
              "  </svg>\n",
              "      </button>\n",
              "      \n",
              "  <style>\n",
              "    .colab-df-container {\n",
              "      display:flex;\n",
              "      flex-wrap:wrap;\n",
              "      gap: 12px;\n",
              "    }\n",
              "\n",
              "    .colab-df-convert {\n",
              "      background-color: #E8F0FE;\n",
              "      border: none;\n",
              "      border-radius: 50%;\n",
              "      cursor: pointer;\n",
              "      display: none;\n",
              "      fill: #1967D2;\n",
              "      height: 32px;\n",
              "      padding: 0 0 0 0;\n",
              "      width: 32px;\n",
              "    }\n",
              "\n",
              "    .colab-df-convert:hover {\n",
              "      background-color: #E2EBFA;\n",
              "      box-shadow: 0px 1px 2px rgba(60, 64, 67, 0.3), 0px 1px 3px 1px rgba(60, 64, 67, 0.15);\n",
              "      fill: #174EA6;\n",
              "    }\n",
              "\n",
              "    [theme=dark] .colab-df-convert {\n",
              "      background-color: #3B4455;\n",
              "      fill: #D2E3FC;\n",
              "    }\n",
              "\n",
              "    [theme=dark] .colab-df-convert:hover {\n",
              "      background-color: #434B5C;\n",
              "      box-shadow: 0px 1px 3px 1px rgba(0, 0, 0, 0.15);\n",
              "      filter: drop-shadow(0px 1px 2px rgba(0, 0, 0, 0.3));\n",
              "      fill: #FFFFFF;\n",
              "    }\n",
              "  </style>\n",
              "\n",
              "      <script>\n",
              "        const buttonEl =\n",
              "          document.querySelector('#df-7aed28fe-d2b8-414b-a633-1821238eac19 button.colab-df-convert');\n",
              "        buttonEl.style.display =\n",
              "          google.colab.kernel.accessAllowed ? 'block' : 'none';\n",
              "\n",
              "        async function convertToInteractive(key) {\n",
              "          const element = document.querySelector('#df-7aed28fe-d2b8-414b-a633-1821238eac19');\n",
              "          const dataTable =\n",
              "            await google.colab.kernel.invokeFunction('convertToInteractive',\n",
              "                                                     [key], {});\n",
              "          if (!dataTable) return;\n",
              "\n",
              "          const docLinkHtml = 'Like what you see? Visit the ' +\n",
              "            '<a target=\"_blank\" href=https://colab.research.google.com/notebooks/data_table.ipynb>data table notebook</a>'\n",
              "            + ' to learn more about interactive tables.';\n",
              "          element.innerHTML = '';\n",
              "          dataTable['output_type'] = 'display_data';\n",
              "          await google.colab.output.renderOutput(dataTable, element);\n",
              "          const docLink = document.createElement('div');\n",
              "          docLink.innerHTML = docLinkHtml;\n",
              "          element.appendChild(docLink);\n",
              "        }\n",
              "      </script>\n",
              "    </div>\n",
              "  </div>\n",
              "  "
            ]
          },
          "metadata": {},
          "execution_count": 53
        }
      ],
      "source": [
        "pd.crosstab(df1.Diabetes_binary,df1.DiffWalk)"
      ]
    },
    {
      "cell_type": "code",
      "execution_count": 54,
      "id": "40020960",
      "metadata": {
        "execution": {
          "iopub.execute_input": "2022-09-14T09:38:36.337980Z",
          "iopub.status.busy": "2022-09-14T09:38:36.337186Z",
          "iopub.status.idle": "2022-09-14T09:38:36.589468Z",
          "shell.execute_reply": "2022-09-14T09:38:36.588235Z"
        },
        "papermill": {
          "duration": 0.297781,
          "end_time": "2022-09-14T09:38:36.592181",
          "exception": false,
          "start_time": "2022-09-14T09:38:36.294400",
          "status": "completed"
        },
        "tags": [],
        "colab": {
          "base_uri": "https://localhost:8080/",
          "height": 303
        },
        "id": "40020960",
        "outputId": "98213780-bbc4-445b-8def-d8e5fd9e1f2b"
      },
      "outputs": [
        {
          "output_type": "execute_result",
          "data": {
            "text/plain": [
              "<matplotlib.axes._subplots.AxesSubplot at 0x7f04753ca090>"
            ]
          },
          "metadata": {},
          "execution_count": 54
        },
        {
          "output_type": "display_data",
          "data": {
            "text/plain": [
              "<Figure size 360x288 with 1 Axes>"
            ],
            "image/png": "[encoded data removed]"
          },
          "metadata": {
            "needs_background": "light"
          }
        }
      ],
      "source": [
        "pd.crosstab(df1.Diabetes_binary,df1.DiffWalk).plot(kind='bar', figsize=(5,4))"
      ]
    },
    {
      "cell_type": "markdown",
      "source": [
        "**Người vận động khó khăn, ít vận động có nhiều nguy cơ bị bệnh hơn"
      ],
      "metadata": {
        "id": "OtD5-zhP0J7B"
      },
      "id": "OtD5-zhP0J7B"
    },
    {
      "cell_type": "code",
      "source": [],
      "metadata": {
        "id": "fMpt2WMc0TTk"
      },
      "id": "fMpt2WMc0TTk",
      "execution_count": 54,
      "outputs": []
    }
  ],
  "metadata": {
    "kernelspec": {
      "display_name": "Python 3",
      "language": "python",
      "name": "python3"
    },
    "language_info": {
      "codemirror_mode": {
        "name": "ipython",
        "version": 3
      },
      "file_extension": ".py",
      "mimetype": "text/x-python",
      "name": "python",
      "nbconvert_exporter": "python",
      "pygments_lexer": "ipython3",
      "version": "3.7.12"
    },
    "papermill": {
      "default_parameters": {},
      "duration": 290.195112,
      "end_time": "2022-09-14T09:42:28.934187",
      "environment_variables": {},
      "exception": null,
      "input_path": "__notebook__.ipynb",
      "output_path": "__notebook__.ipynb",
      "parameters": {},
      "start_time": "2022-09-14T09:37:38.739075",
      "version": "2.3.4"
    },
    "colab": {
      "provenance": [],
      "collapsed_sections": [
        "9fb2b00a",
        "16ac2b19"
      ]
    }
  },
  "nbformat": 4,
  "nbformat_minor": 5
}